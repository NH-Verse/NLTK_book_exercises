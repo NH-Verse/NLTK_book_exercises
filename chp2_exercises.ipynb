{
 "cells": [
  {
   "cell_type": "code",
   "execution_count": 15,
   "metadata": {},
   "outputs": [],
   "source": [
    "import nltk\n",
    "from nltk.corpus import gutenberg, brown, webtext\n",
    "\n",
    "from nltk.corpus import state_union\n",
    "\n",
    "from nltk.corpus import wordnet as wn\n",
    "\n",
    "from nltk.corpus import names\n",
    "\n",
    "from nltk.corpus import cmudict\n",
    "\n",
    "from nltk.corpus import stopwords\n",
    "\n",
    "import random\n",
    "\n",
    "from nltk.corpus import udhr"
   ]
  },
  {
   "attachments": {},
   "cell_type": "markdown",
   "metadata": {},
   "source": [
    "**1. Create a variable `phrase` containing a list of words. Review the operations described in the previous chapter, including addition, multiplication, indexing, slicing, and sorting.**"
   ]
  },
  {
   "cell_type": "code",
   "execution_count": 3,
   "metadata": {},
   "outputs": [
    {
     "name": "stdout",
     "output_type": "stream",
     "text": [
      "['snow', 'is', 'awesome', 'aint', 'it', '?!!!']\n",
      "['snow', 'is', 'awesome', 'aint', 'it', 'snow', 'is', 'awesome', 'aint', 'it', 'snow', 'is', 'awesome', 'aint', 'it']\n",
      "snow it\n",
      "['snow', 'is', 'awesome']\n",
      "['aint', 'awesome', 'is', 'it', 'snow']\n"
     ]
    }
   ],
   "source": [
    "phrase = ['snow', 'is', 'awesome', 'aint', 'it']\n",
    "\n",
    "print(phrase + ['?!!!'])\n",
    "print(phrase * 3 )\n",
    "print(phrase[0], phrase[-1])\n",
    "print(phrase[:3])\n",
    "print(sorted(phrase))"
   ]
  },
  {
   "attachments": {},
   "cell_type": "markdown",
   "metadata": {},
   "source": [
    "**2. Use the corpus module to explore `austen-persuasion.txt`. How many word tokens does this book have? How many word types?**"
   ]
  },
  {
   "cell_type": "code",
   "execution_count": 8,
   "metadata": {},
   "outputs": [
    {
     "name": "stdout",
     "output_type": "stream",
     "text": [
      "98171\n",
      "5739\n"
     ]
    }
   ],
   "source": [
    "austen_persuasion = gutenberg.words('austen-persuasion.txt')\n",
    "\n",
    "# Word Tokens\n",
    "print(len(austen_persuasion))\n",
    "\n",
    "# Word Types\n",
    "print(len(sorted(set(w.lower() for w in austen_persuasion if w.isalpha()))))"
   ]
  },
  {
   "attachments": {},
   "cell_type": "markdown",
   "metadata": {},
   "source": [
    "**3. Use the Brown corpus reader `nltk.corpus.brown.words()` or the Web text corpus reader `nltk.corpus.webtext.words()` to access some sample text in two different genres.**"
   ]
  },
  {
   "cell_type": "code",
   "execution_count": 15,
   "metadata": {},
   "outputs": [
    {
     "name": "stdout",
     "output_type": "stream",
     "text": [
      "['adventure', 'belles_lettres', 'editorial', 'fiction', 'government', 'hobbies', 'humor', 'learned', 'lore', 'mystery', 'news', 'religion', 'reviews', 'romance', 'science_fiction']\n",
      "['firefox.txt', 'grail.txt', 'overheard.txt', 'pirates.txt', 'singles.txt', 'wine.txt']\n"
     ]
    }
   ],
   "source": [
    "print(brown.categories())\n",
    "print(webtext.fileids())"
   ]
  },
  {
   "cell_type": "code",
   "execution_count": 22,
   "metadata": {},
   "outputs": [
    {
     "name": "stdout",
     "output_type": "stream",
     "text": [
      "Now that he knew himself to be self he was free to grok ever closer to his brothers , merge without let . Self's integrity was and is and ever had been . Mike stopped to cherish all his brother selves , the many threes-fulfilled on Mars , corporate and \n",
      "\n",
      "White guy : So , do you have any plans for this evening ? Asian girl : Yeah , being angry ! White guy : Oh , that sounds good . Guy # 1 : So this Jack guy is basically the luckiest man in the world . Guy #\n"
     ]
    }
   ],
   "source": [
    "print(' '.join(brown.words(categories='science_fiction')[:50]), \"\\n\")\n",
    "print(' '.join(webtext.words('overheard.txt')[:50]))"
   ]
  },
  {
   "attachments": {},
   "cell_type": "markdown",
   "metadata": {},
   "source": [
    "**4. Read in the texts of the *State of the Union* addresses, using the `state_union` corpus reader. Count occurrences of `men`, `women`, and `people` in each document. What has happened to the usage of these words over time?**"
   ]
  },
  {
   "cell_type": "code",
   "execution_count": 38,
   "metadata": {},
   "outputs": [
    {
     "name": "stdout",
     "output_type": "stream",
     "text": [
      "people: ['1945: 10', '1946: 49', '1947: 12', '1948: 22', '1949: 15', '1950: 15', '1951: 9', '1953: 17', '1954: 15', '1955: 26', '1956: 30', '1957: 11', '1958: 19', '1959: 11', '1960: 10', '1961: 10', '1962: 10', '1963: 15', '1964: 3', '1965: 30', '1966: 35', '1967: 25', '1968: 17', '1969: 6', '1970: 23', '1971: 31', '1972: 7', '1973: 9', '1974: 19', '1975: 13', '1976: 18', '1977: 17', '1978: 26', '1979: 15', '1980: 11', '1981: 11', '1982: 17', '1983: 19', '1984: 23', '1985: 12', '1986: 14', '1987: 24', '1988: 16', '1989: 13', '1990: 9', '1991: 26', '1992: 26', '1993: 45', '1994: 63', '1995: 73', '1996: 40', '1997: 30', '1998: 22', '1999: 22', '2000: 41', '2001: 26', '2002: 14', '2003: 33', '2004: 21', '2005: 18', '2006: 22'] \n",
      "\n",
      "men: ['1945: 2', '1946: 12', '1947: 7', '1948: 4', '1949: 2', '1950: 6', '1951: 8', '1953: 3', '1954: 2', '1955: 4', '1956: 2', '1957: 5', '1958: 2', '1959: 4', '1960: 2', '1961: 6', '1962: 6', '1963: 8', '1964: 3', '1965: 18', '1966: 12', '1967: 11', '1968: 4', '1969: 5', '1970: 2', '1971: 1', '1972: 1', '1976: 3', '1977: 2', '1980: 1', '1981: 1', '1982: 1', '1983: 3', '1984: 3', '1985: 1', '1986: 2', '1987: 1', '1988: 1', '1989: 2', '1990: 3', '1991: 9', '1992: 4', '1993: 1', '1994: 1', '1995: 1', '1996: 2', '1997: 1', '1998: 2', '1999: 2', '2000: 5', '2001: 4', '2002: 3', '2003: 6', '2004: 6', '2005: 8', '2006: 7'] \n",
      "\n",
      "women: ['1945: 2', '1946: 7', '1947: 2', '1948: 1', '1949: 1', '1950: 2', '1951: 2', '1956: 2', '1957: 2', '1958: 1', '1959: 1', '1962: 2', '1963: 5', '1964: 1', '1965: 3', '1966: 1', '1967: 1', '1969: 2', '1976: 1', '1977: 1', '1978: 1', '1979: 1', '1980: 2', '1981: 1', '1982: 1', '1983: 7', '1984: 5', '1985: 1', '1986: 2', '1989: 3', '1990: 2', '1991: 9', '1992: 4', '1993: 2', '1994: 1', '1995: 3', '1996: 3', '1997: 2', '1998: 2', '1999: 3', '2000: 6', '2001: 5', '2002: 5', '2003: 4', '2004: 8', '2005: 11', '2006: 7'] \n",
      "\n",
      "Men: ['1948: 1', '1965: 1', '1973: 1', '2004: 1'] \n",
      "\n",
      "People: ['1951: 1', '1971: 1', '1974: 1', '1975: 1', '1977: 2', '1980: 1', '1984: 4', '1988: 1', '1991: 1', '1992: 1', '1994: 3', '1996: 3', '1997: 1', '2001: 1'] \n",
      "\n",
      "Women: ['1982: 1', '2000: 1', '2001: 1', '2002: 1'] \n",
      "\n"
     ]
    },
    {
     "data": {
      "image/png": "[encoded data removed]",
      "text/plain": [
       "<Figure size 640x480 with 1 Axes>"
      ]
     },
     "metadata": {},
     "output_type": "display_data"
    },
    {
     "name": "stdout",
     "output_type": "stream",
     "text": [
      "       1945 1946 1947 1948 1949 1950 1951 1953 1954 1955 1956 1957 1958 1959 1960 1961 1962 1963 1964 1965 1966 1967 1968 1969 1970 1971 1972 1973 1974 1975 1976 1977 1978 1979 1980 1981 1982 1983 1984 1985 1986 1987 1988 1989 1990 1991 1992 1993 1994 1995 1996 1997 1998 1999 2000 2001 2002 2003 2004 2005 2006 \n",
      "   Men    0    0    0    1    0    0    0    0    0    0    0    0    0    0    0    0    0    0    0    1    0    0    0    0    0    0    0    1    0    0    0    0    0    0    0    0    0    0    0    0    0    0    0    0    0    0    0    0    0    0    0    0    0    0    0    0    0    0    1    0    0 \n",
      "People    0    0    0    0    0    0    1    0    0    0    0    0    0    0    0    0    0    0    0    0    0    0    0    0    0    1    0    0    1    1    0    2    0    0    1    0    0    0    4    0    0    0    1    0    0    1    1    0    3    0    3    1    0    0    0    1    0    0    0    0    0 \n",
      " Women    0    0    0    0    0    0    0    0    0    0    0    0    0    0    0    0    0    0    0    0    0    0    0    0    0    0    0    0    0    0    0    0    0    0    0    0    1    0    0    0    0    0    0    0    0    0    0    0    0    0    0    0    0    0    1    1    1    0    0    0    0 \n",
      "   men    2   12    7    4    2    6    8    3    2    4    2    5    2    4    2    6    6    8    3   18   12   11    4    5    2    1    1    0    0    0    3    2    0    0    1    1    1    3    3    1    2    1    1    2    3    9    4    1    1    1    2    1    2    2    5    4    3    6    6    8    7 \n",
      "people   10   49   12   22   15   15    9   17   15   26   30   11   19   11   10   10   10   15    3   30   35   25   17    6   23   31    7    9   19   13   18   17   26   15   11   11   17   19   23   12   14   24   16   13    9   26   26   45   63   73   40   30   22   22   41   26   14   33   21   18   22 \n",
      " women    2    7    2    1    1    2    2    0    0    0    2    2    1    1    0    0    2    5    1    3    1    1    0    2    0    0    0    0    0    0    1    1    1    1    2    1    1    7    5    1    2    0    0    3    2    9    4    2    1    3    3    2    2    3    6    5    5    4    8   11    7 \n"
     ]
    }
   ],
   "source": [
    "# print(state_union.fileids())\n",
    "\n",
    "st_un = nltk.ConditionalFreqDist((target, fileid[:4]) \n",
    "                                for fileid in state_union.fileids() \n",
    "                                for target in state_union.words(fileid) if target.lower() in ['men', 'women', 'people'])\n",
    "\n",
    "#for condition in st_un.conditions():\n",
    "    #print(f\"{condition}: {[f'{target} : {st_un[condition][target]}' for target in ['men', 'women', 'people']]}\")\n",
    "\n",
    "for condition in st_un.conditions():\n",
    "    print(f\"{condition}: {sorted([f'{event}: {st_un[condition][event]}' for event in st_un[condition]])}\", \"\\n\")\n",
    "\n",
    "st_un.plot()\n",
    "st_un.tabulate()"
   ]
  },
  {
   "attachments": {},
   "cell_type": "markdown",
   "metadata": {},
   "source": [
    "**5. Investigate the holonym-meronym relations for some nouns. Remember that there are three kinds of holonym-meronym relation, so you need to use: `member_meronyms()`, `part_meronyms()`, `substance_meronyms()`, `member_holonyms()`, `part_holonyms()`, and `substance_holonyms()`.**"
   ]
  },
  {
   "cell_type": "code",
   "execution_count": 56,
   "metadata": {},
   "outputs": [
    {
     "name": "stdout",
     "output_type": "stream",
     "text": [
      "third_gear.n.01 part_holonyms: [Synset('car.n.01')]\n",
      "stabilizer_bar.n.01 part_holonyms: [Synset('car.n.01'), Synset('truck.n.01')]\n",
      "pod.n.04 part_holonyms: [Synset('airplane.n.01')]\n",
      "navigation_light.n.01 part_holonyms: [Synset('airplane.n.01')]\n",
      "car.n.01 part_meronyms: [Synset('accelerator.n.01'), Synset('air_bag.n.01'), Synset('auto_accessory.n.01'), Synset('automobile_engine.n.01'), Synset('automobile_horn.n.01'), Synset('buffer.n.06'), Synset('bumper.n.02'), Synset('car_door.n.01'), Synset('car_mirror.n.01'), Synset('car_seat.n.01'), Synset('car_window.n.01'), Synset('fender.n.01'), Synset('first_gear.n.01'), Synset('floorboard.n.02'), Synset('gasoline_engine.n.01'), Synset('glove_compartment.n.01'), Synset('grille.n.02'), Synset('high_gear.n.01'), Synset('hood.n.09'), Synset('luggage_compartment.n.01'), Synset('rear_window.n.01'), Synset('reverse.n.02'), Synset('roof.n.02'), Synset('running_board.n.01'), Synset('stabilizer_bar.n.01'), Synset('sunroof.n.01'), Synset('tail_fin.n.02'), Synset('third_gear.n.01'), Synset('window.n.02')]\n",
      "car.n.02 part_meronyms: [Synset('suspension.n.05')]\n",
      "car.n.02 member_holonyms: [Synset('train.n.01')] \n",
      "\n",
      "car.n.03 part_holonyms: [Synset('airship.n.01')]\n",
      "car.n.04 part_holonyms: [Synset('elevator.n.01')]\n",
      "cable_car.n.01 part_holonyms: [Synset('cable_railway.n.01')]\n",
      "computer.n.01 part_meronyms: [Synset('busbar.n.01'), Synset('cathode-ray_tube.n.01'), Synset('central_processing_unit.n.01'), Synset('chip.n.07'), Synset('computer_accessory.n.01'), Synset('computer_circuit.n.01'), Synset('data_converter.n.01'), Synset('disk_cache.n.01'), Synset('diskette.n.01'), Synset('hardware.n.03'), Synset('keyboard.n.01'), Synset('memory.n.04'), Synset('monitor.n.04'), Synset('peripheral.n.01')]\n",
      "computer.n.01 part_holonyms: [Synset('platform.n.03')]\n",
      "hood.n.09 part_meronyms: [Synset('hood_ornament.n.01')]\n",
      "hood.n.09 part_holonyms: [Synset('airplane.n.01'), Synset('car.n.01')]\n",
      "wing.n.01 part_meronyms: [Synset('bastard_wing.n.01'), Synset('flight_feather.n.01')]\n",
      "wing.n.01 part_holonyms: [Synset('angel.n.01'), Synset('bat.n.01'), Synset('bird.n.01'), Synset('insect.n.01')]\n",
      "wing.n.02 part_meronyms: [Synset('aileron.n.01'), Synset('flap.n.05'), Synset('rib.n.01')]\n",
      "wing.n.02 part_holonyms: [Synset('airplane.n.01')]\n",
      "wing.n.04 member_meronyms: [Synset('squadron.n.02')]\n",
      "wing.n.04 part_holonyms: [Synset('division.n.09')]\n",
      "wing.n.09 part_holonyms: [Synset('bird.n.02')]\n",
      "fender.n.01 part_holonyms: [Synset('car.n.01')]\n",
      "annex.n.01 part_holonyms: [Synset('building.n.01')]\n",
      "air_bag.n.01 part_holonyms: [Synset('car.n.01')]\n",
      "data_converter.n.01 part_holonyms: [Synset('computer.n.01')]\n",
      "floorboard.n.02 part_holonyms: [Synset('car.n.01')]\n",
      "escape_hatch.n.01 part_holonyms: [Synset('airplane.n.01'), Synset('submarine.n.01')]\n",
      "cathode-ray_tube.n.01 part_meronyms: [Synset('electron_gun.n.01'), Synset('screen.n.03')]\n",
      "cathode-ray_tube.n.01 part_holonyms: [Synset('computer.n.01'), Synset('oscilloscope.n.01'), Synset('television.n.02')]\n",
      "memory.n.04 part_meronyms: [Synset('register.n.04')]\n",
      "memory.n.04 part_holonyms: [Synset('computer.n.01')]\n",
      "third_base.n.02 member_holonyms: [Synset('baseball_team.n.01')] \n",
      "\n",
      "chip.n.07 part_meronyms: [Synset('integrated_circuit.n.01')]\n",
      "chip.n.07 part_holonyms: [Synset('computer.n.01')]\n",
      "monitor.n.04 part_meronyms: [Synset('oscilloscope.n.01')]\n",
      "monitor.n.04 part_holonyms: [Synset('computer.n.01')]\n",
      "airplane.n.01 part_meronyms: [Synset('accelerator.n.01'), Synset('escape_hatch.n.01'), Synset('fuselage.n.01'), Synset('hood.n.09'), Synset('landing_gear.n.01'), Synset('navigation_light.n.01'), Synset('pod.n.04'), Synset('radome.n.01'), Synset('windshield.n.01'), Synset('wing.n.02')]\n",
      "central_processing_unit.n.01 part_meronyms: [Synset('cpu_board.n.01')]\n",
      "central_processing_unit.n.01 part_holonyms: [Synset('computer.n.01')]\n",
      "diskette.n.01 part_holonyms: [Synset('computer.n.01')]\n",
      "peripheral.n.01 part_holonyms: [Synset('computer.n.01')]\n",
      "gasoline.n.01 substance_holonyms: [Synset('gasohol.n.01')]\n",
      "accelerator.n.01 part_holonyms: [Synset('airplane.n.01'), Synset('car.n.01')]\n",
      "natural_gas.n.01 substance_meronyms: [Synset('methane.n.01')]\n",
      "luggage_compartment.n.01 part_holonyms: [Synset('car.n.01')]\n",
      "radome.n.01 part_holonyms: [Synset('airplane.n.01')]\n",
      "vertical_stabilizer.n.01 part_holonyms: [Synset('vertical_tail.n.01')]\n",
      "tail_fin.n.02 part_holonyms: [Synset('car.n.01')]\n",
      "landing_gear.n.01 part_meronyms: [Synset('nosewheel.n.01')]\n",
      "landing_gear.n.01 part_holonyms: [Synset('airplane.n.01')]\n",
      "library.n.01 part_holonyms: [Synset('house.n.01')]\n",
      "library.n.03 part_meronyms: [Synset('carrel.n.02'), Synset('reading_room.n.01'), Synset('stacks.n.02')]\n",
      "library.n.04 part_meronyms: [Synset('cataloged_procedure.n.01'), Synset('library_program.n.01'), Synset('library_routine.n.01')]\n",
      "bus.n.01 part_meronyms: [Synset('roof.n.02'), Synset('window.n.02')]\n",
      "bus.n.01 member_holonyms: [Synset('fleet.n.02')] \n",
      "\n",
      "busbar.n.01 part_holonyms: [Synset('computer.n.01'), Synset('local_area_network.n.01'), Synset('power_station.n.01')]\n",
      "shop.n.01 part_meronyms: [Synset('shopfront.n.01')]\n",
      "reverse.n.02 part_holonyms: [Synset('car.n.01')]\n",
      "horn.n.02 substance_meronyms: [Synset('bone.n.01')]\n",
      "horn.n.02 part_holonyms: [Synset('bull.n.01'), Synset('goat.n.01'), Synset('ram.n.05')]\n",
      "horn.n.04 part_holonyms: [Synset('stock_saddle.n.01')]\n",
      "horn.n.07 substance_meronyms: [Synset('keratin.n.01')]\n",
      "automobile_horn.n.01 part_meronyms: [Synset('horn_button.n.01')]\n",
      "automobile_horn.n.01 part_holonyms: [Synset('car.n.01')]\n",
      "sunroof.n.01 part_holonyms: [Synset('car.n.01')]\n",
      "loft.n.02 part_holonyms: [Synset('house.n.01')]\n",
      "attic.n.04 part_holonyms: [Synset('entablature.n.01')]\n",
      "owl.n.01 member_holonyms: [Synset('strigiformes.n.01')] \n",
      "\n",
      "computer_circuit.n.01 part_holonyms: [Synset('computer.n.01')]\n",
      "porch.n.01 part_holonyms: [Synset('house.n.01')]\n",
      "car_seat.n.01 part_meronyms: [Synset('back.n.08'), Synset('headrest.n.01'), Synset('seat_belt.n.01')]\n",
      "car_seat.n.01 part_holonyms: [Synset('car.n.01')]\n",
      "high_gear.n.01 part_holonyms: [Synset('car.n.01')]\n",
      "high.n.02 part_holonyms: [Synset('anticyclone.n.01')]\n",
      "accelerator.n.02 part_holonyms: [Synset('fuel_system.n.01')]\n",
      "tail_fin.n.03 part_holonyms: [Synset('fish.n.01')]\n",
      "roof.n.01 part_meronyms: [Synset('eaves.n.01'), Synset('roof_peak.n.01')]\n",
      "roof.n.01 part_holonyms: [Synset('building.n.01')]\n",
      "roof.n.02 part_holonyms: [Synset('bus.n.01'), Synset('car.n.01'), Synset('truck.n.01')]\n",
      "roof.n.03 part_holonyms: [Synset('cave.n.01')]\n",
      "rear_window.n.01 part_holonyms: [Synset('car.n.01')]\n",
      "wicket.n.04 part_meronyms: [Synset('stump.n.03')]\n",
      "grille.n.02 part_holonyms: [Synset('car.n.01')]\n",
      "disk_cache.n.01 part_holonyms: [Synset('computer.n.01')]\n",
      "car_mirror.n.01 part_holonyms: [Synset('car.n.01')]\n",
      "computer_accessory.n.01 part_holonyms: [Synset('computer.n.01')]\n",
      "car_window.n.01 part_holonyms: [Synset('car.n.01')]\n",
      "first_gear.n.01 part_holonyms: [Synset('car.n.01')]\n",
      "hood.n.02 part_holonyms: [Synset('plant.n.02')]\n",
      "hood.n.04 part_holonyms: [Synset('camera.n.01'), Synset('television_camera.n.01')]\n",
      "fuselage.n.01 part_meronyms: [Synset('porthole.n.01'), Synset('tail.n.07')]\n",
      "fuselage.n.01 part_holonyms: [Synset('airplane.n.01')]\n",
      "buffer.n.01 substance_holonyms: [Synset('buffer_solution.n.01')]\n",
      "fender.n.02 part_holonyms: [Synset('locomotive.n.01')]\n",
      "buffer.n.04 part_holonyms: [Synset('random-access_memory.n.01')]\n",
      "buffer.n.05 part_meronyms: [Synset('buffing_wheel.n.01')]\n",
      "buffer.n.06 part_holonyms: [Synset('car.n.01')]\n",
      "louver.n.01 part_holonyms: [Synset('jalousie.n.02')]\n",
      "fin.n.05 part_holonyms: [Synset('ship.n.01')]\n",
      "fin.n.06 part_meronyms: [Synset('ray.n.06')]\n",
      "fin.n.06 part_holonyms: [Synset('fish.n.01')]\n",
      "auto_accessory.n.01 part_holonyms: [Synset('car.n.01')]\n",
      "hardware.n.03 part_holonyms: [Synset('computer.n.01')]\n",
      "gasoline_engine.n.01 part_meronyms: [Synset('inlet_manifold.n.01')]\n",
      "gasoline_engine.n.01 part_holonyms: [Synset('car.n.01')]\n",
      "house.n.01 part_meronyms: [Synset('library.n.01'), Synset('loft.n.02'), Synset('porch.n.01'), Synset('study.n.05')]\n",
      "house.n.04 part_meronyms: [Synset('claque.n.01')]\n",
      "sign_of_the_zodiac.n.01 part_holonyms: [Synset('zodiac.n.01')]\n",
      "theater.n.01 part_meronyms: [Synset('box_office.n.02'), Synset('circle.n.07'), Synset('dressing_room.n.01'), Synset('greenroom.n.01'), Synset('orchestra.n.02'), Synset('orchestra_pit.n.01'), Synset('parquet.n.02'), Synset('parquet_circle.n.01'), Synset('stage.n.03'), Synset('standing_room.n.01'), Synset('theater_stage.n.01'), Synset('tiered_seat.n.01')]\n",
      "bumper.n.02 part_meronyms: [Synset('bumper_guard.n.01')]\n",
      "bumper.n.02 part_holonyms: [Synset('car.n.01'), Synset('truck.n.01')]\n",
      "car_door.n.01 part_meronyms: [Synset('armrest.n.01'), Synset('doorlock.n.01'), Synset('hinge.n.01')]\n",
      "car_door.n.01 part_holonyms: [Synset('car.n.01')]\n",
      "study.n.05 part_holonyms: [Synset('house.n.01')]\n",
      "trunk.n.01 part_meronyms: [Synset('bark.n.01')]\n",
      "trunk.n.01 part_holonyms: [Synset('tree.n.01')]\n",
      "trunk.n.02 part_meronyms: [Synset('trunk_lid.n.01')]\n",
      "torso.n.01 part_meronyms: [Synset('abdomen.n.01'), Synset('back.n.01'), Synset('belly.n.02'), Synset('buttock.n.01'), Synset('buttocks.n.01'), Synset('diaphragm.n.02'), Synset('haunch.n.01'), Synset('hip.n.01'), Synset('loins.n.02'), Synset('middle.n.03'), Synset('serratus.n.01'), Synset('shoulder.n.01'), Synset('shoulder.n.03'), Synset('side.n.03'), Synset('spare_tire.n.01'), Synset('thorax.n.02'), Synset('waist.n.01')]\n",
      "torso.n.01 part_holonyms: [Synset('body.n.01')]\n",
      "proboscis.n.02 part_holonyms: [Synset('elephant.n.01'), Synset('mammoth.n.01')]\n",
      "running_board.n.01 part_holonyms: [Synset('car.n.01')]\n",
      "windshield.n.01 part_holonyms: [Synset('airplane.n.01'), Synset('motor_vehicle.n.01'), Synset('motorboat.n.01')]\n",
      "glove_compartment.n.01 part_holonyms: [Synset('car.n.01')]\n",
      "reverse.n.04 part_holonyms: [Synset('coin.n.01')]\n",
      "keyboard.n.01 part_meronyms: [Synset('action.n.07')]\n",
      "keyboard.n.01 member_meronyms: [Synset('key.n.15')]\n",
      "keyboard.n.01 part_holonyms: [Synset('computer.n.01'), Synset('organ.n.05'), Synset('piano.n.01'), Synset('terminal.n.04'), Synset('typesetting_machine.n.01'), Synset('typewriter.n.01')]\n",
      "pod.n.03 member_meronyms: [Synset('cetacean.n.01'), Synset('pinniped_mammal.n.01')]\n",
      "automobile_engine.n.01 part_meronyms: [Synset('exhaust.n.02')]\n",
      "automobile_engine.n.01 part_holonyms: [Synset('car.n.01')]\n",
      "low.n.01 part_holonyms: [Synset('cyclone.n.01')]\n",
      "window.n.01 part_meronyms: [Synset('casing.n.03'), Synset('mullion.n.01'), Synset('pane.n.01'), Synset('sash.n.01'), Synset('sash_fastener.n.01'), Synset('window_frame.n.01'), Synset('windowpane.n.01')]\n",
      "window.n.01 part_holonyms: [Synset('building.n.01')]\n",
      "window.n.02 part_holonyms: [Synset('bus.n.01'), Synset('car.n.01')]\n",
      "window.n.03 part_holonyms: [Synset('window_envelope.n.01')]\n",
      "windowpane.n.01 part_holonyms: [Synset('window.n.01')]\n",
      "window.n.08 part_holonyms: [Synset('computer_screen.n.01')]\n",
      "accelerator.n.04 part_meronyms: [Synset('storage_ring.n.01')]\n",
      "gun.n.01 part_meronyms: [Synset('action.n.07'), Synset('barrel.n.01'), Synset('cartridge_ejector.n.01'), Synset('cartridge_extractor.n.01'), Synset('cartridge_holder.n.01'), Synset('firing_chamber.n.01'), Synset('gun_muzzle.n.01'), Synset('gun_trigger.n.01'), Synset('gunlock.n.01'), Synset('gunsight.n.01'), Synset('safety_catch.n.01'), Synset('stock.n.03')]\n",
      "artillery.n.01 part_meronyms: [Synset('stock.n.03')]\n",
      "artillery.n.01 part_holonyms: [Synset('battery.n.03')]\n",
      "monitor.n.05 part_holonyms: [Synset('television.n.02')]\n",
      "monitor.n.07 member_holonyms: [Synset('varanus.n.01')] \n",
      "\n",
      "first_base.n.02 member_holonyms: [Synset('baseball_team.n.01')] \n",
      "\n"
     ]
    }
   ],
   "source": [
    "# How I found Some Nouns:\n",
    "# for synset in wn.synsets('computer'):\n",
    "#    print(synset.name(), ':', synset.definition())\n",
    "# also with the help wn.synset(noun).lemmas() then lemma.name()\n",
    "\n",
    "some_nouns = ['third_gear', 'stabilizer_bar', 'fuel_pod', 'navigation_light', 'car', 'electronic_computer', 'cowl', \n",
    "'wing', 'air_bag', 'data_converter', 'machine', 'floorboard', 'escape_hatch', 'CRT', 'memory', 'third', 'chip', \n",
    "'monitoring_device', 'plane', 'CPU', 'silicon_chip', 'floppy', 'peripheral', 'gas', 'automobile_trunk', 'airplane', \n",
    "'data_processor', 'cowling', 'radome', 'tailfin', 'landing_gear', 'library', 'bus', 'store', 'motorcar', 'reverse_gear', \n",
    "'horn', 'sunroof', 'bonnet', 'loft', 'attic', 'hooter', 'computer_circuit', 'peripheral_device', 'porch', 'car_seat', \n",
    "'high_gear', 'high', 'storage', 'throttle', 'tail_fin', 'memory_board', 'automobile_horn', 'roof', 'rear_window', \n",
    "'computer_peripheral', 'anti-sway_bar', 'automobile', 'central_processing_unit', 'grille', 'disk_cache', 'car_mirror', \n",
    "'micro_chip', 'information_processing_system', 'computer_accessory', 'car_window', 'first_gear', 'hood', 'low_gear', \n",
    "'car_horn', 'radiator_grille', 'cathode-ray_tube', 'fuselage', 'computer_memory', 'computer_storage', \n",
    "'computing_machine', 'buffer', 'accelerator_pedal', 'gas_pedal', 'fin', 'auto_accessory', 'hardware', 'garret', \n",
    "'mainframe', 'floppy_disk', 'aeroplane', 'gasoline_engine', 'house', 'busbar', 'bumper', 'luggage_compartment', \n",
    "'microprocessor_chip', 'processor', 'motor_horn', 'car_door', 'auto', 'study', 'trunk', 'running_board', \n",
    "'windscreen', 'central_processor', 'glove_compartment', 'reverse', 'computer', 'keyboard', 'pod', 'automobile_engine', \n",
    "'microchip', 'low', 'window', 'sunshine-roof', 'computing_device', 'windshield', 'accelerator', 'gun', 'monitor', 'first', \n",
    "'computer_hardware', 'diskette', 'petrol_engine', 'fender', 'radar_dome', 'C.P.U.']\n",
    "\n",
    "dont_repeat = set()    \n",
    "\n",
    "for noun in some_nouns:\n",
    "    for synset in wn.synsets(noun):\n",
    "        if synset.name() not in dont_repeat:\n",
    "            dont_repeat.add(synset.name())\n",
    "            if len(synset.part_meronyms()) != 0:\n",
    "                print(f\"{synset.name()} part_meronyms:\", synset.part_meronyms())\n",
    "            if len(synset.substance_meronyms()) != 0:\n",
    "                print(f\"{synset.name()} substance_meronyms:\", synset.substance_meronyms())\n",
    "            if len(synset.member_meronyms()) != 0:\n",
    "                print(f\"{synset.name()} member_meronyms:\", synset.member_meronyms())\n",
    "            if len(synset.part_holonyms()) != 0:\n",
    "                print(f\"{synset.name()} part_holonyms:\", synset.part_holonyms())\n",
    "            if len(synset.substance_holonyms()) != 0:\n",
    "                print(f\"{synset.name()} substance_holonyms:\", synset.substance_holonyms())\n",
    "            if len(synset.member_holonyms()) != 0:\n",
    "                print(f\"{synset.name()} member_holonyms:\", synset.member_holonyms(), \"\\n\")\n",
    "        else:\n",
    "            pass\n"
   ]
  },
  {
   "attachments": {},
   "cell_type": "markdown",
   "metadata": {},
   "source": [
    "**6. In the discussion of comparative wordlists, we created an object called `translate` which you could look up using words in both German and Spanish in order to get corresponding words in English. What problem might arise with this approach? Can you suggest a way to avoid this problem?**  \n",
    "\n",
    "*A*:  \n",
    "If there are words with the same spelling in different languages then while updating the dict (e.g: `translate.update(dict(es2en))`) they will get overwritten  \n",
    "so words with the same spelling would be accessed in only one language  \n",
    "\n",
    "*solution*: We could add a suffix of the language ID:"
   ]
  },
  {
   "cell_type": "code",
   "execution_count": 62,
   "metadata": {},
   "outputs": [
    {
     "data": {
      "text/plain": [
       "{'ich-DE': 'I',\n",
       " 'du, Sie-DE': 'you (singular), thou',\n",
       " 'er-DE': 'he',\n",
       " 'wir-DE': 'we',\n",
       " 'ihr, Sie-DE': 'you (plural)',\n",
       " 'sie-DE': 'they',\n",
       " 'dieses-DE': 'this',\n",
       " 'jenes-DE': 'that',\n",
       " 'hier-DE': 'here',\n",
       " 'dort-DE': 'there',\n",
       " 'wer-DE': 'who',\n",
       " 'was-DE': 'what',\n",
       " 'wo-DE': 'where',\n",
       " 'wann-DE': 'when',\n",
       " 'wie-DE': 'how',\n",
       " 'nicht-DE': 'not',\n",
       " 'alle-DE': 'all',\n",
       " 'viele-DE': 'many',\n",
       " 'einige-DE': 'some',\n",
       " 'wenige-DE': 'few',\n",
       " 'andere-DE': 'other',\n",
       " 'eins-DE': 'one',\n",
       " 'zwei-DE': 'two',\n",
       " 'drei-DE': 'three',\n",
       " 'vier-DE': 'four',\n",
       " 'fünf-DE': 'five',\n",
       " 'groß-DE': 'big',\n",
       " 'lang-DE': 'long',\n",
       " 'breit, weit-DE': 'wide',\n",
       " 'dick-DE': 'thick',\n",
       " 'schwer-DE': 'heavy',\n",
       " 'klein-DE': 'small',\n",
       " 'kurz-DE': 'short',\n",
       " 'eng-DE': 'narrow',\n",
       " 'dünn-DE': 'thin',\n",
       " 'Frau-DE': 'woman',\n",
       " 'Mann-DE': 'man (adult male)',\n",
       " 'Mensch-DE': 'man (human being)',\n",
       " 'Kind-DE': 'child',\n",
       " 'Frau, Ehefrau-DE': 'wife',\n",
       " 'Mann, Ehemann-DE': 'husband',\n",
       " 'Mutter-DE': 'mother',\n",
       " 'Vater-DE': 'father',\n",
       " 'Tier-DE': 'animal',\n",
       " 'Fisch-DE': 'fish',\n",
       " 'Vogel-DE': 'bird',\n",
       " 'Hund-DE': 'dog',\n",
       " 'Laus-DE': 'louse',\n",
       " 'Schlange-DE': 'snake',\n",
       " 'Wurm-DE': 'worm',\n",
       " 'Baum-DE': 'tree',\n",
       " 'Wald-DE': 'forest',\n",
       " 'Stock-DE': 'stick',\n",
       " 'Frucht-DE': 'fruit',\n",
       " 'Samen-DE': 'seed',\n",
       " 'Blatt-DE': 'leaf',\n",
       " 'Wurzel-DE': 'root',\n",
       " 'Rinde-DE': 'bark (from tree)',\n",
       " 'Blume-DE': 'flower',\n",
       " 'Gras-DE': 'grass',\n",
       " 'Seil-DE': 'rope',\n",
       " 'Haut-DE': 'skin',\n",
       " 'Fleisch-DE': 'meat',\n",
       " 'Blut-DE': 'blood',\n",
       " 'Knochen-DE': 'bone',\n",
       " 'Fett-DE': 'fat (noun)',\n",
       " 'Ei-DE': 'egg',\n",
       " 'Horn-DE': 'horn',\n",
       " 'Schwanz-DE': 'tail',\n",
       " 'Feder-DE': 'feather',\n",
       " 'Haar-DE': 'hair',\n",
       " 'Kopf, Haupt-DE': 'head',\n",
       " 'Ohr-DE': 'ear',\n",
       " 'Auge-DE': 'eye',\n",
       " 'Nase-DE': 'nose',\n",
       " 'Mund-DE': 'mouth',\n",
       " 'Zahn-DE': 'tooth',\n",
       " 'Zunge-DE': 'tongue',\n",
       " 'Fingernagel-DE': 'fingernail',\n",
       " 'Fuß-DE': 'foot',\n",
       " 'Bein-DE': 'leg',\n",
       " 'Knie-DE': 'knee',\n",
       " 'Hand-DE': 'hand',\n",
       " 'Flügel-DE': 'wing',\n",
       " 'Bauch-DE': 'belly',\n",
       " 'Eingeweide, Innereien-DE': 'guts',\n",
       " 'Hals-DE': 'neck',\n",
       " 'Rücken-DE': 'back',\n",
       " 'Brust-DE': 'breast',\n",
       " 'Herz-DE': 'heart',\n",
       " 'Leber-DE': 'liver',\n",
       " 'trinken-DE': 'drink',\n",
       " 'essen-DE': 'eat',\n",
       " 'beißen-DE': 'bite',\n",
       " 'saugen-DE': 'suck',\n",
       " 'spucken-DE': 'spit',\n",
       " 'erbrechen-DE': 'vomit',\n",
       " 'blasen-DE': 'blow',\n",
       " 'atmen-DE': 'breathe',\n",
       " 'lachen-DE': 'laugh',\n",
       " 'sehen-DE': 'see',\n",
       " 'hören-DE': 'hear',\n",
       " 'wissen-DE': 'know (a fact)',\n",
       " 'denken-DE': 'think',\n",
       " 'riechen-DE': 'smell',\n",
       " 'fürchten-DE': 'fear',\n",
       " 'schlafen-DE': 'sleep',\n",
       " 'leben-DE': 'live',\n",
       " 'sterben-DE': 'die',\n",
       " 'töten-DE': 'kill',\n",
       " 'kämpfen-DE': 'fight',\n",
       " 'jagen-DE': 'hunt',\n",
       " 'schlagen-DE': 'hit',\n",
       " 'schneiden-DE': 'cut',\n",
       " 'spalten-DE': 'split',\n",
       " 'stechen-DE': 'stab',\n",
       " 'kratzen-DE': 'scratch',\n",
       " 'graben-DE': 'dig',\n",
       " 'schwimmen-DE': 'swim',\n",
       " 'fliegen-DE': 'fly (verb)',\n",
       " 'gehen-DE': 'walk',\n",
       " 'kommen-DE': 'come',\n",
       " 'liegen-DE': 'lie',\n",
       " 'sitzen-DE': 'sit',\n",
       " 'stehen-DE': 'stand',\n",
       " 'drehen-DE': 'turn',\n",
       " 'fallen-DE': 'fall',\n",
       " 'geben-DE': 'give',\n",
       " 'halten-DE': 'hold',\n",
       " 'quetschen-DE': 'squeeze',\n",
       " 'reiben-DE': 'rub',\n",
       " 'waschen-DE': 'wash',\n",
       " 'wischen-DE': 'wipe',\n",
       " 'ziehen-DE': 'pull',\n",
       " 'drücken-DE': 'push',\n",
       " 'werfen-DE': 'throw',\n",
       " 'binden-DE': 'tie',\n",
       " 'nähen-DE': 'sew',\n",
       " 'zählen-DE': 'count',\n",
       " 'sagen-DE': 'say',\n",
       " 'singen-DE': 'sing',\n",
       " 'spielen-DE': 'play',\n",
       " 'schweben-DE': 'float',\n",
       " 'fließen-DE': 'flow',\n",
       " 'frieren-DE': 'freeze',\n",
       " 'schwellen-DE': 'swell',\n",
       " 'Sonne-DE': 'sun',\n",
       " 'Mond-DE': 'moon',\n",
       " 'Stern-DE': 'star',\n",
       " 'Wasser-DE': 'water',\n",
       " 'Regen-DE': 'rain',\n",
       " 'Fluß-DE': 'river',\n",
       " 'See-DE': 'lake',\n",
       " 'Meer, See-DE': 'sea',\n",
       " 'Salz-DE': 'salt',\n",
       " 'Stein-DE': 'stone',\n",
       " 'Sand-DE': 'sand',\n",
       " 'Staub-DE': 'dust',\n",
       " 'Erde-DE': 'earth',\n",
       " 'Wolke-DE': 'cloud',\n",
       " 'Nebel-DE': 'fog',\n",
       " 'Himmel-DE': 'sky',\n",
       " 'Wind-DE': 'wind',\n",
       " 'Schnee-DE': 'snow',\n",
       " 'Eis-DE': 'ice',\n",
       " 'Rauch-DE': 'smoke',\n",
       " 'Feuer-DE': 'fire',\n",
       " 'Asche-DE': 'ashes',\n",
       " 'brennen-DE': 'burn',\n",
       " 'Straße-DE': 'road',\n",
       " 'Berg-DE': 'mountain',\n",
       " 'rot-DE': 'red',\n",
       " 'grün-DE': 'green',\n",
       " 'gelb-DE': 'yellow',\n",
       " 'weiß-DE': 'white',\n",
       " 'schwarz-DE': 'black',\n",
       " 'Nacht-DE': 'night',\n",
       " 'Tag-DE': 'day',\n",
       " 'Jahr-DE': 'year',\n",
       " 'warm-DE': 'warm',\n",
       " 'kalt-DE': 'cold',\n",
       " 'voll-DE': 'full',\n",
       " 'neu-DE': 'new',\n",
       " 'alt-DE': 'old',\n",
       " 'gut-DE': 'good',\n",
       " 'schlecht-DE': 'bad',\n",
       " 'verrottet-DE': 'rotten',\n",
       " 'schmutzig-DE': 'dirty',\n",
       " 'gerade-DE': 'straight',\n",
       " 'rund-DE': 'round',\n",
       " 'scharf-DE': 'sharp',\n",
       " 'stumpf-DE': 'dull',\n",
       " 'glatt-DE': 'smooth',\n",
       " 'nass, feucht-DE': 'wet',\n",
       " 'trocken-DE': 'dry',\n",
       " 'richtig-DE': 'correct',\n",
       " 'nah, nahe-DE': 'near',\n",
       " 'weit, fern-DE': 'far',\n",
       " 'rechts-DE': 'right',\n",
       " 'links-DE': 'left',\n",
       " 'bei, an-DE': 'at',\n",
       " 'in-DE': 'in',\n",
       " 'mit-DE': 'with',\n",
       " 'und-DE': 'and',\n",
       " 'wenn, falls, ob-DE': 'if',\n",
       " 'weil-DE': 'because',\n",
       " 'Name-DE': 'name',\n",
       " 'yo-ES': 'I',\n",
       " 'tú, usted-ES': 'you (singular), thou',\n",
       " 'él-ES': 'he',\n",
       " 'nosotros-ES': 'we',\n",
       " 'vosotros, ustedes-ES': 'you (plural)',\n",
       " 'ellos, ellas-ES': 'they',\n",
       " 'este-ES': 'this',\n",
       " 'ese, aquel-ES': 'that',\n",
       " 'aquí, acá-ES': 'here',\n",
       " 'ahí, allí, allá-ES': 'there',\n",
       " 'quien-ES': 'who',\n",
       " 'que-ES': 'what',\n",
       " 'donde-ES': 'where',\n",
       " 'cuando-ES': 'when',\n",
       " 'como-ES': 'how',\n",
       " 'no-ES': 'not',\n",
       " 'todo-ES': 'all',\n",
       " 'muchos-ES': 'many',\n",
       " 'algunos, unos-ES': 'some',\n",
       " 'poco-ES': 'few',\n",
       " 'otro-ES': 'other',\n",
       " 'uno-ES': 'one',\n",
       " 'dos-ES': 'two',\n",
       " 'tres-ES': 'three',\n",
       " 'cuatro-ES': 'four',\n",
       " 'cinco-ES': 'five',\n",
       " 'grande-ES': 'big',\n",
       " 'largo-ES': 'long',\n",
       " 'ancho-ES': 'wide',\n",
       " 'gordo-ES': 'thick',\n",
       " 'pesado-ES': 'heavy',\n",
       " 'pequeño-ES': 'small',\n",
       " 'corto-ES': 'short',\n",
       " 'estrecho, angosto-ES': 'narrow',\n",
       " 'delgado, flaco-ES': 'thin',\n",
       " 'mujer-ES': 'woman',\n",
       " 'hombre-ES': 'man (human being)',\n",
       " 'niño-ES': 'child',\n",
       " 'esposa, mujer-ES': 'wife',\n",
       " 'esposo, marido-ES': 'husband',\n",
       " 'madre-ES': 'mother',\n",
       " 'padre-ES': 'father',\n",
       " 'animal-ES': 'animal',\n",
       " 'pez, pescado-ES': 'fish',\n",
       " 'ave, pájaro-ES': 'bird',\n",
       " 'perro-ES': 'dog',\n",
       " 'piojo-ES': 'louse',\n",
       " 'serpiente, culebra-ES': 'snake',\n",
       " 'gusano-ES': 'worm',\n",
       " 'árbol-ES': 'tree',\n",
       " 'bosque-ES': 'forest',\n",
       " 'palo-ES': 'stick',\n",
       " 'fruta-ES': 'fruit',\n",
       " 'semilla-ES': 'seed',\n",
       " 'hoja-ES': 'leaf',\n",
       " 'raíz-ES': 'root',\n",
       " 'corteza-ES': 'bark (from tree)',\n",
       " 'flor-ES': 'flower',\n",
       " 'hierba, pasto-ES': 'grass',\n",
       " 'cuerda-ES': 'rope',\n",
       " 'piel-ES': 'skin',\n",
       " 'carne-ES': 'meat',\n",
       " 'sangre-ES': 'blood',\n",
       " 'hueso-ES': 'bone',\n",
       " 'grasa-ES': 'fat (noun)',\n",
       " 'huevo-ES': 'egg',\n",
       " 'cuerno-ES': 'horn',\n",
       " 'cola-ES': 'tail',\n",
       " 'pluma-ES': 'feather',\n",
       " 'cabello, pelo-ES': 'hair',\n",
       " 'cabeza-ES': 'head',\n",
       " 'oreja-ES': 'ear',\n",
       " 'ojo-ES': 'eye',\n",
       " 'nariz-ES': 'nose',\n",
       " 'boca-ES': 'mouth',\n",
       " 'diente-ES': 'tooth',\n",
       " 'lengua-ES': 'tongue',\n",
       " 'uña-ES': 'fingernail',\n",
       " 'pie-ES': 'foot',\n",
       " 'pierna-ES': 'leg',\n",
       " 'rodilla-ES': 'knee',\n",
       " 'mano-ES': 'hand',\n",
       " 'ala-ES': 'wing',\n",
       " 'barriga, vientre, panza-ES': 'belly',\n",
       " 'entrañas, tripas-ES': 'guts',\n",
       " 'cuello-ES': 'neck',\n",
       " 'espalda-ES': 'back',\n",
       " 'pecho, seno-ES': 'breast',\n",
       " 'corazón-ES': 'heart',\n",
       " 'hígado-ES': 'liver',\n",
       " 'beber, tomar-ES': 'drink',\n",
       " 'comer-ES': 'eat',\n",
       " 'morder-ES': 'bite',\n",
       " 'chupar-ES': 'suck',\n",
       " 'escupir-ES': 'spit',\n",
       " 'vomitar-ES': 'vomit',\n",
       " 'soplar-ES': 'blow',\n",
       " 'respirar-ES': 'breathe',\n",
       " 'reír-ES': 'laugh',\n",
       " 'ver-ES': 'see',\n",
       " 'oír-ES': 'hear',\n",
       " 'saber-ES': 'know (a fact)',\n",
       " 'pensar-ES': 'think',\n",
       " 'oler-ES': 'smell',\n",
       " 'temer-ES': 'fear',\n",
       " 'dormir-ES': 'sleep',\n",
       " 'vivir-ES': 'live',\n",
       " 'morir-ES': 'die',\n",
       " 'matar-ES': 'kill',\n",
       " 'pelear-ES': 'fight',\n",
       " 'cazar-ES': 'hunt',\n",
       " 'golpear-ES': 'hit',\n",
       " 'cortar-ES': 'cut',\n",
       " 'partir-ES': 'split',\n",
       " 'apuñalar-ES': 'stab',\n",
       " 'arañar, rascar-ES': 'scratch',\n",
       " 'cavar-ES': 'dig',\n",
       " 'nadar-ES': 'swim',\n",
       " 'volar-ES': 'fly (verb)',\n",
       " 'caminar-ES': 'walk',\n",
       " 'venir-ES': 'come',\n",
       " 'echarse, acostarse, tenderse-ES': 'lie',\n",
       " 'sentarse-ES': 'sit',\n",
       " 'estar de pie-ES': 'stand',\n",
       " 'voltear-ES': 'turn',\n",
       " 'caer-ES': 'fall',\n",
       " 'dar-ES': 'give',\n",
       " 'sostener-ES': 'hold',\n",
       " 'apretar-ES': 'squeeze',\n",
       " 'frotar-ES': 'rub',\n",
       " 'lavar-ES': 'wash',\n",
       " 'limpiar-ES': 'wipe',\n",
       " 'tirar-ES': 'throw',\n",
       " 'empujar-ES': 'push',\n",
       " 'atar-ES': 'tie',\n",
       " 'coser-ES': 'sew',\n",
       " 'contar-ES': 'count',\n",
       " 'decir-ES': 'say',\n",
       " 'cantar-ES': 'sing',\n",
       " 'jugar-ES': 'play',\n",
       " 'flotar-ES': 'float',\n",
       " 'fluir-ES': 'flow',\n",
       " 'helar-ES': 'freeze',\n",
       " 'hincharse-ES': 'swell',\n",
       " 'sol-ES': 'sun',\n",
       " 'luna-ES': 'moon',\n",
       " 'estrella-ES': 'star',\n",
       " 'agua-ES': 'water',\n",
       " 'lluvia-ES': 'rain',\n",
       " 'río-ES': 'river',\n",
       " 'lago-ES': 'lake',\n",
       " 'mar-ES': 'sea',\n",
       " 'sal-ES': 'salt',\n",
       " 'piedra-ES': 'stone',\n",
       " 'arena-ES': 'sand',\n",
       " 'polvo-ES': 'dust',\n",
       " 'tierra-ES': 'earth',\n",
       " 'nube-ES': 'cloud',\n",
       " 'niebla-ES': 'fog',\n",
       " 'cielo-ES': 'sky',\n",
       " 'viento-ES': 'wind',\n",
       " 'nieve-ES': 'snow',\n",
       " 'hielo-ES': 'ice',\n",
       " 'humo-ES': 'smoke',\n",
       " 'fuego-ES': 'fire',\n",
       " 'cenizas-ES': 'ashes',\n",
       " 'quemar-ES': 'burn',\n",
       " 'camino-ES': 'road',\n",
       " 'montaña-ES': 'mountain',\n",
       " 'rojo-ES': 'red',\n",
       " 'verde-ES': 'green',\n",
       " 'amarillo-ES': 'yellow',\n",
       " 'blanco-ES': 'white',\n",
       " 'negro-ES': 'black',\n",
       " 'noche-ES': 'night',\n",
       " 'día-ES': 'day',\n",
       " 'año-ES': 'year',\n",
       " 'cálido, tibio-ES': 'warm',\n",
       " 'frío-ES': 'cold',\n",
       " 'lleno-ES': 'full',\n",
       " 'nuevo-ES': 'new',\n",
       " 'viejo-ES': 'old',\n",
       " 'bueno-ES': 'good',\n",
       " 'malo-ES': 'bad',\n",
       " 'podrido-ES': 'rotten',\n",
       " 'sucio-ES': 'dirty',\n",
       " 'recto-ES': 'straight',\n",
       " 'redondo-ES': 'round',\n",
       " 'afilado-ES': 'sharp',\n",
       " 'desafilado-ES': 'dull',\n",
       " 'suave, liso-ES': 'smooth',\n",
       " 'mojado-ES': 'wet',\n",
       " 'seco-ES': 'dry',\n",
       " 'correcto-ES': 'correct',\n",
       " 'cerca-ES': 'near',\n",
       " 'lejos-ES': 'far',\n",
       " 'derecha-ES': 'right',\n",
       " 'izquierda-ES': 'left',\n",
       " 'a, en, ante-ES': 'at',\n",
       " 'en-ES': 'in',\n",
       " 'con-ES': 'with',\n",
       " 'y-ES': 'and',\n",
       " 'si-ES': 'if',\n",
       " 'porque-ES': 'because',\n",
       " 'nombre-ES': 'name'}"
      ]
     },
     "execution_count": 62,
     "metadata": {},
     "output_type": "execute_result"
    }
   ],
   "source": [
    "from nltk.corpus import swadesh\n",
    "\n",
    "translate = {key + '-DE': value for key, value in swadesh.entries(['de', 'en'])}\n",
    "translate.update({key + '-ES': value for key, value in swadesh.entries(['es', 'en'])})\n",
    "translate"
   ]
  },
  {
   "attachments": {},
   "cell_type": "markdown",
   "metadata": {},
   "source": [
    "**7. Use the concordance tool to study actual usage of the word *'however'* in the various texts we have been considering.**"
   ]
  },
  {
   "cell_type": "code",
   "execution_count": null,
   "metadata": {},
   "outputs": [],
   "source": [
    "for fileid in gutenberg.fileids():  # or webtext.fileids() or brown.categories() or etc\n",
    "    text = nltk.Text(gutenberg.words(fileid))\n",
    "    print(text.concordance('however'))"
   ]
  },
  {
   "attachments": {},
   "cell_type": "markdown",
   "metadata": {},
   "source": [
    "**8. Define a conditional frequency distribution over the *Names corpus* that allows you to see which *initial* letters are more frequent for males vs. females**"
   ]
  },
  {
   "cell_type": "code",
   "execution_count": 66,
   "metadata": {},
   "outputs": [
    {
     "data": {
      "image/png": "[encoded data removed]",
      "text/plain": [
       "<Figure size 640x480 with 1 Axes>"
      ]
     },
     "metadata": {},
     "output_type": "display_data"
    },
    {
     "data": {
      "text/plain": [
       "<AxesSubplot: xlabel='Samples', ylabel='Counts'>"
      ]
     },
     "execution_count": 66,
     "metadata": {},
     "output_type": "execute_result"
    }
   ],
   "source": [
    "initial_cfd = nltk.ConditionalFreqDist(\n",
    "    (gender[:-4], name[0])\n",
    "    for gender in names.fileids()\n",
    "    for name in names.words(gender)\n",
    ")\n",
    "initial_cfd.plot()"
   ]
  },
  {
   "attachments": {},
   "cell_type": "markdown",
   "metadata": {},
   "source": [
    "**9. Pick a pair of texts and study the differences between them, in terms of **vocabulary**, **vocabulary richness**, **genre**, etc. Can you find pairs of words which have quite different meanings across the two texts, such as *monstrous* in *Moby Dick* and in *Sense and Sensibility*?**"
   ]
  },
  {
   "cell_type": "code",
   "execution_count": 72,
   "metadata": {},
   "outputs": [
    {
     "name": "stdout",
     "output_type": "stream",
     "text": [
      "{'genre': 'mystery', 'vocabulary': 5983, 'vocabulary_richness': 0.10465462051111617} \n",
      " {'genre': 'romance', 'vocabulary': 7316, 'vocabulary_richness': 0.10448144868755534}\n",
      "Displaying 25 of 57 matches:\n",
      "peared in local newspapers after my little adventure in Marshall Field & Co. .\n",
      "women left '' , I said . She gave a little pout and said , `` I don't get off \n",
      "ainst the blanket . She had cried a little because she was frightened . She co\n",
      "lly frightening . She jumped as the little man now appeared at the window and \n",
      " to be looking at a point above the little window . Lauren said , `` Why can't\n",
      "nkingly . His eyes were threaded by little filaments of red as if tiny veins h\n",
      " There was another on this side , a little further down . There were many more\n",
      "window , and at least be safe for a little while and able to rest . There was \n",
      ", trying now to think it out , do a little planning . He looked down over the \n",
      "eep enough , he decided . There was little chance anyone would enter this shaf\n",
      "king for some information with very little to go on , Sheriff '' . He explaine\n",
      " grooms match with the obituaries a little later . It'll be a tedious job , bu\n",
      "He said vaguely , `` Well , it is a little legal matter , but nothing like tha\n",
      " the paper of April 2 . It told him little more than Mrs. Calhoun had remember\n",
      "'' -- said Mr. Skyros . `` I take a little time to think it over '' . It was a\n",
      "ngie knew , too . When things got a little out of hand , they very rapidly got\n",
      "niel-like dark eyes , and he felt a little ill . `` Look , my friend '' , he s\n",
      "know this and that , then we make a little deal , isn't it '' ? ? `` That's a \n",
      "s ! ! My man , he won't be around a little while , he just fixed me up with th\n",
      "ve to sell , see , I like to have a little ready cash '' . `` Oh , now , I don\n",
      " but when things had settled down a little . After this deal with the Bouvardi\n",
      "n , but he felt perhaps there was a little something in that , indeed . He rat\n",
      "-- scarcely to be resisted , a nice little profit with not much work involved \n",
      " place like this : and she played a little game with herself , seeing how down\n",
      "t it , get him to give it to her in little bills so's nobody would suspect -- \n",
      "Displaying 25 of 104 matches:\n",
      " bear to do anything to quench it . Little Anne rapidly outdistanced her mothe\n",
      "p the baby and nuzzled her fat warm little neck . `` She'll be just as beautif\n",
      "ld like to think of a way to make a little extra money '' . `` Well , let's se\n",
      "had no idea of marrying that sneaky little Jenny ! ! This -- trip of his had n\n",
      "ropping them into it , touching the little pyre to flame , watching it curl , \n",
      "ys , she'd been driving that pretty little mare that looked like her , over to\n",
      "supper parties and teas , fetes and little balls , Mama small and pretty and g\n",
      "wn and alive with its own music , a little engine of song . It was so pretty a\n",
      "r coloring warmed and improved by a little of the tawny honey-in-the-sun tint \n",
      "ed around , self-consciously . Four little Japanese waitresses were murdering \n",
      "reated , trying to close the door a little , and she slowly leaned toward him \n",
      " my talking to you has helped you a little , anyway , because you need spiritu\n",
      "im in the blonde's place . He was a little more authentic than usual because h\n",
      ". `` I keep all these plays in this little black book , and I watch over a twe\n",
      " orchids , and they made him feel a little sad . Owen found Buzz watching chuc\n",
      " . We stepped inside . He left us . Little boys crowded together on long woode\n",
      "ng the stick against the desk . The little boys shrilled out a Yiddish transla\n",
      "long ringlets of paot framing their little white faces . They bent over yellow\n",
      "artially open window high above the little figures and back to the boys . Some\n",
      "other was informed . She ran from a little group of us . We were sitting toget\n",
      "ge , his expansiveness , the quaint little pine board tourist courts , cabins \n",
      ". And you wonder if that is why the little man lost his job and his car and st\n",
      "ed and you felt you could cry for a little bit , and then a feeling hit you li\n",
      " things written on the walls of the little boxed-in place because you couldn't\n",
      "connections from the wall . The two little bangs meant that he was getting imp\n",
      "None \n",
      " None \n",
      "\n",
      "\n",
      "Displaying 25 of 31 matches:\n",
      "efore . It seemed the most important thing in my life at this moment that she s\n",
      "s , and if he should notice it , the thing can be passed off as an honest mista\n",
      "nication had been severed . It's one thing to go without food when you're occup\n",
      "at's what they all say . What's that thing going buzz-buzz-buzz in your car '' \n",
      " -- I don't care how -- and one more thing -- Cate's Cafe closed at eleven like\n",
      "be . With a curse , Vince seized the thing nearest , a glass sugar container wi\n",
      "ld blame her for that ? ? It was one thing to awaken outside a restaurant where\n",
      "ers lay ahead for her ? ? What awful thing had she to face in the next few hour\n",
      "moment longer . And then a startling thing occurred . It was so utterly unexpec\n",
      "nd that's why he called me in on the thing in direct defiance of his confederat\n",
      "ickey was sure now he was dead . One thing , he thought , nobody knows about it\n",
      "r , mopping his brow . The expedient thing -- yes , very true , one must make d\n",
      "no time at all -- leave this kind of thing 'way behind . Off at noon , and she'\n",
      "leave just the usual time , and last thing , put the money in an envelope under\n",
      "n't like cats , it's not the easiest thing in the world to find good homes for \n",
      "ised hammer . George said , `` First thing I do when I get to Vicksburg again ,\n",
      "r years it's been just Felix . First thing I did after my twenty-first birthday\n",
      " all afternoon , setting up for this thing '' . Bonner explained that , with th\n",
      "course . Mae wouldn't have plotted a thing like that . It was just that little \n",
      "o account for her murder . The whole thing , his manner conveyed , was so far o\n",
      " , sir '' . `` But you didn't know a thing about it , did you '' ? ? Killpath l\n",
      "n had outsmarted him . The important thing was that Burton had gone somewhere t\n",
      " them . If the character flying that thing had gone over San Clemente Island ye\n",
      "ransom . `` Any news '' ? ? `` Not a thing '' . He tossed her a towel , then re\n",
      "ghtened . She said she didn't know a thing -- Tim had left the house at six in \n",
      "Displaying 25 of 52 matches:\n",
      "r a kiss given in passing . The only thing unusual about the Old Man had long s\n",
      "nk so '' , Eugenia said . `` For one thing you can stop keeping that child in s\n",
      "adna Mae Evans said she didn't put a thing on her child but a flannel wrapper u\n",
      "ies fell away and the only important thing was to cling together and survive . \n",
      ". She said to Maggie that it was one thing to meet an emergency and another to \n",
      ", even a depression '' . `` The only thing that worries me is how I'm going to \n",
      "ich had made him write and keep this thing . `` You've told God , Frank '' , he\n",
      "y took a fit . If he ever did such a thing again she'd die of shame . `` Have a\n",
      "d about her , but there was one more thing he could try . Zion was surprised wh\n",
      "old boots . His stick ceased to be a thing to rest his chin on and became a poi\n",
      "st Japan , either , because the same thing applied anywhere overseas . It was a\n",
      "arents had spoken only English . One thing was becoming increasingly sure . She\n",
      "hip was a very natural and important thing , but all at once she felt lonesome \n",
      "at captain's mast was a very unusual thing , because the discipline dispensed t\n",
      "of the Armed Forces , is a wonderful thing . Actually , all a man in uniform ha\n",
      "and single-foot and he's the fastest thing in Washoe County . I figure if I can\n",
      "ing of any plot , if there is such a thing '' . `` You are the only man aboard \n",
      "ants , for many children , the first thing they knew of Israel and freedom was \n",
      "were tired of being an old maid -- a thing which cannot admit when it thinks it\n",
      "t , even when it is finally the only thing in the world you have left to believ\n",
      "uitting after a week . Such a little thing to start with -- the car registratio\n",
      "of the Spanish Steps . It was a good thing that she clung to her religion , he \n",
      "ndering over it , it would be a good thing for a girl like Carla if she got up \n",
      "id . `` I'm not good at that kind of thing '' . `` This afternoon let's take an\n",
      "ng in the sky , he had seen the same thing later in his own garden , and she tu\n",
      "None \n",
      " None \n",
      "\n",
      "\n"
     ]
    }
   ],
   "source": [
    "brown.categories() # 'mystery'  'romance'\n",
    "\n",
    "def lexical_scores(genre, text):\n",
    "    d = {}\n",
    "    d['genre'] = genre\n",
    "    d['vocabulary'] = len(set(w.lower() for w in text if w.isalpha()))\n",
    "    d['vocabulary_richness'] = d['vocabulary'] / len(text)\n",
    "    return d\n",
    "\n",
    "\n",
    "mystery = lexical_scores('mystery', brown.words(categories='mystery'))\n",
    "romance = lexical_scores('romance', brown.words(categories='romance'))\n",
    "print(mystery, \"\\n\", romance)\n",
    "\n",
    "mystery_text = nltk.Text(brown.words(categories='mystery'))\n",
    "romance_text = nltk.Text(brown.words(categories='romance'))\n",
    "\n",
    "print(mystery_text.concordance('little'), \"\\n\", romance_text.concordance('little'), \"\\n\\n\")\n",
    "\n",
    "print(mystery_text.concordance('thing'), \"\\n\", romance_text.concordance('thing'), \"\\n\\n\")\n",
    "\n"
   ]
  },
  {
   "attachments": {},
   "cell_type": "markdown",
   "metadata": {},
   "source": [
    "**10. Read the BBC News article: UK's Vicky Pollards 'left behind' http://news.bbc.co.uk/1/hi/education/6173441.stm. The article gives the following statistic about teen language: \"the top 20 words used, including yeah, no, but and like, account for around a third of all words.\" How many word types account for a third of all word tokens, for a variety of text sources? What do you conclude about this statistic?**  \n",
    "\n",
    "[Read more about this on LanguageLog](http://itre.cis.upenn.edu/~myl/languagelog/archives/003993.html)"
   ]
  },
  {
   "attachments": {},
   "cell_type": "markdown",
   "metadata": {},
   "source": [
    "*A*: Vocabulary richness is getting lower and lower in time. Creativity in word types is also decreasing"
   ]
  },
  {
   "attachments": {},
   "cell_type": "markdown",
   "metadata": {},
   "source": [
    "**11. Investigate the table of modal distributions and look for other patterns. Try to explain them in terms of your own impressionistic understanding of the different genres. Can you find other closed classes of words that exhibit significant differences across different genres?**"
   ]
  },
  {
   "cell_type": "code",
   "execution_count": 83,
   "metadata": {},
   "outputs": [
    {
     "name": "stdout",
     "output_type": "stream",
     "text": [
      "                  can  could    may  might   must  shall should   will  would \n",
      "belles_letters      0      0      0      0      0      0      0      0      0 \n",
      "     editorial    121     56     74     39     53     19     88    233    180 \n",
      "    government    117     38    153     13    102     98    112    244    120 \n",
      "       hobbies    268     58    131     22     83      5     73    264     78 \n",
      "         humor     16     30      8      8      9      2      7     13     56 \n",
      "       learned    365    159    324    128    202     40    171    340    319 \n",
      "          news     93     86     66     38     50      5     59    389    244 \n",
      "      religion     82     59     78     12     54     21     45     71     68 \n",
      "       reviews     45     40     45     26     19      1     18     58     47 \n",
      "                   can  could    may  might   must  shall should   will  would \n",
      "      adventure     46    151      5     58     27      7     15     50    191 \n",
      "        fiction     37    166      8     44     55      3     35     52    287 \n",
      "           lore    170    141    165     49     96     12     76    175    186 \n",
      "        mystery     42    141     13     57     30      1     29     20    186 \n",
      "        romance     74    193     11     51     45      3     32     43    244 \n",
      "science_fiction     16     49      4     12      8      3      3     16     79 \n"
     ]
    }
   ],
   "source": [
    "modals = ['can', 'could', 'may', 'might', 'must', 'will', 'would', 'should', 'shall']\n",
    "\n",
    "modal_cfd = nltk.ConditionalFreqDist(\n",
    "    (genre, modal)\n",
    "    for genre in brown.categories()\n",
    "    for modal in brown.words(categories=genre) if modal in modals\n",
    ")\n",
    "\n",
    "fiction = ['adventure', 'fiction', 'lore', 'mystery', 'romance', 'science_fiction']\n",
    "non_fiction = ['belles_letters', 'editorial', 'government', 'hobbies', 'humor', 'learned', 'news', 'religion', 'reviews']\n",
    "modal_cfd.tabulate(conditions=non_fiction)\n",
    "modal_cfd.tabulate(conditions=fiction)"
   ]
  },
  {
   "attachments": {},
   "cell_type": "markdown",
   "metadata": {},
   "source": [
    "- in `non_fiction` genres the modals *'can'* and *'will'* are more common than others\n",
    "- the `learned` genre from *non_fiction* uses the most modal verbs\n",
    "- the `lore` genre from *fiction* uses the most modal verbs\n",
    "- `belles_letters` dont use modal verbs"
   ]
  },
  {
   "cell_type": "code",
   "execution_count": 82,
   "metadata": {},
   "outputs": [
    {
     "name": "stdout",
     "output_type": "stream",
     "text": [
      "                  how  what  when where which   who whose   why \n",
      "      adventure    35   110   126    53   100    91     2    13 \n",
      " belles_lettres    96   244   252   107   679   452    59    36 \n",
      "      editorial    43    84   103    40   191   172    11    10 \n",
      "        fiction    54   128   133    76   123   103    11    18 \n",
      "     government    16    43    56    46   263    74    14     6 \n",
      "        hobbies    40    78   119    72   252   103    14    10 \n",
      "          humor    18    36    52    15    62    48     8     9 \n",
      "        learned    61   141   227   118   832   212    38    20 \n",
      "           lore    65   130   182    97   275   259    32    25 \n",
      "        mystery    37   109   114    59    58    80     1    25 \n",
      "           news    37    76   128    58   244   268    22     9 \n",
      "       religion    23    64    53    20   202   100     9    14 \n",
      "        reviews    26    44    54    25   123   128    17     9 \n",
      "        romance    60   121   126    54   104    89     9    34 \n",
      "science_fiction    12    27    21    10    32    13     3     4 \n"
     ]
    }
   ],
   "source": [
    "wh = ['where', 'why', 'who', 'what', 'how', 'which', 'when', 'whose']\n",
    "\n",
    "wh_cfd = nltk.ConditionalFreqDist(\n",
    "    (genre, wh_word)\n",
    "    for genre in brown.categories()\n",
    "    for wh_word in brown.words(categories=genre) if wh_word in wh\n",
    ")\n",
    "\n",
    "wh_cfd.tabulate()"
   ]
  },
  {
   "attachments": {},
   "cell_type": "markdown",
   "metadata": {},
   "source": [
    "- *'who'* and *'which'* are the most common wh words\n",
    "- `belles_letters` usage of wh words are high\n",
    "- `humor` uses less wh words than other genres"
   ]
  },
  {
   "attachments": {},
   "cell_type": "markdown",
   "metadata": {},
   "source": [
    "**12. The CMU Pronouncing Dictionary contains multiple pronunciations for certain words. How many distinct words does it contain? What fraction of words in this dictionary have more than one possible pronunciation?**"
   ]
  },
  {
   "cell_type": "code",
   "execution_count": 44,
   "metadata": {},
   "outputs": [
    {
     "name": "stdout",
     "output_type": "stream",
     "text": [
      "123455\n",
      "7.485318537118788\n"
     ]
    }
   ],
   "source": [
    "cmu_d = cmudict.dict()\n",
    "\n",
    "# Distinct Words:\n",
    "print(len(cmu_d.keys()))\n",
    "\n",
    "# What fraction of words in this dictionary have more than one possible pronunciation:\n",
    "print(\n",
    "    100 * len([1 for value in cmu_d.values() if len(value) > 1]) / len(cmu_d)\n",
    ")"
   ]
  },
  {
   "attachments": {},
   "cell_type": "markdown",
   "metadata": {},
   "source": [
    "**13. What percentage of noun synsets have no hyponyms? You can get all noun synsets using `wn.all_synsets('n')`.**"
   ]
  },
  {
   "cell_type": "code",
   "execution_count": 89,
   "metadata": {},
   "outputs": [
    {
     "name": "stdout",
     "output_type": "stream",
     "text": [
      "79.67119283931072\n"
     ]
    }
   ],
   "source": [
    "total_synsets = len(list(wn.all_synsets('n')))\n",
    "no_hyponyms = len([synset.name() for synset in list(wn.all_synsets('n')) if len(synset.hyponyms()) == 0])\n",
    "print(100 * no_hyponyms / total_synsets)"
   ]
  },
  {
   "attachments": {},
   "cell_type": "markdown",
   "metadata": {},
   "source": [
    "**14. Define a function `supergloss(s)` that takes a synset `s` as its argument and returns a string consisting of the concatenation of the definition of `s`, and the definitions of all the hypernyms and hyponyms of `s`.**"
   ]
  },
  {
   "cell_type": "code",
   "execution_count": 105,
   "metadata": {},
   "outputs": [
    {
     "data": {
      "text/plain": [
       "\"tree.n.01 : a tall perennial woody plant having a main trunk and branches forming a distinct elevated crown; includes both gymnosperms and angiosperms \\nwoody_plant.n.01 : a plant having hard lignified tissues or woody parts especially stems \\naalii.n.01 : a small Hawaiian tree with hard dark wood \\nacacia.n.01 : any of various spiny trees or shrubs of the genus Acacia \\nafrican_walnut.n.01 : tropical African timber tree with wood that resembles mahogany \\nalbizzia.n.01 : any of numerous trees of the genus Albizia \\nalder.n.02 : north temperate shrubs or trees having toothed leaves and conelike fruit; bark is used in tanning and dyeing and the wood is rot-resistant \\nangelim.n.01 : any of several tropical American trees of the genus Andira \\nangiospermous_tree.n.01 : any tree having seeds and ovules contained in the ovary \\nanise_tree.n.01 : any of several evergreen shrubs and small trees of the genus Illicium \\narbor.n.01 : tree (as opposed to shrub) \\naroeira_blanca.n.01 : small resinous tree or shrub of Brazil \\nash.n.02 : any of various deciduous pinnate-leaved ornamental or timber trees of the genus Fraxinus \\naustralian_nettle.n.01 : any of several tall Australian trees of the genus Laportea \\nbalata.n.02 : a tropical hardwood tree yielding balata gum and heavy red timber \\nbayberry.n.01 : West Indian tree; source of bay rum \\nbean_tree.n.01 : any of several trees having seedpods as fruits \\nbeech.n.01 : any of several large deciduous trees with rounded spreading crowns and smooth grey bark and small sweet edible triangular nuts enclosed in burs; north temperate regions \\nbirch.n.02 : any betulaceous tree or shrub of the genus Betula having a thin peeling bark \\nbitterwood_tree.n.01 : any of various trees or shrubs of the family Simaroubaceae having wood and bark with a bitter taste \\nblack_mangrove.n.01 : an Australian tree resembling the black mangrove of the West Indies and Florida \\nblackwood.n.02 : any of several hardwood trees yielding very dark-colored wood \\nbloodwood_tree.n.01 : deciduous South African tree having large odd-pinnate leaves and profuse fragrant orange-yellow flowers; yields a red juice and heavy strong durable wood \\nbonduc.n.02 : tropical tree with large prickly pods of seeds that resemble beans and are used for jewelry and rosaries \\nbonsai.n.01 : a dwarfed ornamental tree or shrub grown in a tray or shallow pot \\nbottle-tree.n.01 : an Australian tree of the genus Brachychiton \\nbrazilian_ironwood.n.01 : thornless tree yielding heavy wood \\nbrazilian_pepper_tree.n.01 : small Brazilian evergreen resinous tree or shrub having dark green leaflets and white flowers followed by bright red fruit; used as a street tree and lawn specimen \\nbrazilwood.n.02 : tropical tree with prickly trunk; its heavy red wood yields a red dye and is used for cabinetry \\nbreakax.n.01 : West Indian timber tree having very hard wood \\nburma_padauk.n.01 : tree of India and Burma yielding a wood resembling mahogany \\nbutton_tree.n.01 : evergreen tree or shrub with fruit resembling buttons and yielding heavy hard compact wood \\ncabbage_tree.n.03 : elegant tree having either a single trunk or a branching trunk each with terminal clusters of long narrow leaves and large panicles of fragrant white, yellow or red flowers; New Zealand \\ncalaba.n.01 : West Indian tree having racemes of fragrant white flowers and yielding a durable timber and resinous juice \\ncalabash.n.02 : tropical American evergreen that produces large round gourds \\ncamwood.n.01 : small shrubby African tree with hard wood used as a dyewood yielding a red dye \\ncaracolito.n.01 : large Costa Rican tree having light-colored wood suitable for cabinetry; similar to the African lepidobotrys in wood structure as well as in fruit and flowers and leaves and seeds; often classified in other families \\ncarib_wood.n.01 : small Dominican tree bearing masses of large crimson flowers before the fine pinnate foliage emerges \\ncassia.n.01 : any of various trees or shrubs of the genus Cassia having pinnately compound leaves and usually yellow flowers followed by long seedpods \\ncasuarina.n.01 : any of various trees and shrubs of the genus Casuarina having jointed stems and whorls of scalelike leaves; some yield heavy hardwood \\nchaulmoogra.n.01 : East Indian tree with oily seeds yield chaulmoogra oil used to treat leprosy \\nchestnut.n.02 : any of several attractive deciduous trees yellow-brown in autumn; yield a hard wood and edible nuts in a prickly bur \\nchinaberry.n.02 : tree of northern India and China having purple blossoms and small inedible yellow fruits; naturalized in the southern United States as a shade tree \\nchinese_parasol_tree.n.01 : deciduous tree widely grown in southern United States as an ornamental for its handsome maplelike foliage and long racemes of yellow-green flowers followed by curious leaflike pods \\nchristmas_bush.n.01 : Australian tree or shrub with red flowers; often used in Christmas decoration \\ncinchona.n.02 : any of several trees of the genus Cinchona \\nclusia.n.01 : an aromatic tree of the genus Clusia having large white or yellow or pink flowers \\ncockspur.n.02 : small spiny West Indian tree \\ncocobolo.n.01 : a valuable timber tree of tropical South America \\ncoffee.n.02 : any of several small trees and shrubs native to the tropical Old World yielding coffee beans \\nconacaste.n.01 : tropical South American tree having a wide-spreading crown of bipinnate leaves and coiled ear-shaped fruits; grown for shade and ornament as well as valuable timber \\ncoral_tree.n.01 : any of various shrubs or shrubby trees of the genus Erythrina having trifoliate leaves and racemes of scarlet to coral red flowers and black seeds; cultivated as an ornamental \\ncoralwood.n.01 : East Indian tree with racemes of yellow-white flowers; cultivated as an ornamental \\ncork_tree.n.01 : deciduous tree of China and Manchuria having a turpentine aroma and handsome compound leaves turning yellow in autumn and deeply fissured corky bark \\ndagame.n.01 : source of a tough elastic wood \\ndevilwood.n.01 : small tree of southern United States having panicles of dull white flowers followed by dark purple fruits \\ndhak.n.01 : East Indian tree bearing a profusion of intense vermilion velvet-textured blooms and yielding a yellow dye \\ndhawa.n.01 : an Indian tree of the family Combretaceae that is a source of timber and gum \\ndipterocarp.n.01 : tree of the family Dipterocarpaceae \\ndita.n.01 : evergreen tree of eastern Asia and Philippines having large leathery leaves and small green-white flowers in compact cymes; bark formerly used medicinally \\ndivi-divi.n.02 : small thornless tree or shrub of tropical America whose seed pods are a source of tannin \\nebony.n.03 : tropical tree of southern Asia having hard dark-colored heartwood used in cabinetwork \\nelm.n.01 : any of various trees of the genus Ulmus: important timber or shade trees \\nfever_tree.n.01 : any of several trees having leaves or bark used to allay fever or thought to indicate regions free of fever \\nfig_tree.n.01 : any moraceous tree of the tropical genus Ficus; produces a closed pear-shaped receptacle that becomes fleshy and edible when mature \\nfringe_tree.n.01 : any of various small decorative flowering trees or shrubs of the genus Chionanthus \\ngiant_chinkapin.n.01 : small ornamental evergreen tree of Pacific Coast whose glossy yellow-green leaves are yellow beneath; bears edible nuts \\ngliricidia.n.01 : any of several small deciduous trees valued for their dark wood and dense racemes of nectar-rich pink flowers grown in great profusion on arching branches; roots and bark and leaves and seeds are poisonous \\ngranadilla_tree.n.01 : West Indian tree yielding a fine grade of green ebony \\nguama.n.01 : tropical tree of Central America and West Indies and Puerto Rico having spikes of white flowers; used as shade for coffee plantations \\nguinea_pepper.n.02 : tropical west African evergreen tree bearing pungent aromatic seeds used as a condiment and in folk medicine \\ngum_tree.n.01 : any of various trees of the genera Eucalyptus or Liquidambar or Nyssa that are sources of gum \\ngutta-percha_tree.n.01 : one of several East Indian trees yielding gutta-percha \\ngutta-percha_tree.n.02 : one of several East Indian trees yielding gutta-percha \\ngymnospermous_tree.n.01 : any tree of the division Gymnospermophyta \\nhackberry.n.01 : any of various trees of the genus Celtis having inconspicuous flowers and small berrylike fruits \\nhazel.n.01 : Australian tree grown especially for ornament and its fine-grained wood and bearing edible nuts \\nhop_hornbeam.n.01 : any of several trees resembling hornbeams with fruiting clusters resembling hops \\nhornbeam.n.01 : any of several trees or shrubs of the genus Carpinus \\nhydnocarpus_laurifolia.n.01 : leathery-leaved tree of western India bearing round fruits with brown densely hairy rind enclosing oily pulp that yields hydnocarpus oil \\nice-cream_bean.n.01 : ornamental evergreen tree with masses of white flowers; tropical and subtropical America \\nidesia.n.01 : deciduous roundheaded Asiatic tree widely grown in mild climates as an ornamental for its heart-shaped leaves and fragrant yellow-green flowers followed by hanging clusters of fleshy orange-red berries \\nincense_tree.n.01 : any of various tropical trees of the family Burseraceae yielding fragrant gums or resins that are burned as incense \\nindian_beech.n.01 : evergreen Asiatic tree having glossy pinnate leaves and racemose creamy-white scented flowers; used as a shade tree \\ninga.n.01 : any tree or shrub of the genus Inga having pinnate leaves and showy usually white flowers; cultivated as ornamentals \\nivory_tree.n.01 : tropical Asian tree with hard white wood and bark formerly used as a remedy for dysentery and diarrhea \\njamaica_dogwood.n.01 : small tree of West Indies and Florida having large odd-pinnate leaves and panicles of red-striped purple to white flowers followed by decorative curly winged seedpods; yields fish poisons \\njamaican_cherry.n.01 : a fast-growing tropical American evergreen having white flowers and white fleshy edible fruit; bark yields a silky fiber used in cordage and wood is valuable for staves \\njapanese_pagoda_tree.n.01 : handsome roundheaded deciduous tree having compound dark green leaves and profuse panicles of fragrant creamy-white flowers; China and Japan \\nkentucky_coffee_tree.n.01 : handsome tree of central and eastern North America having large bipinnate leaves and green-white flowers followed by large woody brown pods whose seeds are used as a coffee substitute \\nketembilla.n.01 : a small shrubby spiny tree cultivated for its maroon-purple fruit with sweet purple pulp tasting like gooseberries; Sri Lanka and India \\nkeurboom.n.01 : fast-growing roundheaded tree with fragrant white to deep rose flowers; planted as an ornamental \\nkeurboom.n.02 : tree with odd-pinnate leaves and racemes of fragrant pink to purple flowers \\nkingwood.n.02 : Brazilian tree yielding a handsome cabinet wood \\nkino.n.02 : East Indian tree yielding a resin or extract often used medicinally and in e.g. tanning \\nkowhai.n.01 : shrub or small tree of New Zealand and Chile having pendulous racemes of tubular golden-yellow flowers; yields a hard strong wood \\nlacebark.n.01 : small tree or shrub of New Zealand having a profusion of axillary clusters of honey-scented paper-white flowers and whose bark is used for cordage \\nlancewood.n.02 : source of most of the lancewood of commerce \\nlanseh_tree.n.01 : East Indian tree bearing an edible yellow berry \\nlaurelwood.n.01 : tropical American tree; valued for its hard durable wood \\nlead_tree.n.01 : low scrubby tree of tropical and subtropical North America having white flowers tinged with yellow resembling mimosa and long flattened pods \\nlemonwood.n.02 : South African evergreen having hard tough wood \\nlepidobotrys.n.01 : African tree often classified in other families; similar to the Costa Rican caracolito in wood structure as well as in fruit and flowers and leaves and seeds \\nlinden.n.02 : any of various deciduous trees of the genus Tilia with heart-shaped leaves and drooping cymose clusters of yellowish often fragrant flowers; several yield valuable timber \\nlocust_tree.n.01 : any of various hardwood trees of the family Leguminosae \\nmahogany.n.02 : any of various tropical timber trees of the family Meliaceae especially the genus Swietinia valued for their hard yellowish- to reddish-brown wood that is readily worked and takes a high polish \\nmanila_tamarind.n.01 : common thorny tropical American tree having terminal racemes of yellow flowers followed by sickle-shaped or circinate edible pods and yielding good timber and a yellow dye and mucilaginous gum \\nmarblewood.n.02 : large Asiatic tree having hard marbled zebrawood \\nmaria.n.02 : valuable timber tree of Panama \\nmarmalade_tree.n.01 : tropical American tree having wood like mahogany and sweet edible egg-shaped fruit; in some classifications placed in the genus Calocarpum \\nmayeng.n.01 : Indian tree having fragrant nocturnal white flowers and yielding a reddish wood used for planking; often grown as an ornamental or shade tree \\nmescal_bean.n.01 : shrub or small tree having pinnate leaves poisonous to livestock and dense racemes of intensely fragrant blue flowers and red beans \\nmillettia.n.01 : any of several tropical trees or shrubs yielding showy streaked dark reddish or chocolate-colored wood \\nmontezuma.n.01 : evergreen tree with large leathery leaves and large pink to orange flowers; considered a link plant between families Bombacaceae and Sterculiaceae \\nmsasa.n.01 : small shrubby African tree having compound leaves and racemes of small fragrant green flowers \\nnakedwood.n.01 : any of several small to medium-sized trees of Florida and West Indies with thin scaly bark and heavy dark heartwood \\nnecklace_tree.n.01 : a tree of the genus Ormosia having seeds used as beads \\nneem.n.01 : large semi-evergreen tree of the East Indies; trunk exudes a tenacious gum; bitter bark used as a tonic; seeds yield an aromatic oil; sometimes placed in genus Melia \\nnitta_tree.n.01 : any of several Old World tropical trees of the genus Parkia having heads of red or yellow flowers followed by pods usually containing edible seeds and pulp \\noak.n.02 : a deciduous tree of the genus Quercus; has acorns and lobed leaves \\noak_chestnut.n.01 : a tree of the genus Castanopsis \\nobeche.n.02 : large west African tree having large palmately lobed leaves and axillary cymose panicles of small white flowers and one-winged seeds; yields soft white to pale yellow wood \\nopepe.n.01 : large African forest tree yielding a strong hard yellow to golden brown lumber; sometimes placed in genus Sarcocephalus \\npadauk.n.01 : tree native to southeastern Asia having reddish wood with a mottled or striped black grain \\npalm.n.03 : any plant of the family Palmae having an unbranched trunk crowned by large pinnate or palmate leaves \\npalo_verde.n.01 : densely branched spiny tree of southwestern United States having showy yellow flowers and blue-green bark; sometimes placed in genus Cercidium \\npandanus.n.02 : any of various Old World tropical palmlike trees having huge prop roots and edible conelike fruits and leaves like pineapple leaves \\npepper_tree.n.01 : small Peruvian evergreen with broad rounded head and slender pendant branches with attractive clusters of greenish flowers followed by clusters of rose-pink fruits \\npepper_tree.n.02 : small African deciduous tree with spreading crown having leaves clustered toward ends of branches and clusters of creamy flowers resembling lilacs \\nperuvian_balsam.n.01 : tree of South and Central America yielding an aromatic balsam \\nplane_tree.n.01 : any of several trees of the genus Platanus having thin pale bark that scales off in small plates and lobed leaves and ball-shaped heads of fruits \\npollard.n.01 : a tree with limbs cut back to promote a more bushy growth of foliage \\npoon.n.02 : any of several East Indian trees of the genus Calophyllum having shiny leathery leaves and lightweight hard wood \\nprickly_ash.n.01 : any of a number of trees or shrubs of the genus Zanthoxylum having spiny branches \\nprickly_ash.n.02 : Australian tree having alternate simple leaves (when young they are pinnate with prickly toothed margins) and slender axillary spikes of white flowers \\nprincewood.n.01 : tropical American timber tree \\npuka.n.02 : small roundheaded New Zealand tree having large resinous leaves and panicles of green-white flowers \\nquandong.n.01 : Australian tree with edible flesh and edible nutlike seed \\nquandong.n.03 : Australian tree having hard white timber and glossy green leaves with white flowers followed by one-seeded glossy blue fruit \\nquira.n.02 : any of several tropical American trees some yielding economically important timber \\nred_sandalwood.n.02 : tree of India and East Indies yielding a hard fragrant timber prized for cabinetwork and dark red heartwood used as a dyewood \\nred_silk-cotton_tree.n.01 : East Indian silk cotton tree yielding fibers inferior to kapok \\nribbon_tree.n.01 : deciduous New Zealand tree whose inner bark yields a strong fiber that resembles flax and is called New Zealand cotton \\nrose_chestnut.n.01 : handsome East Indian evergreen tree often planted as an ornamental for its fragrant white flowers that yield a perfume; source of very heavy hardwood used for railroad ties \\nrosewood.n.02 : any of those hardwood trees of the genus Dalbergia that yield rosewood--valuable cabinet woods of a dark red or purplish color streaked and variegated with black \\nsandalwood_tree.n.01 : parasitic tree of Indonesia and Malaysia having fragrant close-grained yellowish heartwood with insect repelling properties and used, e.g., for making chests \\nsapling.n.01 : young tree \\nsatinwood.n.03 : East Indian tree with valuable hard lustrous yellowish wood \\nscarlet_wisteria_tree.n.01 : a softwood tree with lax racemes of usually red or pink flowers; tropical Australia and Asia; naturalized in southern Florida and West Indies \\nscrub_beefwood.n.01 : tree or tall shrub with shiny leaves and umbels of fragrant creamy-white flowers; yields hard heavy reddish wood \\nshade_tree.n.01 : a tree planted or valued chiefly for its shade from sunlight \\nshaving-brush_tree.n.01 : tree of Mexico to Guatemala having densely hairy flowers with long narrow petals clustered at ends of branches before leaves appear \\nshingle_tree.n.01 : East Indian timber tree with hard durable wood used especially for tea boxes \\nsilver_ash.n.01 : any of various timber trees of the genus Flindersia \\nsilver_tree.n.01 : small South African tree with long silvery silky foliage \\nsilver_tree.n.02 : Australian timber tree \\nsissoo.n.01 : East Indian tree whose leaves are used for fodder; yields a compact dark brown durable timber used in shipbuilding and making railroad ties \\nsnag.n.02 : a dead tree that is still standing, usually in an undisturbed forest \\nsoapberry.n.01 : a tree of the genus Sapindus whose fruit is rich in saponin \\nsouari.n.01 : large South American evergreen tree trifoliate leaves and drupes with nutlike seeds used as food and a source of cooking oil \\nsouthern_beech.n.01 : any of various beeches of the southern hemisphere having small usually evergreen leaves \\nspanish_tamarind.n.01 : shrubby tree of Madagascar occasionally cultivated for its edible apple-shaped fruit \\ntanbark_oak.n.01 : evergreen tree of the Pacific coast area having large leathery leaves; yields tanbark \\nteak.n.02 : tall East Indian timber tree now planted in western Africa and tropical America for its hard durable wood \\ntimber_tree.n.01 : any tree that is valued as a source of lumber or timber \\ntipu.n.01 : semi-evergreen South American tree with odd-pinnate leaves and golden yellow flowers cultivated as an ornamental \\ntolu_tree.n.01 : medium-sized tropical American tree yielding tolu balsam and a fragrant hard wood used for high-grade furniture and cabinetwork \\ntree_of_knowledge.n.01 : the biblical tree in the Garden of Eden whose forbidden fruit was tasted by Adam and Eve \\ntreelet.n.01 : a small tree \\ntrifoliate_orange.n.01 : small fast-growing spiny deciduous Chinese orange tree bearing sweetly scented flowers and decorative but inedible fruit: used as a stock in grafting and for hedges \\ntulipwood_tree.n.01 : any of various trees yielding variously colored woods similar to true tulipwood \\nturreae.n.01 : any of numerous trees and shrubs grown for their beautiful glossy foliage and sweetly fragrant starry flowers \\nwheel_tree.n.01 : eastern Australian tree widely cultivated as a shade tree and for its glossy leaves and circular clusters of showy red to orange-scarlet flowers \\nwhite_mangrove.n.01 : a small to medium-sized tree growing in brackish water especially along the shores of the southwestern Pacific \\nwhite_mangrove.n.02 : shrub to moderately large tree that grows in brackish water along the seacoasts of western Africa and tropical America; locally important as a source of tannin \\nwild_fig.n.02 : a West Indies clusia having fig-shaped fruit \\nwild_medlar.n.01 : small deciduous tree of southern Africa having edible fruit \\nwild_tamarind.n.02 : a tree of the West Indies and Florida and Mexico; resembles tamarind and has long flat pods \\nwillow.n.01 : any of numerous deciduous trees and shrubs of the genus Salix \\nwinter's_bark.n.02 : South American evergreen tree yielding winter's bark and a light soft wood similar to basswood \\nyellowwood.n.02 : any of various trees having yellowish wood or yielding a yellow extract \\nzebrawood.n.02 : any of various trees or shrubs having mottled or striped wood \\n\""
      ]
     },
     "execution_count": 105,
     "metadata": {},
     "output_type": "execute_result"
    }
   ],
   "source": [
    "def supergloss(s):\n",
    "    s_defin = f\"{s.name()} : {s.definition()} \\n\"\n",
    "    if len(s.hypernyms()) != 0:\n",
    "        for hyper in s.hypernyms():\n",
    "            s_defin += f\"{hyper.name()} : {hyper.definition()} \\n\"\n",
    "    if len(s.hyponyms()) != 0:\n",
    "        for hypo in s.hyponyms():\n",
    "            s_defin += f\"{hypo.name()} : {hypo.definition()} \\n\"\n",
    "    return s_defin\n",
    "\n",
    "supergloss(wn.synset('tree.n.01'))"
   ]
  },
  {
   "attachments": {},
   "cell_type": "markdown",
   "metadata": {},
   "source": [
    "**15. Write a program to find all words that occur at least three times in the Brown Corpus**"
   ]
  },
  {
   "cell_type": "code",
   "execution_count": null,
   "metadata": {},
   "outputs": [],
   "source": [
    "'''three_cfd = nltk.ConditionalFreqDist(\n",
    "    (genre, word.lower())\n",
    "    for genre in brown.categories()\n",
    "    for word in brown.words(categories=genre)\n",
    ")\n",
    "\n",
    "for condition in three_cfd.conditions():\n",
    "    for event in three_cfd[condition]:\n",
    "        if three_cfd[condition][event] >= 3:\n",
    "            print(event, end=' ')'''\n",
    "\n",
    "\n",
    "# A better way, had forgotten about brown.words()\n",
    "\n",
    "all_words = nltk.FreqDist(w.lower() for w in brown.words() if w.isalpha())\n",
    "more_than_three = [key for key, value in all_words.items() if value >= 3]\n",
    "print(more_than_three)\n"
   ]
  },
  {
   "attachments": {},
   "cell_type": "markdown",
   "metadata": {},
   "source": [
    "**16. Write a program to generate a table of lexical diversity scores (i.e. token/type ratios), as we saw in 1.1. Include the full set of Brown Corpus genres (`nltk.corpus.brown.categories()`). Which genre has the lowest diversity (greatest number of tokens per type)? Is this what you would have expected?**"
   ]
  },
  {
   "cell_type": "code",
   "execution_count": 115,
   "metadata": {},
   "outputs": [
    {
     "name": "stdout",
     "output_type": "stream",
     "text": [
      "adventure : 10.935652274234952\n",
      "belles_lettres : 8.930882284974812\n",
      "editorial : 13.370885007467047\n",
      "fiction : 11.88675388389207\n",
      "government : 9.19035326668283\n",
      "hobbies : 11.38259760762645\n",
      "humor : 20.520857340401015\n",
      "learned : 7.427647783251231\n",
      "lore : 10.960208161452053\n",
      "mystery : 10.465462051111617\n",
      "news : 11.08956381645683\n",
      "religion : 14.175486687479378\n",
      "reviews : 17.99577437106918\n",
      "romance : 10.448144868755534\n",
      "science_fiction : 19.834139599170697\n"
     ]
    }
   ],
   "source": [
    "def lexical_diversity(text):\n",
    "    return 100 * len(set(w.lower() for w in text if w.isalpha())) / len(text)\n",
    "\n",
    "for genre in brown.categories():\n",
    "    print(f\"{genre} : {lexical_diversity(brown.words(categories=genre))}\")"
   ]
  },
  {
   "attachments": {},
   "cell_type": "markdown",
   "metadata": {},
   "source": [
    "**17. Write a function that finds the 50 most frequently occurring words of a text that are not stopwords.**"
   ]
  },
  {
   "cell_type": "code",
   "execution_count": 124,
   "metadata": {},
   "outputs": [
    {
     "data": {
      "text/plain": [
       "[('Girl', 1755),\n",
       " ('Guy', 1659),\n",
       " ('like', 1580),\n",
       " ('girl', 1200),\n",
       " ('guy', 1086),\n",
       " ('know', 1020),\n",
       " ('get', 785),\n",
       " ('Yeah', 772),\n",
       " ('page', 723),\n",
       " ('Oh', 664),\n",
       " ('one', 642),\n",
       " ('Woman', 640),\n",
       " ('window', 630),\n",
       " ('Firefox', 602),\n",
       " ('cell', 577),\n",
       " ('open', 567),\n",
       " ('Teen', 550),\n",
       " ('man', 543),\n",
       " ('work', 528),\n",
       " ('Chick', 514),\n",
       " ('Man', 511),\n",
       " ('new', 506),\n",
       " ('go', 496),\n",
       " ('bar', 490),\n",
       " ('good', 488),\n",
       " ('think', 478),\n",
       " ('right', 477),\n",
       " ('want', 471),\n",
       " ('menu', 465),\n",
       " ('tab', 458),\n",
       " ('going', 451),\n",
       " ('Firebird', 437),\n",
       " ('boy', 428),\n",
       " ('Well', 416),\n",
       " ('time', 415),\n",
       " ('got', 402),\n",
       " ('browser', 392),\n",
       " ('really', 392),\n",
       " ('back', 388),\n",
       " ('button', 371),\n",
       " ('toolbar', 364),\n",
       " ('lady', 364),\n",
       " ('bookmarks', 352),\n",
       " ('would', 352),\n",
       " ('people', 345),\n",
       " ('woman', 345),\n",
       " ('dialog', 330),\n",
       " ('bookmark', 329),\n",
       " ('see', 328),\n",
       " ('file', 315)]"
      ]
     },
     "execution_count": 124,
     "metadata": {},
     "output_type": "execute_result"
    }
   ],
   "source": [
    "# stopwords.fileids() #'english'\n",
    "\n",
    "def no_stop_words(text):\n",
    "    eng_stopwords = stopwords.words('english')\n",
    "    fdist = nltk.FreqDist(w for w in text if w.isalpha() and w.lower() not in eng_stopwords)\n",
    "    return fdist\n",
    "\n",
    "fdist1 = no_stop_words(webtext.words())\n",
    "fdist1.most_common(50)"
   ]
  },
  {
   "attachments": {},
   "cell_type": "markdown",
   "metadata": {},
   "source": [
    "**18. Write a program to print the 50 most frequent bigrams (pairs of adjacent words) of a text, omitting bigrams that contain stopwords.**"
   ]
  },
  {
   "cell_type": "code",
   "execution_count": 123,
   "metadata": {},
   "outputs": [
    {
     "data": {
      "text/plain": [
       "[(('Mr', 'Knightley'), 299),\n",
       " (('Mrs', 'Weston'), 256),\n",
       " (('Mr', 'Elton'), 229),\n",
       " (('Miss', 'Woodhouse'), 173),\n",
       " (('Mr', 'Weston'), 167),\n",
       " (('Frank', 'Churchill'), 151),\n",
       " (('Mrs', 'Elton'), 150),\n",
       " (('Mr', 'Woodhouse'), 135),\n",
       " (('Miss', 'Fairfax'), 125),\n",
       " (('every', 'thing'), 118),\n",
       " (('Miss', 'Bates'), 113),\n",
       " (('Jane', 'Fairfax'), 111),\n",
       " (('every', 'body'), 92),\n",
       " (('young', 'man'), 84),\n",
       " (('said', 'Emma'), 65),\n",
       " (('great', 'deal'), 64),\n",
       " (('Emma', 'could'), 62),\n",
       " (('Mrs', 'Goddard'), 59),\n",
       " (('Miss', 'Smith'), 58),\n",
       " (('John', 'Knightley'), 58),\n",
       " (('dare', 'say'), 51),\n",
       " (('Mr', 'Frank'), 50),\n",
       " (('Miss', 'Taylor'), 48),\n",
       " (('said', 'Mr'), 44),\n",
       " (('Mrs', 'Churchill'), 42),\n",
       " (('Mr', 'Mrs'), 39),\n",
       " (('Mr', 'Perry'), 39),\n",
       " (('Mr', 'Martin'), 38),\n",
       " (('Mrs', 'Cole'), 32),\n",
       " (('dear', 'Emma'), 31),\n",
       " (('Mrs', 'Bates'), 31),\n",
       " (('Harriet', 'Smith'), 31),\n",
       " (('Robert', 'Martin'), 31),\n",
       " (('Maple', 'Grove'), 31),\n",
       " (('Mr', 'John'), 30),\n",
       " (('Colonel', 'Campbell'), 28),\n",
       " (('cried', 'Emma'), 27),\n",
       " (('Mr', 'Dixon'), 25),\n",
       " (('half', 'hour'), 24),\n",
       " (('Oh', 'yes'), 24),\n",
       " (('young', 'woman'), 24),\n",
       " (('Mr', 'Cole'), 24),\n",
       " (('young', 'lady'), 23),\n",
       " (('body', 'else'), 23),\n",
       " (('could', 'bear'), 22),\n",
       " (('good', 'deal'), 21),\n",
       " (('Emma', 'felt'), 21),\n",
       " (('Mr', 'Churchill'), 21),\n",
       " (('would', 'rather'), 20),\n",
       " (('Oh', 'dear'), 19)]"
      ]
     },
     "execution_count": 123,
     "metadata": {},
     "output_type": "execute_result"
    }
   ],
   "source": [
    "eng_stopwords = stopwords.words('english')\n",
    "\n",
    "emma = gutenberg.words('austen-emma.txt')\n",
    "emma_no_stopw = [w for w in emma if w.isalpha() and w.lower() not in eng_stopwords]\n",
    "emma_bigrams = nltk.bigrams(emma_no_stopw)\n",
    "nltk.FreqDist(emma_bigrams).most_common(50)"
   ]
  },
  {
   "attachments": {},
   "cell_type": "markdown",
   "metadata": {},
   "source": [
    "**19. Write a program to create a table of word frequencies by genre, like the one given in 1 for modals. Choose your own words and try to find words whose presence (or absence) is typical of a genre. Discuss your findings.**"
   ]
  },
  {
   "cell_type": "code",
   "execution_count": 127,
   "metadata": {},
   "outputs": [
    {
     "name": "stdout",
     "output_type": "stream",
     "text": [
      "                  love    man  funny  think  hands   dark  world people   work little  first \n",
      "      adventure      9    165      2     44     48     40     15     24     31     67     55 \n",
      " belles_lettres     68    219      1     54     17     16    165    147    118    129    176 \n",
      "      editorial     13     56      1     27      7      4     66     75     30     36     66 \n",
      "        fiction     16    111      5     43     30     32     24     39     32     81     51 \n",
      "     government      1     12      0     15      2      0     44     30     44     12     58 \n",
      "        hobbies      6     16      0     11     21     10     30     49     87     46    114 \n",
      "          humor      4     21     17     14      2      1     11     19     13     25     13 \n",
      "        learned     13     68      0     27     59      8     59     90    117     62    227 \n",
      "           lore     19     88      0     20     13      8     77    125     85     75    145 \n",
      "        mystery      7    106      0     54     19     23      9     34     33     57     37 \n",
      "           news      3     72      0     27     12      1     37     52     66     35    143 \n",
      "       religion     13     64      0     17     13      3     90     34     23     19     25 \n",
      "        reviews      7     49      6     10      4      2     26     25     35     32     65 \n",
      "        romance     32     87      7     56     31     20     26     48     32     99     52 \n",
      "science_fiction      3     17      0      8      7      2      5     20      9     13     15 \n",
      "                american    great    sense      war    young  society  history   social    place   public      art \n",
      "      adventure        0       18        4       18       24        5        1        1       39        0        2 \n",
      " belles_lettres        0      128       85       84       78       78       95       93       76       76       76 \n",
      "      editorial        0       38       16       54       23        2       19       10       16       58        3 \n",
      "        fiction        0       31        7       24       26        2        5        2       36        9        3 \n",
      "     government        0       47       13        7        8        3       16       15       30       43        1 \n",
      "        hobbies        0       42        6       12       14        3        9       11       48       22       25 \n",
      "          humor        0        9        2        1        4        2        0        4        9        8        3 \n",
      "        learned        0       85       66       16       28       49       25      120       62       81       12 \n",
      "           lore        0       71       31       23       33       15       34       42       70       18       21 \n",
      "        mystery        0        9       13        2       14        4        0        5       33        7        0 \n",
      "           news        0       30       13       20       35       12       20       17       25       51       13 \n",
      "       religion        0       26       20       14        4       10       26       26       12       11        5 \n",
      "        reviews        0       40       22       17       16        6       11        3       19       13       12 \n",
      "        romance        0       30        8       11       49        1        3        6       45        1        3 \n",
      "science_fiction        0        4        5        2        3        0        4        1        8        3        4 \n",
      "                   united      time      many      good president      face      room      head    always       god     right      life   program \n",
      "      adventure         1       127        22        37         0        74        33        71        21         0        79        29         0 \n",
      " belles_lettres         3       225       141       104         7        42        24        26        80         3        61       182        12 \n",
      "      editorial         6        72        63        58         7        14        12        10        19         0        40        35        37 \n",
      "        fiction         2        99        28        55         1        58        63        54        49         0        43        44         1 \n",
      "     government         0       103        81        25        27         5         4         3         6         0        14        14        79 \n",
      "        hobbies         0       127       110        96         5         8        14        54        23         0        65        36        43 \n",
      "          humor         0        43        15        11         1         4        18        12        17         1        12        12         1 \n",
      "        learned         2       209       145        44        11        15        33        16        61         0        46        69        60 \n",
      "           lore         1       174       122        90         2        21        24        38        62         3        45        73        20 \n",
      "        mystery         0        82        15        40         0        47        65        43        26         0        65        21         1 \n",
      "           news         0        97        60        50        53        19        17        24         7         0        33        17        66 \n",
      "       religion         3        34        46        37         1         7         5         4        10         5        19        55         9 \n",
      "        reviews         1        41        40        42         1         4         7         5        16         0        14        33        42 \n",
      "        romance         0        93        27        65         9        44        45        46        49         5        55        51         0 \n",
      "science_fiction         0        30        10        13         0         8         2        15         3         0         6         5         2 \n"
     ]
    }
   ],
   "source": [
    "random_words = ['love', 'man', 'funny', 'think', 'hands', 'dark', 'world', 'people', 'work', 'little', \n",
    "'first', 'american', 'great', 'sense', 'war', 'young', 'society', 'history', 'social', 'place', 'public', 'art', \n",
    "'united', 'time', 'many', 'good', 'president', 'face', 'room', 'head', 'always', 'god', 'right', 'life', 'program'\n",
    "]\n",
    "\n",
    "random_cfd = nltk.ConditionalFreqDist(\n",
    "    (genre, target)\n",
    "    for genre in brown.categories()\n",
    "    for target in brown.words(categories=genre) if target.lower() in random_words\n",
    ")\n",
    "\n",
    "random_cfd.tabulate(samples=['love', 'man', 'funny', 'think', 'hands', 'dark', 'world', 'people', 'work', 'little', \n",
    "'first'])\n",
    "random_cfd.tabulate(samples=['american', 'great', 'sense', 'war', 'young', 'society', 'history', 'social', 'place', 'public', 'art'])\n",
    "random_cfd.tabulate(samples=['united', 'time', 'many', 'good', 'president', 'face', 'room', 'head', 'always', 'god', 'right', 'life', 'program'])"
   ]
  },
  {
   "attachments": {},
   "cell_type": "markdown",
   "metadata": {},
   "source": [
    "**20. Write a function `word_freq()` that takes a word and the name of a section of the Brown Corpus as arguments, and computes the frequency of the word in that section of the corpus.**"
   ]
  },
  {
   "cell_type": "code",
   "execution_count": 130,
   "metadata": {},
   "outputs": [
    {
     "data": {
      "text/plain": [
       "21"
      ]
     },
     "execution_count": 130,
     "metadata": {},
     "output_type": "execute_result"
    }
   ],
   "source": [
    "def word_freq(word, section):\n",
    "    fdist = nltk.FreqDist(w.lower() for w in brown.words(categories=section) if w.isalpha())\n",
    "    return fdist[word]\n",
    "    # Or\n",
    "    # return [w.lower() for w in brown.words(categories=section) if w.isalpha()].count(word)\n",
    "\n",
    "word_freq('murder', 'mystery')"
   ]
  },
  {
   "attachments": {},
   "cell_type": "markdown",
   "metadata": {},
   "source": [
    "**21. Write a program to guess the number of syllables contained in a text, making use of the CMU Pronouncing Dictionary.**"
   ]
  },
  {
   "cell_type": "code",
   "execution_count": 144,
   "metadata": {},
   "outputs": [
    {
     "data": {
      "text/plain": [
       "10"
      ]
     },
     "execution_count": 144,
     "metadata": {},
     "output_type": "execute_result"
    }
   ],
   "source": [
    "def estimate_syllables(text):\n",
    "    cmu_dict = cmudict.dict()\n",
    "    non_vowels = ['B', 'C', 'D', 'F', 'G', 'H', 'J', 'K', 'L', 'M', 'N', 'P', 'Q', 'R', 'S', 'T', 'V', 'W', 'X', 'Y', 'Z']\n",
    "    \n",
    "    # Finding the Vowel parts of a pronounciation\n",
    "    syllabs = [len([pron for pron in cmu_dict[word][0] if pron not in non_vowels]) for word in text if word in cmu_dict]\n",
    "\n",
    "    return sum(syllabs)\n",
    "\n",
    "\n",
    "estimate_syllables(webtext.words())"
   ]
  },
  {
   "cell_type": "code",
   "execution_count": 146,
   "metadata": {},
   "outputs": [
    {
     "data": {
      "text/plain": [
       "7"
      ]
     },
     "execution_count": 146,
     "metadata": {},
     "output_type": "execute_result"
    }
   ],
   "source": [
    "# or \n",
    "'''\n",
    "    def estim_syllabs(text):\n",
    "        cmu_dict = cmudict.dict()\n",
    "        syllables = [len([1 for pron in cmu_dict[word][0] if any(c.isdigit() for c in pron)]) for word in text if word in cmu_dict]\n",
    "        \n",
    "        return sum(syllables)\n",
    "\n",
    "'''"
   ]
  },
  {
   "attachments": {},
   "cell_type": "markdown",
   "metadata": {},
   "source": [
    "**22. Define a function `hedge(text)` which processes a text and produces a new version with the word `'like'` between every third word.**"
   ]
  },
  {
   "cell_type": "code",
   "execution_count": 148,
   "metadata": {},
   "outputs": [
    {
     "data": {
      "text/plain": [
       "['Cookie',\n",
       " 'Manager',\n",
       " ':',\n",
       " 'like',\n",
       " '\"',\n",
       " 'Don',\n",
       " \"'\",\n",
       " 'like',\n",
       " 't',\n",
       " 'allow',\n",
       " 'sites',\n",
       " 'like',\n",
       " 'that',\n",
       " 'set',\n",
       " 'removed',\n",
       " 'like',\n",
       " 'cookies',\n",
       " 'to',\n",
       " 'set',\n",
       " 'like',\n",
       " 'future',\n",
       " 'cookies',\n",
       " '\"',\n",
       " 'like',\n",
       " 'should',\n",
       " 'stay',\n",
       " 'checked',\n",
       " 'like',\n",
       " 'When',\n",
       " 'in',\n",
       " 'full',\n",
       " 'screen',\n",
       " 'mode',\n",
       " 'Pressing',\n",
       " 'Ctrl',\n",
       " '-',\n",
       " 'N']"
      ]
     },
     "execution_count": 148,
     "metadata": {},
     "output_type": "execute_result"
    }
   ],
   "source": [
    "def hedge(text):\n",
    "    if not isinstance(text, list):\n",
    "        text = list(text)\n",
    "        \n",
    "    for i in range(3, len(text), 4):\n",
    "        text.insert(i, 'like')\n",
    "    return text\n",
    "\n",
    "web_some = webtext.words()[:30]\n",
    "hedge(web_some)"
   ]
  },
  {
   "attachments": {},
   "cell_type": "markdown",
   "metadata": {},
   "source": [
    "**23. *Zipf's Law*: Let *f(w)* be the frequency of a word w in free text. Suppose that all the words of a text are ranked according to their frequency, with the most frequent word first. Zipf's law states that the frequency of a word type is inversely proportional to its rank (i.e. *f × r = k*, for some constant *k*). For example, the 50th most common word type should occur three times as frequently as the 150th most common word type.\n",
    "A) Write a function to process a large text and plot word frequency against word rank using pylab.plot. Do you confirm Zipf's law? (Hint: it helps to use a logarithmic scale). What is going on at the extreme ends of the plotted line?\n",
    "B) Generate random text, e.g., using random.choice(\"abcdefg \"), taking care to include the space character. You will need to import random first. Use the string concatenation operator to accumulate characters into a (very) long string. Then tokenize this string, and generate the Zipf plot as before, and compare the two plots. What do you make of Zipf's Law in the light of this?**"
   ]
  },
  {
   "cell_type": "code",
   "execution_count": 150,
   "metadata": {},
   "outputs": [
    {
     "data": {
      "image/png": "[encoded data removed]",
      "text/plain": [
       "<Figure size 640x480 with 1 Axes>"
      ]
     },
     "metadata": {},
     "output_type": "display_data"
    }
   ],
   "source": [
    "import matplotlib.pyplot as plt\n",
    "\n",
    "def zipf_law(text):\n",
    "    if not isinstance(text, list):\n",
    "        text = list(text)\n",
    "\n",
    "    fdist = nltk.FreqDist(w.lower() for w in text if w.isalpha())\n",
    "    fdist = fdist.most_common()\n",
    "\n",
    "    frequency = []\n",
    "    ranks = []\n",
    "    \n",
    "    for count, item in enumerate(fdist, 1):\n",
    "        ranks.append(count)\n",
    "        frequency.append(item[1])\n",
    "\n",
    "    plt.plot(ranks, frequency, 'bs')\n",
    "    plt.xscale('log')\n",
    "\n",
    "    plt.title(\"Zipf's Law\")\n",
    "\n",
    "    plt.xlabel('Word Rank')\n",
    "    plt.ylabel('Word Frequency')\n",
    "\n",
    "    plt.show()\n",
    "\n",
    "zipf_law(webtext.words())"
   ]
  },
  {
   "cell_type": "code",
   "execution_count": 152,
   "metadata": {},
   "outputs": [
    {
     "data": {
      "image/png": "[encoded data removed]",
      "text/plain": [
       "<Figure size 640x480 with 1 Axes>"
      ]
     },
     "metadata": {},
     "output_type": "display_data"
    }
   ],
   "source": [
    "rand_t = ''\n",
    "\n",
    "for i in range(1000000):\n",
    "    rand_t += random.choice('abcdefg ')\n",
    "\n",
    "rand_t = rand_t.split()\n",
    "\n",
    "zipf_law(rand_t)"
   ]
  },
  {
   "attachments": {},
   "cell_type": "markdown",
   "metadata": {},
   "source": [
    "**24. Modify the text generation program in 2.2 further, to do the following tasks:**  \n",
    "\n",
    "**a. Store the `n` most likely `words` in a list words then randomly choose a word from the list using `random.choice()`.**  \n",
    "**b. Select a particular genre, such as a section of the Brown Corpus, or a genesis translation, one of the Gutenberg texts, or one of the Web texts. Train the model on this corpus and get it to generate random text. You may have to experiment with different start words. How intelligible is the text? Discuss the strengths and weaknesses of this method of generating random text.**  \n",
    "**c. Now train your system using two distinct genres and experiment with generating text in the hybrid genre. Discuss your observations.**  "
   ]
  },
  {
   "cell_type": "code",
   "execution_count": 14,
   "metadata": {},
   "outputs": [
    {
     "name": "stdout",
     "output_type": "stream",
     "text": [
      "two and But him which not her at said up if no said they was before other that years years "
     ]
    }
   ],
   "source": [
    "# for one genre:\n",
    "# fdist_words = nltk.FreqDist(brown.words(categories='lore'))\n",
    "\n",
    "fdist_words = nltk.FreqDist(brown.words(categories=['lore', 'news']))\n",
    "words_100 = [w[0] for w in fdist_words.most_common(100) if w[0].isalpha()]\n",
    "\n",
    "for i in range(20):\n",
    "    print(random.choice(words_100), end=' ')\n"
   ]
  },
  {
   "attachments": {},
   "cell_type": "markdown",
   "metadata": {},
   "source": [
    "**25. Define a function `find_language()` that takes a string as its argument, and returns a list of languages that have that string as a word. Use the `udhr` corpus and limit your searches to files in the `Latin-1` encoding.**"
   ]
  },
  {
   "cell_type": "code",
   "execution_count": 26,
   "metadata": {},
   "outputs": [
    {
     "data": {
      "text/plain": [
       "['Corsican',\n",
       " 'Danish_Dansk',\n",
       " 'English',\n",
       " 'NigerianPidginEnglish',\n",
       " 'Norwegian',\n",
       " 'Norwegian_Norsk-Bokmal',\n",
       " 'Norwegian_Norsk-Nynorsk',\n",
       " 'Tetum',\n",
       " 'Yao']"
      ]
     },
     "execution_count": 26,
     "metadata": {},
     "output_type": "execute_result"
    }
   ],
   "source": [
    "def find_language(string):\n",
    "    #latin_encode = [item for item in udhr.fileids() if item[-7:] == '-Latin1']\n",
    "    return [lang[:-7] for lang in udhr.fileids() if lang[-7:] == '-Latin1' and string in udhr.words(lang)]\n",
    "\n",
    "find_language('for')\n"
   ]
  },
  {
   "attachments": {},
   "cell_type": "markdown",
   "metadata": {},
   "source": [
    "**26. What is the branching factor of the noun hypernym hierarchy? I.e. for every noun synset that has hyponyms — or children in the hypernym hierarchy — how many do they have on average? You can get all noun synsets using `wn.all_synsets('n')`.**"
   ]
  },
  {
   "cell_type": "code",
   "execution_count": 31,
   "metadata": {},
   "outputs": [
    {
     "data": {
      "text/plain": [
       "4.543820763194153"
      ]
     },
     "execution_count": 31,
     "metadata": {},
     "output_type": "execute_result"
    }
   ],
   "source": [
    "branching_factor = [len(synset.hyponyms()) for synset in list(wn.all_synsets('n')) if len(synset.hyponyms()) != 0]\n",
    "sum(branching_factor) / len(branching_factor)"
   ]
  },
  {
   "attachments": {},
   "cell_type": "markdown",
   "metadata": {},
   "source": [
    "**27. The *polysemy* of a word is the number of senses it has. Using WordNet, we can determine that the noun dog has 7 senses with: `len(wn.synsets('dog', 'n'))`. Compute the average polysemy of nouns, verbs, adjectives and adverbs according to WordNet.**"
   ]
  },
  {
   "cell_type": "code",
   "execution_count": 32,
   "metadata": {},
   "outputs": [
    {
     "name": "stdout",
     "output_type": "stream",
     "text": [
      "1.4871220224452029\n",
      "3.409489114407147\n",
      "2.3072303179850087\n",
      "1.8531577772818568\n"
     ]
    }
   ],
   "source": [
    "nouns_polyemy = [len(wn.synsets(noun)) for noun in set(wn.all_lemma_names('n'))]\n",
    "verb_polysemy = [len(wn.synsets(verb)) for verb in set(wn.all_lemma_names('v'))]\n",
    "adj_polysemy = [len(wn.synsets(adj)) for adj in set(wn.all_lemma_names('a'))]\n",
    "adv_polysemy = [len(wn.synsets(adv)) for adv in set(wn.all_lemma_names('r'))]\n",
    "\n",
    "print(sum(nouns_polyemy) / len(set(wn.all_lemma_names('n'))))\n",
    "print(sum(verb_polysemy) / len(set(wn.all_lemma_names('v'))))\n",
    "print(sum(adj_polysemy) / len(set(wn.all_lemma_names('a'))))\n",
    "print(sum(adv_polysemy) / len(set(wn.all_lemma_names('r'))))"
   ]
  },
  {
   "attachments": {},
   "cell_type": "markdown",
   "metadata": {},
   "source": [
    "**28. Use one of the predefined similarity measures to score the similarity of each of the following pairs of words. Rank the pairs in order of decreasing similarity. How close is your ranking to the order given here, an order that was established experimentally by (Miller & Charles, 1998)?**  \n",
    "\n",
    "***car-automobile, gem-jewel, journey-voyage, boy-lad, coast-shore, asylum-madhouse, magician-wizard, midday-noon, furnace-stove, food-fruit, bird-cock, bird-crane, tool-implement, brother-monk, lad-brother, crane-implement, journey-car, monk-oracle, cemetery-woodland, food-rooster, coast-hill, forest-graveyard, shore-woodland, monk-slave, coast-forest, lad-wizard, chord-smile, glass-magician, rooster-voyage, noon-string***"
   ]
  },
  {
   "cell_type": "code",
   "execution_count": 37,
   "metadata": {},
   "outputs": [
    {
     "name": "stdout",
     "output_type": "stream",
     "text": [
      "[['car', 'automobile'], ['gem', 'jewel'], ['journey', 'voyage'], ['boy', 'lad'], ['coast', 'shore'], ['asylum', 'madhouse'], ['magician', 'wizard'], ['midday', 'noon'], ['furnace', 'stove'], ['food', 'fruit'], ['bird', 'cock'], ['bird', 'crane'], ['tool', 'implement'], ['brother', 'monk'], ['lad', 'brother'], ['crane', 'implement'], ['journey', 'car'], ['monk', 'oracle'], ['cemetery', 'woodland'], ['food', 'rooster'], ['coast', 'hill'], ['forest', 'graveyard'], ['shore', 'woodland'], ['monk', 'slave'], ['coast', 'forest'], ['lad', 'wizard'], ['chord', 'smile'], ['glass', 'magician'], ['rooster', 'voyage'], ['noon', 'string']]\n"
     ]
    }
   ],
   "source": [
    "# First we need to create a list of pairs\n",
    "s = '''car-automobile, gem-jewel, journey-voyage, boy-lad, coast-shore, asylum-madhouse, magician-wizard, midday-noon, \n",
    "furnace-stove, food-fruit, bird-cock, bird-crane, tool-implement, brother-monk, lad-brother, crane-implement, \n",
    "journey-car, monk-oracle, cemetery-woodland, food-rooster, coast-hill, forest-graveyard, shore-woodland, monk-slave, \n",
    "coast-forest, lad-wizard, chord-smile, glass-magician, rooster-voyage, noon-string'''\n",
    "\n",
    "s = s.split(',')\n",
    "s = [i.replace(' ', '') for i in s]\n",
    "s = [i.replace('\\n', '') for i in s]\n",
    "pairs = [i.split('-') for i in s]\n",
    "print(pairs)"
   ]
  },
  {
   "cell_type": "code",
   "execution_count": 42,
   "metadata": {},
   "outputs": [
    {
     "name": "stdout",
     "output_type": "stream",
     "text": [
      "car and automobile's Scores: Path Similarity:1.0 , lch Similarity:3.6375861597263857 , wup Similarity:1.0 \n",
      "\n",
      "gem and jewel's Scores: Path Similarity:0.125 , lch Similarity:1.55814461804655 , wup Similarity:0.5882352941176471 \n",
      "\n",
      "journey and voyage's Scores: Path Similarity:0.25 , lch Similarity:2.2512917986064953 , wup Similarity:0.8571428571428571 \n",
      "\n",
      "boy and lad's Scores: Path Similarity:0.3333333333333333 , lch Similarity:2.538973871058276 , wup Similarity:0.6666666666666666 \n",
      "\n",
      "coast and shore's Scores: Path Similarity:0.5 , lch Similarity:2.9444389791664407 , wup Similarity:0.9090909090909091 \n",
      "\n",
      "asylum and madhouse's Scores: Path Similarity:0.125 , lch Similarity:1.55814461804655 , wup Similarity:0.631578947368421 \n",
      "\n",
      "magician and wizard's Scores: Path Similarity:0.16666666666666666 , lch Similarity:1.845826690498331 , wup Similarity:0.631578947368421 \n",
      "\n",
      "midday and noon's Scores: Path Similarity:1.0 , lch Similarity:3.6375861597263857 , wup Similarity:1.0 \n",
      "\n",
      "furnace and stove's Scores: Path Similarity:0.07692307692307693 , lch Similarity:1.072636802264849 , wup Similarity:0.45454545454545453 \n",
      "\n",
      "food and fruit's Scores: Path Similarity:0.09090909090909091 , lch Similarity:1.2396908869280152 , wup Similarity:0.2857142857142857 \n",
      "\n",
      "bird and cock's Scores: Path Similarity:0.0625 , lch Similarity:0.8649974374866046 , wup Similarity:0.21052631578947367 \n",
      "\n",
      "bird and crane's Scores: Path Similarity:0.1111111111111111 , lch Similarity:1.4403615823901665 , wup Similarity:0.6 \n",
      "\n",
      "tool and implement's Scores: Path Similarity:0.5 , lch Similarity:2.9444389791664407 , wup Similarity:0.9333333333333333 \n",
      "\n",
      "brother and monk's Scores: Path Similarity:0.125 , lch Similarity:1.55814461804655 , wup Similarity:0.5714285714285714 \n",
      "\n",
      "lad and brother's Scores: Path Similarity:0.14285714285714285 , lch Similarity:1.6916760106710724 , wup Similarity:0.6 \n",
      "\n",
      "crane and implement's Scores: Path Similarity:0.1 , lch Similarity:1.3350010667323402 , wup Similarity:0.47058823529411764 \n",
      "\n",
      "journey and car's Scores: Path Similarity:0.05 , lch Similarity:0.6418538861723948 , wup Similarity:0.09523809523809523 \n",
      "\n",
      "monk and oracle's Scores: Path Similarity:0.125 , lch Similarity:1.55814461804655 , wup Similarity:0.5714285714285714 \n",
      "\n",
      "cemetery and woodland's Scores: Path Similarity:0.1111111111111111 , lch Similarity:1.4403615823901665 , wup Similarity:0.42857142857142855 \n",
      "\n",
      "food and rooster's Scores: Path Similarity:0.0625 , lch Similarity:0.8649974374866046 , wup Similarity:0.21052631578947367 \n",
      "\n",
      "coast and hill's Scores: Path Similarity:0.2 , lch Similarity:2.0281482472922856 , wup Similarity:0.6666666666666666 \n",
      "\n",
      "forest and graveyard's Scores: Path Similarity:0.07142857142857142 , lch Similarity:0.9985288301111273 , wup Similarity:0.13333333333333333 \n",
      "\n",
      "shore and woodland's Scores: Path Similarity:0.2 , lch Similarity:2.0281482472922856 , wup Similarity:0.6 \n",
      "\n",
      "monk and slave's Scores: Path Similarity:0.2 , lch Similarity:2.0281482472922856 , wup Similarity:0.6666666666666666 \n",
      "\n",
      "coast and forest's Scores: Path Similarity:0.09090909090909091 , lch Similarity:1.2396908869280152 , wup Similarity:0.16666666666666666 \n",
      "\n",
      "lad and wizard's Scores: Path Similarity:0.2 , lch Similarity:2.0281482472922856 , wup Similarity:0.6666666666666666 \n",
      "\n",
      "chord and smile's Scores: Path Similarity:0.09090909090909091 , lch Similarity:1.2396908869280152 , wup Similarity:0.2857142857142857 \n",
      "\n",
      "glass and magician's Scores: Path Similarity:0.1111111111111111 , lch Similarity:1.4403615823901665 , wup Similarity:0.3333333333333333 \n",
      "\n",
      "rooster and voyage's Scores: Path Similarity:0.041666666666666664 , lch Similarity:0.4595323293784402 , wup Similarity:0.08 \n",
      "\n",
      "noon and string's Scores: Path Similarity:0.058823529411764705 , lch Similarity:0.8043728156701697 , wup Similarity:0.1111111111111111 \n",
      "\n"
     ]
    }
   ],
   "source": [
    "def find_similarities(pair):\n",
    "    syn1 = wn.synsets(pair[0])[0]\n",
    "    syn2 = wn.synsets(pair[1])[0]\n",
    "\n",
    "    path = syn1.path_similarity(syn2)\n",
    "    lch = syn1.lch_similarity(syn2)\n",
    "    wup = syn1.wup_similarity(syn2)\n",
    "    \n",
    "    return f\"Path Similarity:{path} , lch Similarity:{lch} , wup Similarity:{wup}\"\n",
    "\n",
    "for p in pairs:\n",
    "    print(f\"{p[0]} and {p[1]}\\'s Scores: {find_similarities(p)}\", \"\\n\")"
   ]
  }
 ],
 "metadata": {
  "kernelspec": {
   "display_name": "Python 3",
   "language": "python",
   "name": "python3"
  },
  "language_info": {
   "codemirror_mode": {
    "name": "ipython",
    "version": 3
   },
   "file_extension": ".py",
   "mimetype": "text/x-python",
   "name": "python",
   "nbconvert_exporter": "python",
   "pygments_lexer": "ipython3",
   "version": "3.10.6"
  },
  "orig_nbformat": 4,
  "vscode": {
   "interpreter": {
    "hash": "e7370f93d1d0cde622a1f8e1c04877d8463912d04d973331ad4851f04de6915a"
   }
  }
 },
 "nbformat": 4,
 "nbformat_minor": 2
}
