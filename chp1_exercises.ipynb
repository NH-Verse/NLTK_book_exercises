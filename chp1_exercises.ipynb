{
 "cells": [
  {
   "cell_type": "code",
   "execution_count": 1,
   "metadata": {},
   "outputs": [
    {
     "name": "stdout",
     "output_type": "stream",
     "text": [
      "*** Introductory Examples for the NLTK Book ***\n",
      "Loading text1, ..., text9 and sent1, ..., sent9\n",
      "Type the name of the text or sentence to view it.\n",
      "Type: 'texts()' or 'sents()' to list the materials.\n",
      "text1: Moby Dick by Herman Melville 1851\n",
      "text2: Sense and Sensibility by Jane Austen 1811\n",
      "text3: The Book of Genesis\n",
      "text4: Inaugural Address Corpus\n",
      "text5: Chat Corpus\n",
      "text6: Monty Python and the Holy Grail\n",
      "text7: Wall Street Journal\n",
      "text8: Personals Corpus\n",
      "text9: The Man Who Was Thursday by G . K . Chesterton 1908\n"
     ]
    }
   ],
   "source": [
    "import nltk\n",
    "from nltk.book import * "
   ]
  },
  {
   "attachments": {},
   "cell_type": "markdown",
   "metadata": {},
   "source": [
    "**1. Try using the Python interpreter as a calculator, and typing expressions like 12 / (4 + 1):**"
   ]
  },
  {
   "cell_type": "code",
   "execution_count": 2,
   "metadata": {},
   "outputs": [
    {
     "name": "stdout",
     "output_type": "stream",
     "text": [
      "2.4\n"
     ]
    }
   ],
   "source": [
    "print(12 / ( 4 + 1 ))"
   ]
  },
  {
   "attachments": {},
   "cell_type": "markdown",
   "metadata": {},
   "source": [
    "**2. Given an alphabet of 26 letters, there are 26 to the power 10, or 26 ** 10, ten-letter strings we can form. That works out to 141167095653376. How many hundred-letter strings are possible?**\n",
    "\n",
    "A: 26 * 26 * 26 * ... 26 (a hundred times) --> 26**100"
   ]
  },
  {
   "cell_type": "code",
   "execution_count": 4,
   "metadata": {},
   "outputs": [
    {
     "data": {
      "text/plain": [
       "3142930641582938830174357788501626427282669988762475256374173175398995908420104023465432599069702289330964075081611719197835869803511992549376"
      ]
     },
     "execution_count": 4,
     "metadata": {},
     "output_type": "execute_result"
    }
   ],
   "source": [
    "26**100"
   ]
  },
  {
   "attachments": {},
   "cell_type": "markdown",
   "metadata": {},
   "source": [
    "**3. The Python multiplication operation can be applied to lists. What happens when you type `['Monty', 'Python'] * 20`, or `3 * sent1`?**"
   ]
  },
  {
   "cell_type": "code",
   "execution_count": 6,
   "metadata": {},
   "outputs": [
    {
     "name": "stdout",
     "output_type": "stream",
     "text": [
      "['Monty', 'Python', 'Monty', 'Python', 'Monty', 'Python', 'Monty', 'Python', 'Monty', 'Python', 'Monty', 'Python', 'Monty', 'Python', 'Monty', 'Python', 'Monty', 'Python', 'Monty', 'Python', 'Monty', 'Python', 'Monty', 'Python', 'Monty', 'Python', 'Monty', 'Python', 'Monty', 'Python', 'Monty', 'Python', 'Monty', 'Python', 'Monty', 'Python', 'Monty', 'Python', 'Monty', 'Python'] \n",
      "['Call', 'me', 'Ishmael', '.', 'Call', 'me', 'Ishmael', '.', 'Call', 'me', 'Ishmael', '.']\n"
     ]
    }
   ],
   "source": [
    "print(['Monty', 'Python'] * 20, f\"\\n{3 * sent1}\")"
   ]
  },
  {
   "attachments": {},
   "cell_type": "markdown",
   "metadata": {},
   "source": [
    "**4. Review 1 on computing with language. How many words are there in text2? How many distinct words are there?**"
   ]
  },
  {
   "cell_type": "code",
   "execution_count": 7,
   "metadata": {},
   "outputs": [
    {
     "name": "stdout",
     "output_type": "stream",
     "text": [
      "Number of words: 141576 and Number of distinct words: 6833\n"
     ]
    }
   ],
   "source": [
    "print(f\"Number of words: {len(text2)} and Number of distinct words: {len(set(text2))}\")"
   ]
  },
  {
   "attachments": {},
   "cell_type": "markdown",
   "metadata": {},
   "source": [
    "5. Compare the lexical diversity scores for humor and romance fiction in 1.1. Which genre is more lexically diverse?"
   ]
  },
  {
   "attachments": {},
   "cell_type": "markdown",
   "metadata": {},
   "source": [
    "|Genre|Tokens|Types|Lexical Diversity|\n",
    "|-----------------|------|-----|-----------------|\n",
    "|Humor|21695|5017|0.231|\n",
    "|fiction: Romance|70022|8452|0.121|\n",
    "\n",
    "\n",
    "Humor (0.231) is more lexically diverse than Romance (0.121)"
   ]
  },
  {
   "attachments": {},
   "cell_type": "markdown",
   "metadata": {},
   "source": [
    "**6. Produce a dispersion plot of the four main protagonists in Sense and Sensibility: Elinor, Marianne, Edward, and Willoughby. What can you observe about the different roles played by the males and females in this novel? Can you identify the couples?**"
   ]
  },
  {
   "cell_type": "code",
   "execution_count": 8,
   "metadata": {},
   "outputs": [
    {
     "data": {
      "image/png": "[encoded data removed]",
      "text/plain": [
       "<Figure size 640x480 with 1 Axes>"
      ]
     },
     "metadata": {},
     "output_type": "display_data"
    }
   ],
   "source": [
    "# Sense and Sensibility is text2\n",
    "\n",
    "text2.dispersion_plot(['Elinor', 'Marianne', 'Edward', 'Willoughby'])"
   ]
  },
  {
   "attachments": {},
   "cell_type": "markdown",
   "metadata": {},
   "source": [
    "From the plot it can be seen that the male's presence are more than the women\n",
    "And I cant tell the couples"
   ]
  },
  {
   "attachments": {},
   "cell_type": "markdown",
   "metadata": {},
   "source": [
    "**7. Find the collocations in text5.**"
   ]
  },
  {
   "cell_type": "code",
   "execution_count": 10,
   "metadata": {},
   "outputs": [
    {
     "name": "stdout",
     "output_type": "stream",
     "text": [
      "wanna chat; PART JOIN; MODE #14-19teens; JOIN PART; PART PART;\n",
      "cute.-ass MP3; MP3 player; JOIN JOIN; times .. .; ACTION watches; guys\n",
      "wanna; song lasts; last night; ACTION sits; -...)...- S.M.R.; Lime\n",
      "Player; Player 12%; dont know; lez gurls; long time\n"
     ]
    }
   ],
   "source": [
    "text5.collocations()"
   ]
  },
  {
   "attachments": {},
   "cell_type": "markdown",
   "metadata": {},
   "source": [
    "**8. Consider the following Python expression: `len(set(text4))`. State the purpose of this expression. Describe the two steps involved in performing this computation.**\n",
    "\n",
    "a. It first removes the repetitive word tokens so we will have a distinct vocab --> `set(text4)`  \n",
    "b. then it computes length of the vocabulary --> `len(set(text4))`  \n",
    "c. Purpose is to determine length of the distinct vocabulary"
   ]
  },
  {
   "attachments": {},
   "cell_type": "markdown",
   "metadata": {},
   "source": [
    "- a. Define a string and assign it to a variable, e.g., my_string = 'My String' (but put something more interesting in the string). Print the contents of this variable in two ways, first by simply typing the variable name and pressing enter, then by using the print statement.  \n",
    "\n",
    "- b. Try adding the string to itself using my_string + my_string, or multiplying it by a number, e.g., my_string * 3. Notice that the strings are joined together without any spaces. How could you fix this?"
   ]
  },
  {
   "cell_type": "code",
   "execution_count": 12,
   "metadata": {},
   "outputs": [
    {
     "name": "stdout",
     "output_type": "stream",
     "text": [
      "Information Extraction is so cool\n"
     ]
    },
    {
     "data": {
      "text/plain": [
       "'Information Extraction is so cool'"
      ]
     },
     "execution_count": 12,
     "metadata": {},
     "output_type": "execute_result"
    }
   ],
   "source": [
    "my_string = 'Information Extraction is so cool'\n",
    "print(my_string)\n",
    "my_string"
   ]
  },
  {
   "cell_type": "code",
   "execution_count": 16,
   "metadata": {},
   "outputs": [
    {
     "name": "stdout",
     "output_type": "stream",
     "text": [
      "Information Extraction is so coolInformation Extraction is so cool\n",
      "Information Extraction is so cool Information Extraction is so cool Information Extraction is so cool Information Extraction is so cool Information Extraction is so cool \n"
     ]
    },
    {
     "data": {
      "text/plain": [
       "'Information Extraction is so cool Information Extraction is so cool Information Extraction is so cool Information Extraction is so cool Information Extraction is so cool'"
      ]
     },
     "execution_count": 16,
     "metadata": {},
     "output_type": "execute_result"
    }
   ],
   "source": [
    "print(my_string + my_string)\n",
    "print((my_string+' ') * 5) \n",
    "# or this way:\n",
    "' '.join([my_string] * 5)"
   ]
  },
  {
   "attachments": {},
   "cell_type": "markdown",
   "metadata": {},
   "source": [
    "**10. Define a variable my_sent to be a list of words, using the syntax my_sent = [\"My\", \"sent\"] (but with your own words, or a favorite saying).**\n",
    "\n",
    "- **a. Use `' '.join(my_sent)` to convert this into a string.**\n",
    "- **b. Use `split()` to split the string back into the list form you had to start with.**"
   ]
  },
  {
   "cell_type": "code",
   "execution_count": 17,
   "metadata": {},
   "outputs": [
    {
     "name": "stdout",
     "output_type": "stream",
     "text": [
      "live the life you want not the one they tell you to\n",
      "['live', 'the', 'life', 'you', 'want', 'not', 'the', 'one', 'they', 'tell', 'you', 'to']\n"
     ]
    }
   ],
   "source": [
    "my_sent = ['live', 'the', 'life', 'you', 'want', 'not', 'the', 'one', 'they', 'tell', 'you', 'to']\n",
    "to_string = ' '.join(my_sent)\n",
    "print(to_string)\n",
    "print(to_string.split())"
   ]
  },
  {
   "attachments": {},
   "cell_type": "markdown",
   "metadata": {},
   "source": [
    "**11. Define several variables containing lists of words, e.g., phrase1, phrase2, and so on. Join them together in various combinations (using the plus operator) to form whole sentences. What is the relationship between `len(phrase1 + phrase2)` and `len(phrase1) + len(phrase2)`?**"
   ]
  },
  {
   "cell_type": "code",
   "execution_count": 21,
   "metadata": {},
   "outputs": [
    {
     "name": "stdout",
     "output_type": "stream",
     "text": [
      "live life your way\n",
      "17\n",
      "17\n"
     ]
    }
   ],
   "source": [
    "phrase1, phrase2 = 'live life', 'your way'\n",
    "print(phrase1 + ' ' + phrase2)\n",
    "print(len(phrase1 + phrase2))\n",
    "print(len(phrase1) + len(phrase2))\n",
    "# So len(phrase1 + phrase2) = len(phrase1) + len(phrase2)"
   ]
  },
  {
   "attachments": {},
   "cell_type": "markdown",
   "metadata": {},
   "source": [
    "**12. Consider the following two expressions, which have the same value. Which one will typically be more relevant in NLP? Why?**  \n",
    "\n",
    "**a. `\"Monty Python\"[6:12]`**  \n",
    "**b. `[\"Monty\", \"Python\"][1]`**"
   ]
  },
  {
   "attachments": {},
   "cell_type": "markdown",
   "metadata": {},
   "source": [
    "Expression b. ['Monty', 'Python'][1] because NLP deals with structured data rather than raw text string"
   ]
  },
  {
   "attachments": {},
   "cell_type": "markdown",
   "metadata": {},
   "source": [
    "**13. We have seen how to represent a sentence as a list of words, where each word is a sequence of characters. What does `sent1[2][2]` do? Why? Experiment with other index values.**"
   ]
  },
  {
   "attachments": {},
   "cell_type": "markdown",
   "metadata": {},
   "source": [
    "the `sent1[2]` selects the third item from the list and then the `sent1[2][2]` selects the third character of the third item."
   ]
  },
  {
   "attachments": {},
   "cell_type": "markdown",
   "metadata": {},
   "source": [
    "**14. The first sentence of `text3` is provided to you in the variable `sent3`. The index of *the* in `sent3` is 1, because `sent3[1]` gives us `'the'`. What are the indexes of the two other occurrences of this word in `sent3`?**"
   ]
  },
  {
   "cell_type": "code",
   "execution_count": 4,
   "metadata": {},
   "outputs": [
    {
     "name": "stdout",
     "output_type": "stream",
     "text": [
      "1\n",
      "5\n",
      "8\n"
     ]
    }
   ],
   "source": [
    "for index, word in enumerate(sent3):\n",
    "    if word.lower() == 'the':\n",
    "        print(index)"
   ]
  },
  {
   "attachments": {},
   "cell_type": "markdown",
   "metadata": {},
   "source": [
    "**15. Find all words in the Chat Corpus (`text5`) starting with the letter *b*. Show them in alphabetical order.**"
   ]
  },
  {
   "cell_type": "code",
   "execution_count": 10,
   "metadata": {},
   "outputs": [
    {
     "name": "stdout",
     "output_type": "stream",
     "text": [
      "['b', 'b-day', 'b/c', 'b4', 'babay', 'babble', 'babblein', 'babe', 'babes', 'babi', 'babies', 'babiess', 'baby', 'babycakeses', 'bachelorette', 'back', 'backatchya', 'backfrontsidewaysandallaroundtheworld', 'backroom', 'backup', 'bacl', 'bad', 'bag', 'bagel', 'bagels', 'bahahahaa', 'bak', 'baked', 'balad', 'balance', 'balck', 'ball', 'ballin', 'balls', 'ban', 'band', 'bandito', 'bandsaw', 'banjoes', 'banned', 'baord', 'bar', 'barbie', 'bare', 'barely', 'bares', 'barfights', 'barks', 'barn', 'barrel', 'base', 'bases', 'basically', 'basket', 'battery', 'bay', 'bbbbbyyyyyyyeeeeeeeee', 'bbiam', 'bbl', 'bbs', 'bc', 'be', 'beach', 'beachhhh', 'beam', 'beams', 'beanbag', 'beans', 'bear', 'bears', 'beat', 'beaten', 'beatles', 'beats', 'beattles', 'beautiful', 'because', 'beckley', 'become', 'bed', 'bedford', 'bedroom', 'beeeeehave', 'beeehave', 'been', 'beer', 'before', 'beg', 'begin', 'behave', 'behind', 'bein', 'being', 'beleive', 'believe', 'belive', 'bell', 'belly', 'belong', 'belongings', 'ben', 'bend', 'benz', 'bes', 'beside', 'besides', 'best', 'bet', 'betrayal', 'betta', 'better', 'between', 'beuty', 'bf', 'bi', 'biatch', 'bible', 'biebsa', 'bied', 'big', 'bigest', 'biggest', 'biiiatch', 'bike', 'bikes', 'bikini', 'bio', 'bird', 'birfday', 'birthday', 'bisexual', 'bishes', 'bit', 'bitch', 'bitches', 'bitdh', 'bite', 'bites', 'biyatch', 'biz', 'bj', 'black', 'blade', 'blah', 'blank', 'blankie', 'blazed', 'bleach', 'blech', 'bless', 'blessings', 'blew', 'blind', 'blinks', 'bliss', 'blocking', 'bloe', 'blood', 'blooded', 'bloody', 'blow', 'blowing', 'blowjob', 'blowup', 'blue', 'blueberry', 'bluer', 'blues', 'blunt', 'board', 'bob', 'bodies', 'body', 'boed', 'boght', 'boi', 'boing', 'boinked', 'bois', 'bomb', 'bone', 'boned', 'bones', 'bong', 'boning', 'bonus', 'boo', 'booboo', 'boobs', 'book', 'boom', 'boooooooooooglyyyyyy', 'boost', 'boot', 'bootay', 'booted', 'boots', 'booty', 'border', 'borderline', 'bored', 'boredom', 'boring', 'born', 'born-again', 'bosom', 'boss', 'bossy', 'bot', 'both', 'bother', 'bothering', 'bottle', 'bought', 'bounced', 'bouncer', 'bouncers', 'bound', 'bout', 'bouts', 'bow', 'bowl', 'box', 'boy', 'boyfriend', 'boys', 'bra', 'brad', 'brady', 'brain', 'brakes', 'brass', 'brat', 'brb', 'brbbb', 'bread', 'break', 'breaks', 'breath', 'breathe', 'bred', 'breeding', 'bright', 'brightened', 'bring', 'brings', 'bro', 'broke', 'brooklyn', 'brother', 'brothers', 'brought', 'brown', 'brrrrrrr', 'bruises', 'brunswick', 'brwn', 'btw', 'bucks', 'buddyyyyyy', 'buff', 'buffalo', 'bug', 'bugs', 'buh', 'build', 'builds', 'built', 'bull', 'bulls', 'bum', 'bumber', 'bummer', 'bumped', 'bumper', 'bunch', 'bunny', 'burger', 'burito', 'burned', 'burns', 'burp', 'burpin', 'burps', 'burried', 'burryed', 'bus', 'buses', 'bust', 'busted', 'busy', 'but', 'butt', 'butter', 'butterscotch', 'button', 'buttons', 'buy', 'buying', 'bwahahahahahahahahahaha', 'by', 'byb', 'bye', 'byeee', 'byeeee', 'byeeeeeeee', 'byeeeeeeeeeeeee', 'byes']\n"
     ]
    }
   ],
   "source": [
    "b = [word for word in set(text5) if word.startswith('b')]\n",
    "print(sorted(b))"
   ]
  },
  {
   "attachments": {},
   "cell_type": "markdown",
   "metadata": {},
   "source": [
    "**16. Type the expression `list(range(10))` at the interpreter prompt. Now try `list(range(10, 20))`, `list(range(10, 20, 2))`, and `list(range(20, 10, -2))`. We will see a variety of uses for this built-in function in later chapters.**"
   ]
  },
  {
   "cell_type": "code",
   "execution_count": 15,
   "metadata": {},
   "outputs": [
    {
     "name": "stdout",
     "output_type": "stream",
     "text": [
      "[0, 1, 2, 3, 4, 5, 6, 7, 8, 9]\n",
      "[10, 11, 12, 13, 14, 15, 16, 17, 18, 19]\n",
      "[10, 12, 14, 16, 18]\n",
      "[20, 18, 16, 14, 12]\n"
     ]
    }
   ],
   "source": [
    "print(list(range(10)))\n",
    "print(list(range(10, 20)))\n",
    "print(list(range(10, 20, 2)))\n",
    "print(list(range(20, 10, -2)))"
   ]
  },
  {
   "attachments": {},
   "cell_type": "markdown",
   "metadata": {},
   "source": [
    "**17. Use `text9.index()` to find the index of the word *sunset*. You'll need to insert this word as an argument between the parentheses. By a process of trial and error, find the slice for the complete sentence that contains this word.**"
   ]
  },
  {
   "cell_type": "code",
   "execution_count": 25,
   "metadata": {},
   "outputs": [
    {
     "name": "stdout",
     "output_type": "stream",
     "text": [
      "629\n",
      "THE suburb of Saffron Park lay on the sunset side of London , as red and ragged as a cloud of sunset.\n"
     ]
    }
   ],
   "source": [
    "print(text9.index('sunset'))\n",
    "print(' '.join(text9[621:643]) + text9[643]) # in order to not have space before the period"
   ]
  },
  {
   "attachments": {},
   "cell_type": "markdown",
   "metadata": {},
   "source": [
    "**18. Using list addition, and the `set` and `sorted` operations, compute the vocabulary of the sentences sent1 ... sent8.**"
   ]
  },
  {
   "cell_type": "code",
   "execution_count": 26,
   "metadata": {},
   "outputs": [
    {
     "name": "stdout",
     "output_type": "stream",
     "text": [
      "75\n"
     ]
    }
   ],
   "source": [
    "print(len(sorted(set(sent1 + sent2 + sent3 + sent4 + sent5 + sent6 + sent7 + sent8))))"
   ]
  },
  {
   "attachments": {},
   "cell_type": "markdown",
   "metadata": {},
   "source": [
    "**19. What is the difference between the following two lines? Which one will give a larger value? Will this be the case for other texts?**\n",
    "- `sorted(set(w.lower() for w in text1))`\n",
    "- `sorted(w.lower() for w in set(text1))`"
   ]
  },
  {
   "attachments": {},
   "cell_type": "markdown",
   "metadata": {},
   "source": [
    "- The first line first converts all words in `text1` to their lowercase version. then out of this new list, gives us a distinct list of words after using `set`\n",
    "- The second line first makes a distinct vocabulary out of words in `text1` and then converts them to their lowercase version  \n",
    "\n",
    "The second line produces a larger value because when we first remove repetitions before lowercasing them, words 'the' and 'THE' count as 2 separate words, but if we first lowercase them (this would be the first line) when looking for repetitions we would already have 'the' and 'the' so they will be only counted once."
   ]
  },
  {
   "cell_type": "code",
   "execution_count": 27,
   "metadata": {},
   "outputs": [
    {
     "name": "stdout",
     "output_type": "stream",
     "text": [
      "17231\n",
      "19317\n"
     ]
    }
   ],
   "source": [
    "print(len(sorted(set(w.lower() for w in text1))))\n",
    "print(len(sorted(w.lower() for w in set(text1))))"
   ]
  },
  {
   "attachments": {},
   "cell_type": "markdown",
   "metadata": {},
   "source": [
    "**20. What is the difference between the following two tests: `w.isupper()` and not `w.islower()`?**\n",
    "\n",
    "A: `w.isupper()` checks every character in `w` to be uppercase while `w.islower()` returns `False` as soon as it finds a charater that is not lowercase and stops checking the rest  \n",
    "\n",
    "So with `w.isupper()` we will have a list of words that **ALL** of the characters **are uppercase** and with `not w.islower()` we will have a list of words that **not all characters of a word are uppercase** but *only some* although *words that are all uppercase would be in this list too*"
   ]
  },
  {
   "cell_type": "code",
   "execution_count": 33,
   "metadata": {},
   "outputs": [
    {
     "name": "stdout",
     "output_type": "stream",
     "text": [
      "False\n",
      "True\n"
     ]
    }
   ],
   "source": [
    "w = 'The End'\n",
    "print(w.isupper())\n",
    "print(not w.islower())"
   ]
  },
  {
   "attachments": {},
   "cell_type": "markdown",
   "metadata": {},
   "source": [
    "**21. Write the slice expression that extracts the last two words of text2.**"
   ]
  },
  {
   "cell_type": "code",
   "execution_count": 5,
   "metadata": {},
   "outputs": [
    {
     "name": "stdout",
     "output_type": "stream",
     "text": [
      "['THE', 'END']\n"
     ]
    }
   ],
   "source": [
    "print(text2[-2:])"
   ]
  },
  {
   "attachments": {},
   "cell_type": "markdown",
   "metadata": {},
   "source": [
    "**22. Find all the four-letter words in the Chat Corpus (text5). With the help of a frequency distribution (FreqDist), show these words in decreasing order of frequency.**"
   ]
  },
  {
   "cell_type": "code",
   "execution_count": 9,
   "metadata": {},
   "outputs": [
    {
     "name": "stdout",
     "output_type": "stream",
     "text": [
      "[('JOIN', 1021), ('PART', 1016), ('that', 274), ('what', 183), ('here', 181), ('....', 170), ('have', 164), ('like', 156), ('with', 152), ('chat', 142), ('your', 137), ('good', 130), ('just', 125), ('lmao', 107), ('know', 103), ('room', 98), ('from', 92), ('this', 86), ('well', 81), ('back', 78), ('hiya', 78), ('they', 77), ('yeah', 75), ('dont', 75), ('want', 71), ('love', 60), ('some', 58), ('guys', 58), ('been', 57), ('talk', 56), ('nice', 52), ('time', 50), ('when', 48), ('make', 44), ('haha', 44), ('girl', 43), ('need', 43), ('U122', 42), ('MODE', 41), ('will', 40), ('then', 40), ('much', 40), ('over', 39), ('were', 38), ('work', 38), ('take', 37), ('U115', 36), ('song', 36), ('U121', 36), ('U156', 35), ('does', 35), ('even', 35), ('U105', 35), ('seen', 35), ('damn', 34), ('more', 34), ('come', 33), ('only', 33), ('hell', 29), ('long', 28), ('them', 28), ('name', 27), ('tell', 27), ('look', 26), ('baby', 26), ('sure', 26), ('call', 26), ('away', 26), ('play', 25), ('U110', 25), ('U114', 25), ('NICK', 24), ('down', 24), ('cool', 24), ('many', 23), ('sexy', 23), ('hate', 23), ('said', 23), ('ever', 22), ('last', 22), ('life', 21), ('hear', 21), ('live', 20), ('must', 19), ('feel', 19), ('LMAO', 19), ('give', 19), ('same', 19), ('mean', 19), ('stop', 19), ('very', 19), ('!!!!', 18), ('cant', 18), ('What', 18), ('find', 18), ('hugs', 18), ('lost', 17), ('left', 17), ('hair', 17), ('nite', 17), ('shit', 17), ('busy', 17), ('????', 17), ('U104', 17), ('fine', 16), ('real', 16), ('game', 16), ('fuck', 15), ('kill', 15), ('sits', 15), ('heya', 15), ('lets', 15), ('eyes', 15), ('goes', 14), ('shut', 14), ('true', 14), ('read', 14), ('keep', 14), ('wait', 14), ('pick', 13), ('U168', 13), ('free', 13), ('nope', 13), ('else', 13), ('near', 13), ('U102', 12), ('told', 12), ('used', 12), ('awww', 12), ('male', 12), ('than', 12), ('gets', 12), ('head', 12), ('hehe', 12), ('stay', 12), ('hope', 12), ('This', 12), ('bout', 12), ('cold', 12), ('babe', 11), ('year', 11), ('U107', 11), ('face', 11), ('U119', 11), ('doin', 11), ('kids', 11), ('.. .', 11), ('wont', 11), ('home', 11), ('perv', 11), ('yall', 11), ('into', 11), ('once', 10), ('week', 10), ('show', 10), ('Liam', 10), ('Yeah', 10), ('mind', 10), ('hard', 10), ('help', 10), ('Well', 10), ('U101', 10), ('U132', 10), ('neck', 9), ('rock', 9), ('mine', 9), ('hour', 9), ('hmmm', 9), ('full', 9), ('such', 9), ('type', 9), ('dang', 9), ('kiss', 9), ('runs', 9), ('crap', 9), ('best', 9), ('pics', 9), ('nick', 9), ('aint', 9), ('care', 9), ('dead', 9), ('book', 9), ('sick', 9), ('; ..', 9), ('soon', 9), ('days', 9), ('says', 8), ('suck', 8), ('made', 8), ('sang', 8), ('wife', 8), ('blue', 8), ('heyy', 8), ('word', 8), ('U144', 8), ('lady', 8), ('case', 8), ('U139', 8), ('wana', 8), ('went', 8), ('hows', 8), ('dude', 7), ('That', 7), ('ahhh', 7), ('U108', 7), ('dear', 7), ('rule', 7), ('took', 7), ('wear', 7), ('alot', 7), ('okay', 7), ('kick', 7), ('Hiya', 7), ('hand', 7), ('U169', 7), ('fast', 7), ('comp', 6), ('done', 6), ('U116', 6), ('U197', 6), ('blah', 6), ('oops', 6), ('knew', 6), ('part', 6), ('U103', 6), ('sock', 6), ('goin', 6), ('))))', 6), ('poor', 6), ('Song', 6), ('next', 6), ('ride', 6), ('food', 6), ('pink', 6), ('U142', 6), ('U520', 6), ('whos', 6), ('seem', 6), ('send', 6), ('U165', 6), ('They', 6), ('main', 6), ('gone', 6), ('Last', 6), ('sing', 6), ('thru', 6), ('list', 6), ('U129', 6), ('ball', 6), ('<---', 6), ('most', 6), ('U120', 6), ('roll', 5), ('boys', 5), ('fool', 5), ('kool', 5), ('feet', 5), ('fall', 5), ('nose', 5), ('cali', 5), ('Lime', 5), ('warm', 5), ('both', 5), ('easy', 5), ('wish', 5), ('land', 5), ('fire', 5), ('legs', 5), ('came', 5), ('boss', 5), ('till', 5), ('Have', 5), ('meds', 5), ('hang', 5), ('joke', 5), ('caps', 5), ('beer', 5), ('idea', 5), ('lick', 5), ('####', 5), ('ohhh', 5), ('lose', 5), ('wall', 5), ('luck', 5), ('U128', 5), ('yoko', 5), ('late', 5), ('also', 5), ('meet', 5), ('xbox', 5), ('felt', 5), ('miss', 5), ('soul', 5), ('When', 5), ('heck', 5), ('jerk', 4), ('date', 4), ('grrr', 4), ('mmmm', 4), ('ugly', 4), ('U133', 4), ('ones', 4), ('team', 4), ('self', 4), ('U146', 4), ('U117', 4), ('none', 4), ('pain', 4), ('line', 4), ('U820', 4), ('ROOM', 4), ('lame', 4), ('glad', 4), ('holy', 4), ('each', 4), ('pfft', 4), ('sigh', 4), ('pass', 4), ('U989', 4), ('high', 4), ('fart', 4), ('huge', 4), ('shes', 4), (',,,,', 4), ('U123', 4), ('U126', 4), ('shot', 4), ('U130', 4), ('evil', 4), ('woot', 4), ('cute', 4), ('ways', 4), ('door', 4), ('U219', 4), ('lord', 4), ('U819', 4), ('quit', 4), ('hook', 4), ('ouch', 4), ('ummm', 4), ('Like', 4), ('U988', 4), ('rest', 4), ('U154', 4), ('kent', 4), ('puff', 4), ('beat', 4), ('turn', 4), ('open', 4), ('U196', 4), ('rubs', 3), ('U148', 3), ('U153', 3), ('AKDT', 3), ('hawt', 3), ('hiii', 3), ('ring', 3), ('half', 3), ('piff', 3), ('wack', 3), ('hurt', 3), ('town', 3), ('amen', 3), ('deop', 3), ('toes', 3), ('rain', 3), ('imma', 3), ('walk', 3), ('hump', 3), ('itch', 3), ('gawd', 3), ('CHAT', 3), ('gold', 3), ('died', 3), ('yada', 3), ('orgy', 3), ('U136', 3), ('toss', 3), ('hola', 3), ('U163', 3), ('ello', 3), ('band', 3), ('army', 3), ('U141', 3), ('Wind', 3), ('clap', 3), ('vote', 3), ('THAT', 3), ('U109', 3), ('mary', 3), ('isnt', 3), ('((((', 3), ('hick', 3), ('Only', 3), ('ahem', 3), ('slap', 3), ('wine', 3), ('move', 3), ('hail', 3), ('deal', 3), ('nana', 3), ('U106', 3), ('tune', 3), ('slow', 3), ('roof', 3), ('Same', 3), ('road', 3), ('jump', 3), ('wash', 3), ('U145', 3), ('elle', 3), ('hank', 3), ('note', 3), ('bare', 3), ('yawn', 3), ('snow', 3), ('lead', 3), ('2006', 3), ('soft', 3), ('swim', 3), ('guyz', 3), ('skin', 3), ('wazz', 3), ('DING', 3), ('butt', 3), ('bend', 3), ('Your', 3), ('Elev', 3), ('flaw', 2), ('Days', 2), ('High', 2), ('Okay', 2), ('tyvm', 2), ('n9ne', 2), ('golf', 2), ('foot', 2), ('kind', 2), ('deep', 2), ('born', 2), ('U112', 2), ('typo', 2), ('opps', 2), ('sand', 2), ('Just', 2), ('Come', 2), ('sore', 2), ('lies', 2), ('Ummm', 2), ('tock', 2), ('Tell', 2), ('porn', 2), ('mike', 2), ('chip', 2), ('twin', 2), ('NONE', 2), ('grrl', 2), ('DOES', 2), ('hmph', 2), ('humm', 2), ('Sure', 2), ('Ahhh', 2), ('shop', 2), ('dumb', 2), ('ages', 2), ('Lets', 2), ('>:->', 2), ('limp', 2), ('U155', 2), ('Ohio', 2), ('heal', 2), ('Here', 2), ('sell', 2), ('plan', 2), ('luvs', 2), ('bear', 2), ('?!?!', 2), ('sooo', 2), ('sort', 2), ('wats', 2), ('hits', 2), ('pool', 2), ('Drew', 2), ('yard', 2), ('U138', 2), (\"ex's\", 2), ('argh', 2), ('From', 2), ('HAVE', 2), ('U100', 2), ('cars', 2), ('clue', 2), ('spin', 2), ('Poor', 2), ('burp', 2), ('area', 2), ('adds', 2), ('deaf', 2), ('newp', 2), ('haze', 2), ('WITH', 2), ('Gosh', 2), ('Lies', 2), ('bite', 2), ('kewl', 2), ('FROM', 2), ('KoOL', 2), ('<333', 2), ('ciao', 2), ('John', 2), ('city', 2), ('whip', 2), ('1996', 2), ('tick', 2), ('wooo', 2), ('babi', 2), ('mins', 2), ('rich', 2), ('mama', 2), ('moon', 2), ('Down', 2), ('yeas', 2), ('??!!', 2), ('hint', 2), ('ohio', 2), ('tisk', 2), ('drop', 2), ('cast', 2), ('Heyy', 2), ('howz', 2), ('hold', 2), ('eats', 2), ('U170', 2), ('gimp', 2), ('club', 2), ('!!!.', 2), ('five', 2), ('spot', 2), ('mass', 2), ('rent', 2), ('root', 2), ('drew', 2), ('park', 2), ('flow', 2), ('pies', 2), ('<<<<', 2), ('Stop', 2), ('corn', 2), ('rofl', 2), ('wOOt', 2), ('trip', 2), ('Cool', 2), ('ltns', 2), ('DONT', 2), ('temp', 2), ('hall', 2), ('ears', 2), ('blew', 2), ('any1', 2), ('U175', 2), ('U190', 2), ('YOUR', 2), ('Tisk', 2), ('hott', 2), ('U172', 2), ('uses', 2), ('whoa', 2), ('doll', 2), ('phil', 2), ('meat', 2), ('gays', 2), ('ewww', 2), ('fits', 2), ('Love', 2), ('john', 2), ('Live', 2), ('lawl', 2), ('past', 2), ('side', 2), ('Nice', 2), ('STOP', 2), ('O.k.', 2), ('cash', 2), ('cmon', 2), ('Lmao', 2), ('whud', 2), ('zone', 2), ('cost', 2), ('Dang', 2), ('eric', 2), ('aunt', 2), ('cell', 2), ('U111', 2), ('heee', 1), ('Kick', 1), ('HUGE', 1), ('ghet', 1), ('out.', 1), ('rang', 1), ('WHOA', 1), ('serg', 1), (\"ok'd\", 1), ('akon', 1), ('PMSL', 1), ('t he', 1), ('thah', 1), ('mami', 1), ('mame', 1), ('VVil', 1), ('thot', 1), ('ebay', 1), ('yout', 1), ('tthe', 1), ('xmas', 1), ('1.99', 1), ('Dude', 1), ('bell', 1), ('Elle', 1), ('Then', 1), ('dump', 1), ('tenn', 1), ('Nooo', 1), ('whew', 1), ('pour', 1), ('dick', 1), ('Hill', 1), ('U158', 1), ('Turn', 1), ('Came', 1), ('tjhe', 1), ('ther', 1), ('jack', 1), ('SEEN', 1), ('rats', 1), ('nawp', 1), ('Uhhh', 1), ('Mine', 1), ('ruff', 1), ('Away', 1), ('bugs', 1), ('sext', 1), ('nude', 1), ('bone', 1), ('!...', 1), ('bike', 1), ('6:51', 1), ('gees', 1), ('Hold', 1), (\"<3's\", 1), (\"yw's\", 1), ('TYPR', 1), ('asks', 1), ('spat', 1), ('pwns', 1), ('abou', 1), ('Tide', 1), ('geez', 1), ('York', 1), ('scar', 1), ('pure', 1), ('News', 1), ('toke', 1), ('1985', 1), ('Maps', 1), ('febe', 1), ('pmsl', 1), ('hawT', 1), ('bust', 1), ('allo', 1), ('Road', 1), ('U118', 1), ('sum1', 1), ('icky', 1), ('kept', 1), ('U137', 1), ('tiff', 1), ('mite', 1), ('jush', 1), ('noth', 1), ('U181', 1), ('nerd', 1), ('idnt', 1), ('cuss', 1), ('dork', 1), ('Girl', 1), ('cums', 1), ('SIZE', 1), (\"pm'n\", 1), ('givs', 1), ('smax', 1), ('barn', 1), ('hots', 1), ('Sexy', 1), ('COME', 1), ('moms', 1), ('6:38', 1), ('daft', 1), ('knee', 1), ('GUYS', 1), ('card', 1), ('U150', 1), ('lust', 1), ('firs', 1), ('LIVE', 1), ('gosh', 1), ('Lord', 1), ('ribs', 1), ('gooo', 1), ('fawk', 1), ('Judy', 1), ('gear', 1), ('coem', 1), (\"pm's\", 1), ('size', 1), ('exit', 1), ('grew', 1), ('GIRL', 1), ('tere', 1), ('enuf', 1), ('star', 1), ('\"...', 1), ('TIME', 1), ('duet', 1), ('Fort', 1), ('Long', 1), ('sean', 1), ('hgey', 1), ('disc', 1), ('numb', 1), ('poot', 1), ('Rush', 1), ('anti', 1), ('choc', 1), ('waht', 1), ('WHEN', 1), ('Sat.', 1), ('Matt', 1), ('Ctrl', 1), ('Rofl', 1), ('bird', 1), ('Phil', 1), ('east', 1), ('tips', 1), ('rush', 1), ('herE', 1), ('plus', 1), ('Show', 1), ('Jane', 1), ('2Pac', 1), ('Help', 1), ('rose', 1), ('whou', 1), ('kold', 1), ('woof', 1), ('dint', 1), ('docs', 1), ('hill', 1), ('peel', 1), ('1930', 1), ('bowl', 1), ('boom', 1), ('GrlZ', 1), ('cyas', 1), ('7:45', 1), ('owww', 1), ('Time', 1), ('HOTT', 1), ('z-ro', 1), (\"it's\", 1), ('caca', 1), ('dust', 1), ('jude', 1), ('Eyes', 1), ('Rick', 1), ('sets', 1), ('fock', 1), ('Troy', 1), ('ELSE', 1), ('form', 1), ('Life', 1), ('dawg', 1), ('Hero', 1), ('mono', 1), ('Tina', 1), ('HALO', 1), ('Rock', 1), ('able', 1), ('aime', 1), ('TEXT', 1), ('benz', 1), ('pimp', 1), ('Mono', 1), ('lube', 1), ('west', 1), ('DAMN', 1), ('soup', 1), ('four', 1), ('100%', 1), ('6:41', 1), ('Meep', 1), ('yeee', 1), ('.op.', 1), ('hazy', 1), ('cops', 1), ('calm', 1), ('cook', 1), ('Born', 1), ('lois', 1), ('Seee', 1), ('sexs', 1), ('Damn', 1), ('uyes', 1), ('lots', 1), ('pigs', 1), ('yesh', 1), ('bois', 1), ('LATE', 1), ('MRIs', 1), ('wubs', 1), ('Joey', 1), ('vent', 1), ('jeff', 1), ('scuk', 1), ('kmph', 1), ('Tiff', 1), ('wide', 1), ('grin', 1), ('AWAY', 1), ('Kiss', 1), ('gals', 1), ('beam', 1), ('Werd', 1), ('GOOD', 1), ('FACE', 1), ('pope', 1), ('slam', 1), ('98.5', 1), ('nads', 1), ('<~~~', 1), ('dyed', 1), ('peek', 1), ('acid', 1), ('perk', 1), ('syck', 1), ('waaa', 1), ('pray', 1), ('U149', 1), ('fake', 1), ('bloe', 1), ('NTMN', 1), ('pull', 1), ('tail', 1), ('mess', 1), ('span', 1), ('dojn', 1), ('thje', 1), ('samn', 1), ('Drop', 1), ('TALK', 1), ('gret', 1), ('Fade', 1), ('Slip', 1), ('twit', 1), ('Look', 1), ('sink', 1), ('bomb', 1), ('prep', 1), ('cock', 1), ('heat', 1), ('Were', 1), ('orta', 1), ('saME', 1), ('boot', 1), ('tits', 1), ('lazy', 1), ('prob', 1), ('vega', 1), ('10th', 1), ('Prof', 1), ('KNOW', 1), ('push', 1), ('QUIT', 1), ('feat', 1), ('sent', 1), ('Mary', 1), ('herd', 1), ('lol.', 1), ('eeek', 1), ('keys', 1), ('sign', 1), ('pair', 1), ('JUST', 1), ('wore', 1), ('yess', 1), ('bein', 1), ('CAPS', 1), ('Yoko', 1), ('2DAY', 1), ('dies', 1), ('paid', 1), ('Take', 1), ('1cos', 1), ('brwn', 1), ('lake', 1), ('1900', 1), ('poem', 1), ('City', 1), ('frst', 1), ('wuts', 1), ('NAME', 1), ('Back', 1), ('wins', 1), ('Reub', 1), ('cure', 1), ('site', 1), ('LoVe', 1), ('este', 1), ('64.8', 1), ('cepn', 1), ('mofo', 1), ('Male', 1), ('nada', 1), ('bull', 1), ('YALL', 1), ('1.98', 1), ('oooh', 1), ('Rang', 1), ('toop', 1), ('post', 1), ('King', 1), ('Hugs', 1), ('urls', 1), ('Pour', 1), ('Heya', 1), ('surf', 1), ('shup', 1), ('lala', 1), ('mauh', 1), ('puts', 1), ('Very', 1), ('chit', 1), ('MORE', 1), ('Hott', 1), ('Haha', 1), ('thnx', 1), ('tart', 1), ('AKST', 1), ('3:45', 1), ('coat', 1), ('Ohhh', 1), ('ahah', 1), ('Been', 1), ('anal', 1), ('Cute', 1), ('slip', 1), ('wean', 1), ('goof', 1), ('lyin', 1), ('whys', 1), ('yell', 1), ('eeww', 1), ('term', 1), ('1299', 1), ('Rule', 1), ('scum', 1), ('Food', 1), ('WILL', 1), ('wild', 1), ('yoll', 1), ('LONG', 1), ('loud', 1), ('evah', 1), ('cams', 1), ('offa', 1), (':o *', 1), ('OOPS', 1), ('Nope', 1), ('gags', 1), ('Dood', 1), ('dotn', 1), ('junk', 1), ('jeep', 1), ('lung', 1), ('menu', 1), ('base', 1), ('kina', 1), ('giva', 1), ('okey', 1), ('yes.', 1), ('Room', 1), ('mkay', 1), ('dirt', 1), ('seee', 1), ('Good', 1), ('9.53', 1), ('ussy', 1), ('nawt', 1), ('drug', 1), ('tall', 1), ('fair', 1), ('U164', 1), ('wood', 1), (\"PM's\", 1), ('ladz', 1), ('Need', 1), ('seat', 1), ('hurr', 1), ('Kent', 1), ('9:10', 1), ('4.20', 1), ('EVEN', 1), ('otay', 1), ('loss', 1), ('LOUD', 1), ('hong', 1), ('kong', 1), ('!???', 1), ('SOME', 1), ('HERE', 1), ('U143', 1), ('1980', 1), ('lool', 1), ('mark', 1), ('weed', 1), ('bong', 1), ('wind', 1), ('mode', 1), ('mena', 1), ('wire', 1), ('Hand', 1), ('Paul', 1), ('THEY', 1), ('VBox', 1), ('spit', 1), ('2:55', 1), ('Kewl', 1), ('howl', 1), ('jail', 1), ('nuff', 1), ('tape', 1), ('Ruth', 1), ('6:53', 1), ('dman', 1), ('wher', 1), ('vamp', 1), ('http', 1), ('caan', 1), ('crib', 1), ('Lion', 1), ('45.5', 1), ('Evil', 1), ('chik', 1), ('sori', 1), ('poof', 1), ('tend', 1), ('Kold', 1), ('ohwa', 1), ('bred', 1), ('crop', 1), ('rape', 1), ('None', 1), ('o.k.', 1), ('king', 1), ('outs', 1), ('whoo', 1), (\"RN's\", 1), ('Awww', 1), ('brad', 1), ('blow', 1), ('lisa', 1), ('Oops', 1), ('grea', 1), ('safe', 1), ('tlak', 1), ('Deep', 1), ('39.3', 1), ('FINE', 1), ('gift', 1), ('Jess', 1), ('Will', 1), ('hogs', 1), ('outa', 1), ('HAHA', 1), ('Chat', 1), ('Type', 1), ('wrap', 1), ('fear', 1), ('ROFL', 1), ('clay', 1), ('Eggs', 1), ('arms', 1), ('asss', 1), ('Hail', 1), ('Teck', 1), ('Wyte', 1), ('98.6', 1), ('haaa', 1), ('Does', 1), ('pine', 1), ('nods', 1), ('Holy', 1), ('LAst', 1), ('U113', 1), ('pork', 1), ('fish', 1), ('SExy', 1), ('laid', 1), ('sexi', 1), ('Hard', 1), ('buff', 1), ('worl', 1), ('U147', 1), ('1200', 1), ('teck', 1), ('addy', 1), ('ltnc', 1), ('inch', 1), ('poop', 1), ('test', 1), ('Even', 1), ('poll', 1), ('Over', 1), ('Home', 1), ('CALI', 1), ('soda', 1), ('pasa', 1), ('draw', 1), ('Heys', 1), ('ques', 1), ('puke', 1), ('Swim', 1), ('mang', 1), ('Boyz', 1), ('raed', 1), ('guns', 1), ('dark', 1), ('tory', 1), ('sips', 1), ('Save', 1), ('quiz', 1), ('ally', 1), ('Iowa', 1), ('bied', 1), ('sayn', 1), ('Kids', 1), ('ogan', 1), ('4:03', 1), ('SSRI', 1), ('18ST', 1), ('dogs', 1), ('seth', 1), ('hiom', 1), ('lapd', 1), ('halo', 1), ('wrek', 1), ('U542', 1), ('brat', 1), ('gray', 1), ('Talk', 1), ('MUAH', 1), ('Dawn', 1), ('Nova', 1), ('byes', 1), ('page', 1), ('mahn', 1), ('Chop', 1), ('hooo', 1), ('woah', 1), ('body', 1), ('salt', 1), ('Care', 1), ('U134', 1), ('ssid', 1), ('Bone', 1), ('plow', 1), ('bacl', 1), ('hide', 1), ('ooer', 1), ('guts', 1), ('boed', 1), ('West', 1), ('tooo', 1)]\n"
     ]
    }
   ],
   "source": [
    "fdist5 = FreqDist(text5)\n",
    "print(sorted([(w, fdist5[w]) for w in set(text5) if len(w)==4], key= lambda x: x[1], reverse=True))\n",
    "\n",
    "# here is another way to do it:\n",
    "fdist55 = FreqDist(w for w in set(text5) if len(w)==4)\n",
    "fdist55.most_common()"
   ]
  },
  {
   "attachments": {},
   "cell_type": "markdown",
   "metadata": {},
   "source": [
    "**23. Use a combination of `for` and `if` statements to loop over the words of the movie script for *Monty Python and the Holy Grail* (`text6`) and `print` all the uppercase words, one per line.**"
   ]
  },
  {
   "cell_type": "code",
   "execution_count": 10,
   "metadata": {},
   "outputs": [
    {
     "name": "stdout",
     "output_type": "stream",
     "text": [
      "INSPECTOR\n",
      "SOLDIER\n",
      "AMAZING\n",
      "DENNIS\n",
      "CART\n",
      "VOICE\n",
      "LUCKY\n",
      "RANDOM\n",
      "MAYNARD\n",
      "BEDEVERE\n",
      "CARTOON\n",
      "LEFT\n",
      "MIDDLE\n",
      "GALAHAD\n",
      "SCENE\n",
      "PRISONER\n",
      "CUSTOMER\n",
      "KNIGHTS\n",
      "ARTHUR\n",
      "WINSTON\n",
      "C\n",
      "GIRLS\n",
      "ROBIN\n",
      "U\n",
      "PRINCE\n",
      "HEAD\n",
      "RIGHT\n",
      "VILLAGER\n",
      "WIFE\n",
      "NI\n",
      "MIDGET\n",
      "MASTER\n",
      "THE\n",
      "SECOND\n",
      "WOMAN\n",
      "OLD\n",
      "KING\n",
      "CONCORDE\n",
      "GREEN\n",
      "LOVELY\n",
      "STUNNER\n",
      "SUN\n",
      "PRINCESS\n",
      "ANIMATOR\n",
      "ZOOT\n",
      "WITCH\n",
      "W\n",
      "GUARD\n",
      "BRIDE\n",
      "HERBERT\n",
      "BRIDGEKEEPER\n",
      "DEAD\n",
      "GUEST\n",
      "MINSTREL\n",
      "CRAPPER\n",
      "MONKS\n",
      "OFFICER\n",
      "NARRATOR\n",
      "ARMY\n",
      "O\n",
      "S\n",
      "BORS\n",
      "BROTHER\n",
      "CROWD\n",
      "CRASH\n",
      "PIGLET\n",
      "PATSY\n",
      "FATHER\n",
      "SIR\n",
      "PARTY\n",
      "ENCHANTER\n",
      "SHRUBBER\n",
      "BLACK\n",
      "DIRECTOR\n",
      "A\n",
      "LAUNCELOT\n",
      "N\n",
      "GOD\n",
      "I\n",
      "CRONE\n",
      "FRENCH\n",
      "SENTRY\n",
      "HEADS\n",
      "HISTORIAN\n",
      "TIM\n",
      "OTHER\n",
      "KNIGHT\n",
      "PERSON\n",
      "CAMERAMAN\n",
      "ALL\n",
      "OF\n",
      "B\n",
      "Y\n",
      "GUARDS\n",
      "CHARACTERS\n",
      "CHARACTER\n",
      "ROGER\n",
      "DINGO\n",
      "VILLAGERS\n",
      "MAN\n",
      "GUESTS\n"
     ]
    }
   ],
   "source": [
    "for word in set(text6):\n",
    "    if word.isupper():\n",
    "        print(word)"
   ]
  },
  {
   "attachments": {},
   "cell_type": "markdown",
   "metadata": {},
   "source": [
    "**24. Write expressions for finding all words in `text6` that meet the conditions listed below. The result should be in the form of a list of words: `['word1', 'word2', ...]`.**\n",
    "\n",
    "  a. **Ending in *ise***  \n",
    "  b. **Containing the letter *z***  \n",
    "  c. **Containing the sequence of letters *pt***  \n",
    "  d. **Having all lowercase letters except for an initial capital (i.e., `titlecase`)**  "
   ]
  },
  {
   "cell_type": "code",
   "execution_count": 13,
   "metadata": {},
   "outputs": [
    {
     "name": "stdout",
     "output_type": "stream",
     "text": [
      "List a:  ['wise', 'wise', 'apologise', 'surprise', 'surprise', 'surprise', 'noise', 'surprise']\n",
      "List b:  ['zone', 'amazes', 'Fetchez', 'Fetchez', 'zoop', 'zoo', 'zhiv', 'frozen', 'zoosh']\n",
      "List c:  ['empty', 'aptly', 'Thpppppt', 'Thppt', 'Thppt', 'empty', 'Thppppt', 'temptress', 'temptation', 'ptoo', 'Chapter', 'excepting', 'Thpppt']\n",
      "List d:  ['Whoa', 'Halt', 'Who', 'It', 'I', 'Arthur', 'Uther', 'Pendragon', 'Camelot', 'King', 'Britons', 'Saxons', 'England', 'Pull', 'I', 'Patsy', 'We', 'Camelot', 'I', 'What', 'Ridden', 'Yes', 'You', 'What', 'You', 'So', 'We', 'Mercea', 'Where', 'We', 'Found', 'In', 'Mercea', 'The', 'What', 'Well', 'The', 'Are', 'Not', 'They', 'What', 'A', 'It', 'It', 'It', 'A', 'Well', 'Will', 'Arthur', 'Court', 'Camelot', 'Listen', 'In', 'Please', 'Am', 'I', 'I', 'It', 'African', 'Oh', 'African', 'European', 'That', 'Oh', 'I', 'Will', 'Camelot', 'But', 'African', 'Oh', 'So', 'Wait', 'Supposing', 'No', 'Well', 'They', 'What', 'Well', 'Bring', 'Bring', 'Bring', 'Bring', 'Bring', 'Bring', 'Bring', 'Bring', 'Ninepence', 'Bring', 'Bring', 'Bring', 'Bring', 'Here', 'Ninepence', 'I', 'What', 'Nothing', 'Here', 'I', 'Ere', 'He', 'Yes', 'I', 'He', 'Well', 'He', 'I', 'No', 'You', 'Oh', 'I', 'It', 'I', 'Oh', 'I', 'I', 'Well', 'I', 'Well', 'He', 'No', 'I', 'Robinson', 'They', 'Well', 'Thursday', 'I', 'I', 'You', 'Look', 'I', 'I', 'Ah', 'Not', 'See', 'Thursday', 'Right', 'All', 'Who', 'I', 'Must', 'Why', 'He', 'King', 'Arthur', 'King', 'Arthur', 'Old', 'Man', 'Man', 'Sorry', 'What', 'I', 'I', 'I', 'I', 'Well', 'I', 'Man', 'Well', 'Dennis', 'Well', 'I', 'Dennis', 'Well', 'I', 'What', 'I', 'Well', 'I', 'Oh', 'And', 'By', 'By', 'If', 'Dennis', 'Oh', 'How', 'How', 'I', 'Arthur', 'King', 'Britons', 'Who', 'King', 'The', 'Britons', 'Who', 'Britons', 'Well', 'We', 'Britons', 'I', 'I', 'I', 'You', 'We', 'A', 'Oh', 'That', 'If', 'Please', 'I', 'Who', 'No', 'Then', 'We', 'What', 'I', 'We', 'We', 'Yes', 'But', 'Yes', 'I', 'By', 'Be', 'But', 'Be', 'I', 'Order', 'Who', 'Heh', 'I', 'Well', 'I', 'You', 'Well', 'The', 'Lady', 'Lake', 'Excalibur', 'Divine', 'Providence', 'I', 'Arthur', 'Excalibur', 'That', 'I', 'Listen', 'Supreme', 'Be', 'Well', 'Shut', 'I', 'I', 'I', 'Shut', 'Shut', 'Ah', 'Shut', 'Oh', 'Come', 'Help', 'I', 'Bloody', 'Oh', 'Did', 'Did', 'That', 'I', 'Did', 'You', 'King', 'Arthur', 'Aaagh', 'King', 'Arthur', 'Aaagh', 'Ooh', 'King', 'Arthur', 'Aagh', 'Oh', 'King', 'Arthur', 'Ooh', 'Aaagh', 'Agh', 'Aaaaaah', 'Aaaaaaaaah', 'Umm', 'You', 'Sir', 'Knight', 'I', 'Arthur', 'King', 'Britons', 'I', 'Camelot', 'You', 'Will', 'You', 'So', 'Come', 'Patsy', 'None', 'What', 'None', 'I', 'Sir', 'Knight', 'I', 'Then', 'I', 'King', 'Britons', 'I', 'So', 'Aaah', 'Now', 'Tis', 'A', 'Your', 'No', 'Well', 'I', 'You', 'Come', 'Huyah', 'Hiyaah', 'Aaaaaaaah', 'Victory', 'We', 'Thee', 'Lord', 'Thy', 'Hah', 'Come', 'What', 'Have', 'Eh', 'You', 'Sir', 'Knight', 'Oh', 'Look', 'You', 'Yes', 'I', 'Look', 'Just', 'Look', 'Chicken', 'Chickennn', 'Look', 'I', 'Right', 'Right', 'I', 'You', 'Come', 'What', 'I', 'You', 'The', 'Black', 'Knight', 'Have', 'Come', 'Ooh', 'All', 'Come', 'Patsy', 'Oh', 'Oh', 'I', 'Running', 'You', 'Come', 'I', 'Pie', 'Iesu', 'Pie', 'Iesu', 'Pie', 'Iesu', 'A', 'A', 'A', 'A', 'Pie', 'Iesu', 'A', 'A', 'A', 'A', 'We', 'A', 'A', 'A', 'A', 'We', 'A', 'A', 'Burn', 'Burn', 'Burn', 'We', 'We', 'A', 'A', 'A', 'We', 'May', 'Burn', 'Burn', 'Burn', 'Burn', 'How', 'She', 'Right', 'Yeah', 'Yeah', 'Bring', 'I', 'I', 'Uh', 'They', 'Augh', 'We', 'And', 'It', 'Well', 'Well', 'The', 'And', 'Yeah', 'We', 'Right', 'Yeaaah', 'Yeaah', 'Did', 'No', 'No', 'No', 'No', 'No', 'No', 'Yes', 'Yes', 'Yes', 'Yeah', 'A', 'A', 'A', 'She', 'What', 'Well', 'A', 'I', 'Burn', 'Burn', 'Burn', 'Burn', 'Burn', 'Quiet', 'Quiet', 'Quiet', 'Quiet', 'There', 'Are', 'Ah', 'What', 'Tell', 'Tell', 'Tell', 'Burn', 'Burn', 'Burn', 'Burn', 'Burn', 'And', 'More', 'Shh', 'Wood', 'So', 'B', 'Good', 'Heh', 'Oh', 'Oh', 'So', 'Build', 'Ah', 'Oh', 'Oh', 'True', 'Uhh', 'Does', 'No', 'No', 'No', 'It', 'Throw', 'The', 'Throw', 'What', 'Bread', 'Apples', 'Uh', 'Cider', 'Uh', 'Cherries', 'Mud', 'Churches', 'Churches', 'Lead', 'Lead', 'A', 'Oooh', 'Exactly', 'So', 'If', 'And', 'A', 'A', 'A', 'A', 'Here', 'Use', 'We', 'Ohh', 'Ohh', 'Burn', 'Burn', 'Burn', 'Burn', 'Burn', 'Burn', 'Burn', 'Burn', 'Burn', 'Ahh', 'Ahh', 'Right', 'Remove', 'A', 'A', 'A', 'It', 'Burn', 'Burn', 'Burn', 'Burn', 'Burn', 'Burn', 'Who', 'I', 'Arthur', 'King', 'Britons', 'My', 'Good', 'Sir', 'Knight', 'Camelot', 'Round', 'Table', 'My', 'I', 'What', 'Bedevere', 'Then', 'I', 'Sir', 'Bedevere', 'Knight', 'Round', 'Table', 'The', 'Sir', 'Bedevere', 'King', 'Arthur', 'Sir', 'Lancelot', 'Brave', 'Sir', 'Gallahad', 'Pure', 'Sir', 'Robin', 'Sir', 'Lancelot', 'Dragon', 'Angnor', 'Chicken', 'Bristol', 'Battle', 'Badon', 'Hill', 'Sir', 'Not', 'Together', 'Knights', 'Round', 'Table', 'And', 'This', 'Sir', 'Bedevere', 'Explain', 'Oh', 'Look', 'Camelot', 'Camelot', 'Camelot', 'It', 'Shh', 'Knights', 'I', 'Let', 'Camelot', 'We', 'We', 'We', 'With', 'We', 'Camelot', 'We', 'We', 'Round', 'Table', 'Our', 'But', 'That', 'We', 'Camelot', 'We', 'In', 'Quite', 'Between', 'Clark', 'Gable', 'It', 'Camelot', 'I', 'Well', 'Camelot', 'It', 'Right', 'Right', 'Arthur', 'Arthur', 'King', 'Britons', 'Oh', 'One', 'I', 'Sorry', 'And', 'Every', 'I', 'I', 'What', 'I', 'O', 'Lord', 'Well', 'It', 'Psalms', 'Now', 'Yes', 'Lord', 'Right', 'Arthur', 'King', 'Britons', 'Knights', 'Round', 'Table', 'Good', 'O', 'Lord', 'Course', 'Behold', 'Arthur', 'Holy', 'Grail', 'Look', 'Arthur', 'That', 'Arthur', 'Holy', 'Grail', 'A', 'A', 'Lord', 'God', 'King', 'Arthur', 'Halt', 'Hallo', 'Hallo', 'Allo', 'Who', 'It', 'King', 'Arthur', 'Knights', 'Round', 'Table', 'Who', 'This', 'Guy', 'Loimbard', 'Go', 'God', 'If', 'Holy', 'Grail', 'Well', 'I', 'I', 'Uh', 'What', 'He', 'Are', 'Oh', 'I', 'Well', 'Of', 'You', 'English', 'Well', 'I', 'French', 'Why', 'I', 'What', 'England', 'Mind', 'If', 'Grail', 'You', 'English', 'Go', 'I', 'Arthur', 'King', 'English', 'Thpppppt', 'Thppt', 'Thppt', 'What', 'Now', 'I', 'I', 'You', 'Is', 'No', 'I', 'Now', 'I', 'Fetchez', 'Quoi', 'Fetchez', 'If', 'I', 'Jesus', 'Christ', 'Christ', 'Ah', 'Ohh', 'Right', 'Charge', 'Charge', 'Hey', 'There', 'And', 'Run', 'Run', 'Thppppt', 'Fiends', 'I', 'No', 'No', 'Sir', 'I', 'C', 'Quoi', 'Un', 'What', 'A', 'Oh', 'Oui', 'Hurry', 'What', 'Let', 'Oh', 'On', 'Bon', 'Over', 'What', 'Well', 'Launcelot', 'Galahad', 'I', 'French', 'Not', 'Who', 'U', 'Launcelot', 'Galahad', 'I', 'Uh', 'Ohh', 'Oh', 'Um', 'Run', 'Run', 'Run', 'Run', 'Run', 'Run', 'Run', 'Run', 'Oh', 'Haw', 'Haw', 'Picture', 'Schools', 'Action', 'Defeat', 'King', 'Arthur', 'The', 'French', 'Arthur', 'Holy', 'Grail', 'Arthur', 'Grail', 'Now', 'Launcelot', 'Aaaah', 'S', 'Frank', 'The', 'Tale', 'Sir', 'Robin', 'So', 'Sir', 'Robin', 'Ewing', 'Bravely', 'Sir', 'Robin', 'Camelot', 'He', 'O', 'Sir', 'Robin', 'He', 'Brave', 'Sir', 'Robin', 'He', 'Or', 'To', 'And', 'Sir', 'Robin', 'His', 'And', 'And', 'And', 'That', 'Heh', 'Looks', 'Anarcho', 'Oh', 'Dennis', 'We', 'Halt', 'Who', 'He', 'Sir', 'Robin', 'Sir', 'Robin', 'Shut', 'Um', 'I', 'What', 'To', 'Shut', 'Um', 'I', 'Sir', 'Knight', 'I', 'Ah', 'W', 'I', 'I', 'Knight', 'Round', 'Table', 'You', 'Knight', 'Round', 'Table', 'I', 'In', 'I', 'Shall', 'I', 'Oh', 'I', 'Well', 'I', 'I', 'Oh', 'Oh', 'Perhaps', 'I', 'And', 'Oh', 'Get', 'I', 'Oh', 'Yes', 'What', 'Yapping', 'You', 'You', 'What', 'You', 'Oh', 'I', 'Anyway', 'Well', 'Oh', 'Oh', 'All', 'All', 'We', 'Yes', 'Oh', 'All', 'All', 'Right', 'He', 'So', 'He', 'Brave', 'Sir', 'Robin', 'No', 'Bravely', 'I', 'When', 'No', 'Yes', 'Sir', 'Robin', 'I', 'And', 'I', 'He', 'All', 'Bravest', 'Sir', 'Robin', 'I', 'Pie', 'Iesu', 'Heh', 'Pie', 'Iesu', 'Wayy', 'Ho', 'Woa', 'Heh', 'Heh', 'Wayy', 'Wayy', 'Forgive', 'Oh', 'Oooo', 'The', 'Tale', 'Sir', 'Galahad', 'Open', 'Open', 'In', 'King', 'Arthur', 'Hello', 'Welcome', 'Sir', 'Knight', 'Welcome', 'Castle', 'Anthrax', 'The', 'Castle', 'Anthrax', 'Yes', 'Oh', 'Oh', 'You', 'Holy', 'Grail', 'The', 'The', 'Grail', 'It', 'Oh', 'Midget', 'Crapper', 'Yes', 'O', 'Zoot', 'Prepare', 'Oh', 'Thank', 'Thank', 'Thank', 'Thank', 'Thank', 'Away', 'The', 'Well', 'I', 'I', 'What', 'Sir', 'Galahad', 'Chaste', 'Mine', 'Zoot', 'Just', 'Zoot', 'Oh', 'Look', 'In', 'God', 'Grail', 'Oh', 'You', 'No', 'I', 'It', 'Sir', 'Galahad', 'You', 'Well', 'I', 'I', 'Oh', 'I', 'We', 'Oooh', 'It', 'We', 'Nay', 'Nay', 'Come', 'Come', 'You', 'Oh', 'No', 'Oh', 'No', 'Lie', 'Well', 'They', 'Uh', 'B', 'Oh', 'You', 'Doctor', 'Piglet', 'Doctor', 'Winston', 'Practice', 'Try', 'Are', 'We', 'There', 'Please', 'We', 'Look', 'This', 'I', 'Back', 'At', 'Torment', 'I', 'Grail', 'There', 'I', 'I', 'I', 'Hello', 'Oh', 'Hello', 'Hello', 'Hello', 'Hello', 'Hello', 'Hello', 'Hello', 'Hello', 'Hello', 'Hello', 'Hello', 'Hello', 'Hello', 'Hello', 'Hello', 'Hello', 'Hello', 'Hello', 'Hello', 'Hello', 'Hello', 'Hello', 'Hello', 'Zoot', 'No', 'I', 'Zoot', 'Dingo', 'Oh', 'I', 'Where', 'I', 'Grail', 'I', 'Oh', 'Oh', 'Bad', 'Zoot', 'Well', 'Oh', 'Zoot', 'She', 'I', 'It', 'It', 'Grail', 'Oh', 'Zoot', 'She', 'Do', 'We', 'It', 'I', 'At', 'Well', 'It', 'Get', 'Yes', 'Yes', 'Oh', 'I', 'Get', 'Oh', 'Zoot', 'Oh', 'And', 'Castle', 'Anthrax', 'You', 'A', 'A', 'You', 'And', 'And', 'And', 'And', 'And', 'Yes', 'A', 'A', 'There', 'And', 'The', 'The', 'Well', 'I', 'Sir', 'Galahad', 'Oh', 'Quick', 'What', 'Quick', 'Why', 'You', 'No', 'Silence', 'You', 'Come', 'We', 'Look', 'I', 'Come', 'Sir', 'Galahad', 'No', 'Look', 'I', 'Yes', 'Let', 'Yes', 'Let', 'No', 'Sir', 'Galahad', 'Come', 'No', 'Really', 'Honestly', 'I', 'I', 'Oh', 'Let', 'Yes', 'Let', 'No', 'Quick', 'Quick', 'Please', 'I', 'There', 'Yes', 'He', 'We', 'We', 'He', 'Oh', 'We', 'You', 'I', 'I', 'Yes', 'You', 'Look', 'No', 'Look', 'I', 'No', 'Holy', 'Grail', 'Come', 'Oh', 'No', 'It', 'I', 'No', 'I', 'Sir', 'Launcelot', 'Sir', 'Galahad', 'Grail', 'Meanwhile', 'King', 'Arthur', 'Sir', 'Bedevere', 'Oh', 'I', 'I', 'Get', 'Oh', 'On', 'Arthur', 'I', 'Heh', 'Hee', 'And', 'Grail', 'Ha', 'Heh', 'Ha', 'Ha', 'Where', 'Heh', 'Old', 'Hee', 'He', 'And', 'Grail', 'The', 'Grail', 'There', 'Gorge', 'Eternal', 'Peril', 'But', 'Grail', 'Where', 'Grail', 'Seek', 'Bridge', 'Death', 'The', 'Bridge', 'Death', 'Grail', 'Heh', 'Ha', 'Hee', 'Ni', 'Ni', 'Ni', 'Ni', 'Ni', 'Ni', 'Who', 'We', 'Knights', 'Who', 'Say', 'Ni', 'Ni', 'No', 'Not', 'Knights', 'Who', 'Say', 'Ni', 'The', 'Who', 'We', 'Ni', 'Peng', 'Neee', 'Neee', 'Those', 'The', 'Knights', 'Who', 'Say', 'Ni', 'Knights', 'Ni', 'Ni', 'Ni', 'Ni', 'Ni', 'Ni', 'Ni', 'Ow', 'Ow', 'Ow', 'Agh', 'We', 'Well', 'We', 'A', 'Ni', 'Ni', 'Ni', 'Ni', 'Ow', 'Oh', 'Please', 'No', 'We', 'You', 'O', 'Knights', 'Ni', 'One', 'Of', 'And', 'Yes', 'Now', 'Hmm', 'Oh', 'Great', 'Hm', 'Hmm', 'Hm', 'Hmm', 'Ohh', 'Ay', 'Thsss', 'Ayy', 'Thsss', 'Ayy', 'Stop', 'Stop', 'Ay', 'Stop', 'Look', 'Clear', 'Go', 'Go', 'Go', 'Go', 'And', 'Clear', 'Hah', 'Bloody', 'The', 'Tale', 'Sir', 'Launcelot', 'One', 'What', 'No', 'Not', 'All', 'This', 'But', 'Mother', 'Father', 'Father', 'B', 'Father', 'I', 'Listen', 'I', 'When', 'I', 'Other', 'I', 'I', 'It', 'So', 'I', 'That', 'So', 'I', 'That', 'But', 'And', 'But', 'I', 'I', 'Rather', 'I', 'Stop', 'Stop', 'You', 'I', 'Now', 'In', 'Britain', 'B', 'I', 'Listen', 'Alice', 'Herbert', 'Erbert', 'We', 'We', 'But', 'I', 'Don', 'What', 'She', 'She', 'She', 'I', 'I', 'I', 'Cut', 'Cut', 'Look', 'Princess', 'Lucky', 'Guards', 'Make', 'Prince', 'I', 'Not', 'Hic', 'No', 'Until', 'I', 'Until', 'No', 'No', 'You', 'And', 'Hic', 'Right', 'We', 'No', 'Leaving', 'Leaving', 'Yes', 'All', 'Right', 'Hic', 'Right', 'Oh', 'Yes', 'What', 'Oh', 'Look', 'Uh', 'You', 'Alright', 'Hic', 'Right', 'Oh', 'I', 'Uhh', 'N', 'No', 'You', 'Oh', 'We', 'But', 'No', 'Just', 'Until', 'No', 'Just', 'Just', 'Hic', 'Get', 'Get', 'All', 'Right', 'We', 'Hic', 'And', 'What', 'Make', 'The', 'Prince', 'Yes', 'Make', 'Oh', 'Hic', 'Ah', 'I', 'You', 'Is', 'Hic', 'Oh', 'No', 'Right', 'Where', 'We', 'No', 'I', 'Oh', 'I', 'Right', 'But', 'Father', 'Shut', 'And', 'And', 'Hic', 'Oh', 'Well', 'Concorde', 'Thank', 'Most', 'And', 'Over', 'Good', 'Steady', 'And', 'Uuh', 'Come', 'Concorde', 'Message', 'Concorde', 'Concorde', 'Speak', 'To', 'I', 'Please', 'I', 'Tall', 'Tower', 'Swamp', 'Castle', 'At', 'A', 'A', 'This', 'Holy', 'Grail', 'Brave', 'Concorde', 'Uh', 'I', 'I', 'Well', 'I', 'I', 'I', 'I', 'I', 'Oh', 'I', 'Actually', 'I', 'I', 'No', 'Concorde', 'Stay', 'I', 'I', 'Idiom', 'Idiom', 'No', 'I', 'Farewell', 'Concorde', 'I', 'I', 'Shall', 'I', 'Yeah', 'Morning', 'Morning', 'Oooh', 'Ha', 'Hiyya', 'Hey', 'Hiyya', 'Ha', 'Ha', 'Huy', 'Uuh', 'Aaah', 'Ha', 'And', 'Aah', 'Hiyah', 'Aah', 'Aaah', 'Hyy', 'Hya', 'Hiyya', 'Ha', 'Now', 'O', 'Sir', 'Launcelot', 'Camelot', 'I', 'Oh', 'I', 'You', 'Uh', 'I', 'I', 'You', 'Uh', 'You', 'I', 'I', 'I', 'Well', 'I', 'Stop', 'Stop', 'Stop', 'Stop', 'Who', 'I', 'No', 'Uh', 'I', 'Sir', 'Launcelot', 'He', 'Father', 'Well', 'Did', 'Uh', 'Oh', 'Sorry', 'They', 'Well', 'I', 'Um', 'I', 'Don', 'Sir', 'Launcelot', 'I', 'You', 'Well', 'I', 'I', 'Hurry', 'Sir', 'Launcelot', 'Hurry', 'Shut', 'You', 'Well', 'I', 'Didn', 'You', 'Oh', 'Is', 'You', 'This', 'Well', 'I', 'I', 'Camelot', 'I', 'Camelot', 'Are', 'Camelot', 'Hurry', 'Sir', 'Launcelot', 'Uh', 'I', 'Knight', 'King', 'Arthur', 'Very', 'Camelot', 'Uh', 'Is', 'Hurry', 'I', 'Would', 'Well', 'I', 'I', 'Um', 'Oooh', 'I', 'I', 'I', 'Oh', 'Oooh', 'Well', 'We', 'There', 'Oh', 'Ha', 'Hey', 'Ha', 'Hold', 'Stop', 'Hold', 'Hold', 'Hold', 'Hold', 'Hold', 'Please', 'Sorry', 'Sorry', 'You', 'I', 'I', 'I', 'Sorry', 'Sorry', 'He', 'Hold', 'Hold', 'Please', 'Hold', 'This', 'Sir', 'Launcelot', 'Court', 'Camelot', 'Hello', 'He', 'Please', 'Please', 'This', 'Let', 'We', 'Unfortunately', 'Herbert', 'Oh', 'Oh', 'But', 'I', 'I', 'For', 'He', 'Since', 'He', 'For', 'S', 'Uugh', 'Oh', 'And', 'I', 'And', 'I', 'Princess', 'Sir', 'Launcelot', 'Camelot', 'What', 'Look', 'The', 'Prince', 'Oooh', 'The', 'Prince', 'He', 'No', 'I', 'You', 'Tall', 'Tower', 'No', 'I', 'How', 'Well', 'I', 'Not', 'Not', 'No', 'Stop', 'He', 'He', 'Shut', 'He', 'Shut', 'He', 'Shut', 'He', 'Not', 'He', 'He', 'He', 'He', 'Quickly', 'He', 'Come', 'He', 'He', 'No', 'It', 'He', 'I', 'Oh', 'Dramatically', 'Dramatically', 'But', 'Heee', 'Hoa', 'Hoo', 'What', 'Excuse', 'Could', 'King', 'Arthur', 'Old', 'Is', 'Who', 'The', 'Knights', 'Who', 'Say', 'Ni', 'Aggh', 'No', 'Never', 'We', 'If', 'I', 'Agh', 'Do', 'Very', 'If', 'No', 'Never', 'No', 'Ni', 'Nu', 'No', 'Nu', 'No', 'Nu', 'No', 'You', 'No', 'Ni', 'Ni', 'That', 'That', 'You', 'Ni', 'Ohh', 'Ni', 'Ni', 'Agh', 'Ni', 'Ni', 'Ni', 'Ni', 'Ni', 'Are', 'Erm', 'Oh', 'There', 'Nothing', 'Even', 'Did', 'Yes', 'Shrubberies', 'I', 'My', 'Roger', 'Shrubber', 'I', 'Ni', 'No', 'No', 'No', 'O', 'Knights', 'Ni', 'May', 'It', 'I', 'But', 'What', 'We', 'Knights', 'Who', 'Say', 'Ni', 'Ni', 'Shh', 'Shh', 'We', 'Knights', 'Who', 'Say', 'Ecky', 'Ni', 'Therefore', 'What', 'O', 'Knights', 'Knights', 'Who', 'Til', 'Recently', 'Said', 'Ni', 'Firstly', 'Not', 'Ni', 'Then', 'A', 'A', 'A', 'Ni', 'Shh', 'Ni', 'Ni', 'Ni', 'Shh', 'Shh', 'Then', 'We', 'Oh', 'Cut', 'It', 'Aaaugh', 'Aaaugh', 'Augh', 'Ohh', 'Don', 'What', 'I', 'Knights', 'Ni', 'How', 'Aaaaugh', 'You', 'What', 'Agh', 'No', 'No', 'You', 'No', 'Not', 'My', 'Sir', 'Robin', 'Packing', 'And', 'And', 'Yes', 'Sir', 'Robin', 'My', 'It', 'Now', 'Surely', 'Holy', 'Grail', 'He', 'Shut', 'No', 'No', 'Far', 'He', 'Aaaaugh', 'I', 'Aaaaugh', 'Uh', 'No', 'Aaaaugh', 'Aaaaugh', 'Stop', 'The', 'Oh', 'Ow', 'He', 'Patsy', 'Wait', 'I', 'I', 'Ooh', 'I', 'And', 'That', 'Ohh', 'Aaaaugh', 'And', 'Arthur', 'Bedevere', 'Sir', 'Robin', 'Beyond', 'Launcelot', 'Galahad', 'Yay', 'Yay', 'In', 'Nador', 'Robin', 'Get', 'Eee', 'And', 'Yay', 'A', 'Winter', 'Spring', 'Mmm', 'Spring', 'Summer', 'Oh', 'Ahh', 'Summer', 'Winter', 'Oh', 'And', 'Winter', 'Spring', 'Summer', 'Autumn', 'Aah', 'Oh', 'Waa', 'Until', 'King', 'Arthur', 'Eh', 'Oh', 'See', 'Oh', 'Oh', 'Knights', 'Forward', 'What', 'I', 'By', 'There', 'Tim', 'Greetings', 'Tim', 'Enchanter', 'Greetings', 'King', 'Arthur', 'You', 'I', 'You', 'Holy', 'Grail', 'That', 'You', 'O', 'Tim', 'Quite', 'Oh', 'Yes', 'Holy', 'Grail', 'Our', 'Holy', 'Grail', 'Yeah', 'Yes', 'It', 'It', 'Yeah', 'Yup', 'Yup', 'Hm', 'And', 'Yes', 'Yeah', 'We', 'We', 'We', 'Ages', 'Umhm', 'Uh', 'Look', 'Fine', 'Um', 'I', 'I', 'A', 'A', 'A', 'Yes', 'I', 'Y', 'Yes', 'Yup', 'That', 'Yes', 'Oh', 'Oh', 'Thank', 'Ahh', 'Oh', 'Fine', 'Thank', 'Splendid', 'Aah', 'Look', 'Yes', 'I', 'Holy', 'Grail', 'Oh', 'Oh', 'To', 'Caerbannog', 'Olfin', 'Bedwere', 'Rheged', 'Holy', 'Grail', 'Where', 'O', 'Tim', 'Follow', 'But', 'Follow', 'Bones', 'So', 'What', 'They', 'Then', 'Dis', 'Behold', 'Caerbannog', 'Right', 'Keep', 'What', 'W', 'Too', 'What', 'There', 'Where', 'There', 'What', 'It', 'You', 'What', 'You', 'Well', 'Ohh', 'That', 'You', 'I', 'I', 'Look', 'Get', 'He', 'Oh', 'You', 'I', 'What', 'He', 'Go', 'Bors', 'Chop', 'Right', 'Silly', 'One', 'Look', 'Aaaugh', 'Jesus', 'Christ', 'I', 'I', 'I', 'Oh', 'Oh', 'Well', 'I', 'Oh', 'Do', 'Right', 'Oh', 'Charge', 'Aaaaugh', 'Aaaugh', 'Run', 'Run', 'Run', 'Run', 'Ha', 'Ha', 'Ha', 'Ha', 'Right', 'How', 'Gawain', 'Ector', 'And', 'Bors', 'That', 'Three', 'Three', 'Three', 'And', 'That', 'Would', 'Oh', 'Let', 'It', 'Like', 'Well', 'Have', 'No', 'We', 'Holy', 'Hand', 'Grenade', 'Yes', 'The', 'Holy', 'Hand', 'Grenade', 'Antioch', 'Tis', 'Brother', 'Maynard', 'Brother', 'Maynard', 'Bring', 'Holy', 'Hand', 'Grenade', 'Pie', 'Iesu', 'Pie', 'Iesu', 'Pie', 'Iesu', 'Pie', 'Iesu', 'How', 'I', 'Consult', 'Book', 'Armaments', 'Armaments', 'Chapter', 'Two', 'Nine', 'Twenty', 'And', 'Saint', 'Attila', 'O', 'Lord', 'And', 'Lord', 'Skip', 'Brother', 'And', 'Lord', 'First', 'Holy', 'Pin', 'Then', 'Three', 'Four', 'Five', 'Once', 'Holy', 'Hand', 'Grenade', 'Antioch', 'Amen', 'Amen', 'Right', 'One', 'Three', 'Three', 'There', 'Look', 'What', 'What', 'Brother', 'Maynard', 'You', 'It', 'Aramaic', 'Of', 'Joseph', 'Arimathea', 'Course', 'What', 'It', 'Here', 'Joseph', 'Arimathea', 'He', 'Holy', 'Grail', 'Castle', 'What', 'Castle', 'What', 'He', 'Oh', 'Well', 'Look', 'He', 'Well', 'Perhaps', 'Oh', 'Well', 'No', 'Just', 'Aauuggghhh', 'Aaauggh', 'Do', 'Camaaaaaargue', 'Where', 'France', 'I', 'Isn', 'Saint', 'Aauuuves', 'Cornwall', 'No', 'Saint', 'Ives', 'Oh', 'Saint', 'Iiiives', 'Iiiiives', 'Oooohoohohooo', 'No', 'Aauuuuugh', 'Aauuugh', 'N', 'No', 'Oooooooh', 'Oh', 'Yes', 'I', 'Oooh', 'My', 'God', 'It', 'Black', 'Beast', 'Aaauugh', 'Black', 'Beast', 'Aaauugh', 'That', 'That', 'Run', 'Run', 'Run', 'Run', 'Run', 'Keep', 'Shh', 'Shh', 'Shh', 'Shh', 'Shh', 'Shh', 'Shh', 'Shh', 'We', 'Aagh', 'As', 'Black', 'Beast', 'Arthur', 'Ulk', 'The', 'The', 'Holy', 'Grail', 'There', 'The', 'Bridge', 'Death', 'Oh', 'Look', 'There', 'What', 'He', 'Bridge', 'Death', 'He', 'Three', 'Three', 'He', 'Three', 'Three', 'What', 'Then', 'Gorge', 'Eternal', 'Peril', 'Oh', 'I', 'Who', 'Sir', 'Robin', 'Yes', 'Brave', 'Sir', 'Robin', 'Hey', 'I', 'Why', 'Launcelot', 'Yes', 'Let', 'I', 'I', 'No', 'No', 'Hang', 'Hang', 'Hang', 'Just', 'Three', 'Three', 'And', 'I', 'Good', 'Sir', 'Launcelot', 'God', 'Stop', 'Who', 'Bridge', 'Death', 'Ask', 'I', 'What', 'My', 'Sir', 'Launcelot', 'Camelot', 'What', 'To', 'Holy', 'Grail', 'What', 'Blue', 'Right', 'Off', 'Oh', 'Thank', 'That', 'Stop', 'Who', 'Bridge', 'Death', 'Ask', 'I', 'What', 'Sir', 'Robin', 'Camelot', 'What', 'To', 'Holy', 'Grail', 'What', 'Assyria', 'I', 'Auuuuuuuugh', 'Stop', 'What', 'Sir', 'Galahad', 'Camelot', 'What', 'I', 'Grail', 'What', 'Blue', 'No', 'Hee', 'Stop', 'What', 'It', 'Arthur', 'King', 'Britons', 'What', 'To', 'Holy', 'Grail', 'What', 'What', 'An', 'African', 'European', 'Huh', 'I', 'I', 'Auuuuuuuugh', 'How', 'Well', 'Launcelot', 'Launcelot', 'Launcelot', 'Launcelot', 'Launcelot', 'Launcelot', 'Launcelot', 'Launcelot', 'Launcelot', 'The', 'Castle', 'Aaagh', 'Our', 'God', 'Almighty', 'God', 'Thee', 'Thou', 'Jesus', 'Christ', 'Allo', 'English', 'Monsieur', 'Arthur', 'King', 'So', 'French', 'How', 'I', 'Knights', 'Camelot', 'God', 'Himself', 'How', 'English', 'I', 'So', 'French', 'I', 'In', 'Lord', 'No', 'English', 'I', 'If', 'In', 'God', 'Agh', 'Right', 'That', 'Yes', 'Ha', 'Walk', 'Just', 'And', 'And', 'English', 'Thpppt', 'We', 'Yes', 'Stand', 'French', 'Dappy', 'Today', 'In', 'God', 'Hoo', 'Ohh', 'Holy', 'Grail', 'God', 'Ha', 'Charge', 'Hooray', 'S', 'Yes', 'They', 'I', 'Come', 'Anybody', 'All', 'Come', 'Back', 'S', 'Get', 'Back', 'Right', 'Just', 'Come', 'Come', 'Put', 'Clear', 'Come', 'With', 'Which', 'Oh', 'Come', 'Put', 'Get', 'We', 'Ahh', 'Ooh', 'Come', 'Back', 'Riiight', 'Come', 'Run', 'Run', 'Pull', 'My', 'Come', 'Back', 'Back', 'Right', 'Come', 'Everything', 'All', 'That', 'Just', 'Christ']\n"
     ]
    }
   ],
   "source": [
    "print('List a: ', [w for w in text6 if w.endswith('ise')])\n",
    "print('List b: ', [w for w in text6 if 'z' in w])\n",
    "print('List c: ', [w for w in text6 if 'pt' in w])\n",
    "print('List d: ', [w for w in text6 if w.istitle()])"
   ]
  },
  {
   "attachments": {},
   "cell_type": "markdown",
   "metadata": {},
   "source": [
    "**25. Define `sent` to be the list of words `['she', 'sells', 'sea', 'shells', 'by', 'the', 'sea', 'shore']`. Now write code to perform the following tasks:**  \n",
    "\n",
    "  a. **Print all words beginning with *sh***  \n",
    "  b. **Print all words longer than four characters**"
   ]
  },
  {
   "cell_type": "code",
   "execution_count": 14,
   "metadata": {},
   "outputs": [
    {
     "name": "stdout",
     "output_type": "stream",
     "text": [
      "a: ['she', 'shells', 'shore']\n",
      "b: ['sells', 'shells', 'shore']\n"
     ]
    }
   ],
   "source": [
    "sent  = ['she', 'sells', 'sea', 'shells', 'by', 'the', 'sea', 'shore']\n",
    "print(f\"a: {[word for word in sent if word.startswith('sh')]}\")\n",
    "print(f\"b: {[word for word in sent if len(word) > 4]}\")"
   ]
  },
  {
   "attachments": {},
   "cell_type": "markdown",
   "metadata": {},
   "source": [
    "**26. What does the following Python code do? `sum(len(w) for w in text1)` Can you use it to work out the average word length of a text?**"
   ]
  },
  {
   "cell_type": "code",
   "execution_count": 16,
   "metadata": {},
   "outputs": [
    {
     "name": "stdout",
     "output_type": "stream",
     "text": [
      "999044\n",
      "Average of length in text1:  3.830411128023649\n"
     ]
    }
   ],
   "source": [
    "print(sum(len(w) for w in text1)) # prints the total of the characters in text1\n",
    "print('Average of length in text1: ', sum(len(w) for w in text1) / len(text1))"
   ]
  },
  {
   "attachments": {},
   "cell_type": "markdown",
   "metadata": {},
   "source": [
    "**27. Define a function called `vocab_size(text)` that has a single parameter for the text, and which returns the vocabulary size of the text.**"
   ]
  },
  {
   "cell_type": "code",
   "execution_count": 17,
   "metadata": {},
   "outputs": [],
   "source": [
    "def vocab_size(text):\n",
    "    return len(set(text))"
   ]
  },
  {
   "attachments": {},
   "cell_type": "markdown",
   "metadata": {},
   "source": [
    "**28. Define a function `percent(word, text)` that calculates how often a given word occurs in a text, and expresses the result as a percentage.**"
   ]
  },
  {
   "cell_type": "code",
   "execution_count": 18,
   "metadata": {},
   "outputs": [],
   "source": [
    "def percent(word, text):\n",
    "    return 100 * text.count(word) / len(text)"
   ]
  },
  {
   "attachments": {},
   "cell_type": "markdown",
   "metadata": {},
   "source": [
    "**29. We have been using sets to store vocabularies. Try the following Python expression: `set(sent3) < set(text1)`. Experiment with this using different arguments to `set()`. What does it do? Can you think of a practical application for this?**  \n",
    "\n",
    "*A*: It checks if all of the elements of `sent3` is also an element of `text1`, as in `sent3` is a subset of `text1`  \n",
    "We could use this to compare different sentences of different books and find the common sentences or words between them"
   ]
  },
  {
   "cell_type": "code",
   "execution_count": 32,
   "metadata": {},
   "outputs": [
    {
     "name": "stdout",
     "output_type": "stream",
     "text": [
      "True\n",
      "{'God', 'created', 'beginning', 'heaven', 'and', 'earth', 'In', 'the', '.'}\n"
     ]
    }
   ],
   "source": [
    "print(set(sent3) < set(text1))\n",
    "print(set(sent3))"
   ]
  }
 ],
 "metadata": {
  "kernelspec": {
   "display_name": "Python 3",
   "language": "python",
   "name": "python3"
  },
  "language_info": {
   "codemirror_mode": {
    "name": "ipython",
    "version": 3
   },
   "file_extension": ".py",
   "mimetype": "text/x-python",
   "name": "python",
   "nbconvert_exporter": "python",
   "pygments_lexer": "ipython3",
   "version": "3.10.6"
  },
  "orig_nbformat": 4,
  "vscode": {
   "interpreter": {
    "hash": "e7370f93d1d0cde622a1f8e1c04877d8463912d04d973331ad4851f04de6915a"
   }
  }
 },
 "nbformat": 4,
 "nbformat_minor": 2
}
